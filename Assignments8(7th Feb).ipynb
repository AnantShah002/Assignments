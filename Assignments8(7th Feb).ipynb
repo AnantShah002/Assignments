{
 "cells": [
  {
   "cell_type": "markdown",
   "id": "d430358a-a286-4757-a357-26492c0092e8",
   "metadata": {},
   "source": [
    "### Q1. You are writing code for a company. The requirement of the company is that you create a python function that will check whether the password entered by the user is correct or not. The function should take the password as input and return the string “Valid Password” if the entered password follows the below-given password guidelines else it should return “Invalid Password”.\n",
    "*  Note: 1. The Password should contain at least two uppercase letters and at least two lowercase letters.\n",
    "* 2. The Password should contain at least a number and three special characters.\n",
    "* 3. The length of the password should be 10 characters long."
   ]
  },
  {
   "cell_type": "code",
   "execution_count": 1,
   "id": "0d054325-f37c-4746-a131-24fabe385be2",
   "metadata": {},
   "outputs": [
    {
     "name": "stdin",
     "output_type": "stream",
     "text": [
      "Enter Your Password @AnantShah001#-\n"
     ]
    },
    {
     "name": "stdout",
     "output_type": "stream",
     "text": [
      "Valid Password\n"
     ]
    }
   ],
   "source": [
    "N_symbol=\"ABCDEFGHIJKLMNOPQRSTUVWXYZ\"\n",
    "check=input(\"Enter Your Password\")\n",
    "def Password(check):\n",
    "    c_upper,c_lower,num,special=0,0,0,0\n",
    "    if len(check)>=10:\n",
    "        for i in check:\n",
    "            n=0\n",
    "            for j in N_symbol:\n",
    "                # Count How many Special character in Password \n",
    "                if i!= j and i.upper()!=j and not(i.isnumeric()):\n",
    "                    n+=1\n",
    "                    # print(i,j,p)\n",
    "                    if n>25 :\n",
    "                        special+=1\n",
    "                        # print(i,special)\n",
    "                # Count How many Upper Lower Case \n",
    "                elif i==j:\n",
    "                    c_upper+=1\n",
    "                    # print(i,c_upper)\n",
    "                # Count How many Lower Cass    \n",
    "                elif i==j.lower():\n",
    "                    c_lower+=1\n",
    "                    # print(i,c_lower)\n",
    "            # Count How many Number    \n",
    "            if i.isnumeric():\n",
    "                num+=1\n",
    "                # print(i,num)\n",
    "        # Check Condition (:-Note)\n",
    "        # * Two Upper Case & Two lower Case\n",
    "        # * A Number & Three Special Sharacters\n",
    "        if c_upper>=2 and c_lower>=2 and num>=1 and special>=3 :\n",
    "            print('Valid Password')\n",
    "            # print(f\"Upper={c_upper}| Lower={c_lower}| Special={special}| Number={num}\") \n",
    "        else :\n",
    "            print('Invalid Password')\n",
    "            \n",
    "    else :\n",
    "        print('Invalid Password')\n",
    "                \n",
    "Password(check)"
   ]
  },
  {
   "cell_type": "markdown",
   "id": "b436d2b5-91b1-40b4-9cb0-8bd874b3a7ce",
   "metadata": {},
   "source": [
    "### Q2. Solve the below-given questions using at least one of the following:\n",
    "1. Lambda functioJ\n",
    "2. Filter functioJ\n",
    "3. Zap functioJ\n",
    "4. List ComprehensioI\n",
    "\n",
    "* Check if the string starts with a particular letter.\n",
    "* Check if the string is numeric.\n",
    "* Sort a list of tuples having fruit names and their quantity. [(\"mango\",99),(\"orange\",80), (\"grapes\", 1000)]\n",
    "* Find the squares of numbers from 1 to 10.\n",
    "* Find the cube root of numbers from 1 to 10.\n",
    "* Check if a given number is even.\n",
    "* Filter odd numbers from the given list.[1,2,3,4,5,6,7,8,9,10]\n",
    "* Sort a list of integers into positive and negative integers lists.[1,2,3,4,5,6,-1,-2,-3,-4,-5,0]"
   ]
  },
  {
   "cell_type": "code",
   "execution_count": 2,
   "id": "622bdb2d-499a-4fa5-ad91-27005bacbd76",
   "metadata": {},
   "outputs": [
    {
     "data": {
      "text/plain": [
       "True"
      ]
     },
     "execution_count": 2,
     "metadata": {},
     "output_type": "execute_result"
    }
   ],
   "source": [
    "# Check if the string starts with a particular letter.\n",
    "s= \"Anant is a Developer\"\n",
    "True if s[0]==\"A\" else False"
   ]
  },
  {
   "cell_type": "code",
   "execution_count": 3,
   "id": "0ced12f5-b5a1-4a0d-9be3-948e3e670ced",
   "metadata": {},
   "outputs": [
    {
     "data": {
      "text/plain": [
       "['2', '5', '1', '4']"
      ]
     },
     "execution_count": 3,
     "metadata": {},
     "output_type": "execute_result"
    }
   ],
   "source": [
    "#Check if the string is numeric.\n",
    "s=\"abc2514d\"\n",
    "list(filter(lambda x: x.isnumeric(), s))"
   ]
  },
  {
   "cell_type": "code",
   "execution_count": 4,
   "id": "6c7cecd9-8501-4c32-a8ac-efc0cf6dc539",
   "metadata": {},
   "outputs": [
    {
     "data": {
      "text/plain": [
       "False"
      ]
     },
     "execution_count": 4,
     "metadata": {},
     "output_type": "execute_result"
    }
   ],
   "source": [
    "a=lambda x: True if x.isnumeric() else False\n",
    "a(s)"
   ]
  },
  {
   "cell_type": "code",
   "execution_count": 5,
   "id": "c7629024-7c13-4247-8659-8bdcfd7d93a9",
   "metadata": {},
   "outputs": [
    {
     "data": {
      "text/plain": [
       "[('orange', 80), ('mango', 99), ('grapes', 1000)]"
      ]
     },
     "execution_count": 5,
     "metadata": {},
     "output_type": "execute_result"
    }
   ],
   "source": [
    "# Sort a list of tuples having fruit names and their quantity.\n",
    "l=[(\"mango\",99),(\"orange\",80), (\"grapes\", 1000)]\n",
    "sort = sorted(l,key = lambda s : s[1]) \n",
    "sort"
   ]
  },
  {
   "cell_type": "code",
   "execution_count": 6,
   "id": "bc492be9-5fb7-4c9b-96f5-b71151630eea",
   "metadata": {},
   "outputs": [
    {
     "data": {
      "text/plain": [
       "[1, 4, 9, 16, 25, 36, 49, 64, 81, 100]"
      ]
     },
     "execution_count": 6,
     "metadata": {},
     "output_type": "execute_result"
    }
   ],
   "source": [
    "# Find the squares of numbers from 1 to 10.\n",
    "list(map(lambda x: x**2,list(range(1,11))))"
   ]
  },
  {
   "cell_type": "code",
   "execution_count": 7,
   "id": "feb3904a-8922-42fa-94e1-52cd586f42ee",
   "metadata": {},
   "outputs": [
    {
     "name": "stdout",
     "output_type": "stream",
     "text": [
      "[1.0, 1.2599210498948732, 1.4422495703074083, 1.5874010519681994, 1.7099759466766968, 1.8171205928321397, 1.912931182772389, 2.0, 2.080083823051904, 2.154434690031884]\n"
     ]
    }
   ],
   "source": [
    "# Find the cube root of numbers from 1 to 10.\n",
    "x=list(map(lambda x:x**(1/3),list(range(1,11))))\n",
    "print(x)"
   ]
  },
  {
   "cell_type": "code",
   "execution_count": 8,
   "id": "5a069a19-80e4-4e09-b411-ed19e5c97683",
   "metadata": {},
   "outputs": [
    {
     "name": "stdout",
     "output_type": "stream",
     "text": [
      "['Odd=1', 'Even=2', 'Odd=3', 'Even=4', 'Odd=5', 'Even=6', 'Odd=7', 'Even=8', 'Odd=9', 'Even=10']\n"
     ]
    }
   ],
   "source": [
    "# Check if a given number is even.\n",
    "#Ex:-1\n",
    "l=list(map(lambda x: f\"Even={x}\" if x%2==0 else f\"Odd={x}\" ,list(range(1,11))))\n",
    "print(l)"
   ]
  },
  {
   "cell_type": "code",
   "execution_count": 9,
   "id": "678436d0-7c05-4d0d-9089-b642ebdf2d3d",
   "metadata": {},
   "outputs": [
    {
     "name": "stdin",
     "output_type": "stream",
     "text": [
      "Inter a Numer 2\n"
     ]
    },
    {
     "data": {
      "text/plain": [
       "'Even'"
      ]
     },
     "execution_count": 9,
     "metadata": {},
     "output_type": "execute_result"
    }
   ],
   "source": [
    "#Ex:-2\n",
    "s=int(input(\"Inter a Numer\"))\n",
    "l=lambda x: \"Even\" if x%2==0 else \"Odd\"\n",
    "l(s)"
   ]
  },
  {
   "cell_type": "code",
   "execution_count": 10,
   "id": "2e52e5e9-ed41-42e0-a8f7-f6452ecbc1ff",
   "metadata": {},
   "outputs": [
    {
     "data": {
      "text/plain": [
       "[2, 4, 6, 8, 10]"
      ]
     },
     "execution_count": 10,
     "metadata": {},
     "output_type": "execute_result"
    }
   ],
   "source": [
    "# Filter odd numbers from the given list.\n",
    "l=[1,2,3,4,5,6,7,8,9,10]\n",
    "list(filter(lambda x : x%2==0,l))"
   ]
  },
  {
   "cell_type": "code",
   "execution_count": 11,
   "id": "da6bf5aa-7709-461e-ae9d-f02a9d739961",
   "metadata": {},
   "outputs": [
    {
     "name": "stdout",
     "output_type": "stream",
     "text": [
      "[1, 2, 3, 4, 5, 6] \n",
      " [-1, -2, -3, -4, -5]\n"
     ]
    }
   ],
   "source": [
    "# Sort a list of integers into positive and negative integers lists.\n",
    "from functools import reduce  \n",
    "l=[1,2,3,4,5,6,-1,-2,-3,-4,-5,0]\n",
    "neg=list(filter(lambda x : x<0 , l))\n",
    "pos=list(filter(lambda x: x>0 ,l))\n",
    "print(f\"{pos} \\n {neg}\")"
   ]
  }
 ],
 "metadata": {
  "kernelspec": {
   "display_name": "Python 3 (ipykernel)",
   "language": "python",
   "name": "python3"
  },
  "language_info": {
   "codemirror_mode": {
    "name": "ipython",
    "version": 3
   },
   "file_extension": ".py",
   "mimetype": "text/x-python",
   "name": "python",
   "nbconvert_exporter": "python",
   "pygments_lexer": "ipython3",
   "version": "3.10.8"
  }
 },
 "nbformat": 4,
 "nbformat_minor": 5
}
