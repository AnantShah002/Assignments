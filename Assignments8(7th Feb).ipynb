{
 "cells": [
  {
   "cell_type": "markdown",
   "id": "d430358a-a286-4757-a357-26492c0092e8",
   "metadata": {},
   "source": [
    "### Q1. You are writing code for a company. The requirement of the company is that you create a python function that will check whether the password entered by the user is correct or not. The function should take the password as input and return the string “Valid Password” if the entered password follows the below-given password guidelines else it should return “Invalid Password”.\n",
    "*  Note: 1. The Password should contain at least two uppercase letters and at least two lowercase letters.\n",
    "* 2. The Password should contain at least a number and three special characters.\n",
    "* 3. The length of the password should be 10 characters long."
   ]
  },
  {
   "cell_type": "code",
   "execution_count": 1,
   "id": "80a919a3-33a0-4fc6-baf2-b3369fed3c3e",
   "metadata": {},
   "outputs": [
    {
     "name": "stdin",
     "output_type": "stream",
     "text": [
      "Enter Your Password @AnantShah001#-\n"
     ]
    },
    {
     "name": "stdout",
     "output_type": "stream",
     "text": [
      "@AnantShah001#-\n",
      "Valid Password\n"
     ]
    }
   ],
   "source": [
    "check=input(\"Enter Your Password\")\n",
    "symbol=['\"',\"!\",\"#\",\"$\",\"%\",\"&\",\"'\",\"(\",\")\",\"*\",\"+\",\"-\",\".\",\"/\",\":\",\";\",\"<\",\"=\",\">\",\"?\",\",\",\"@\",\"[\",\"]\",\"^\",\"_\",\"`\",\"{\",\"|\",\"}\",\"~\"]\n",
    "\n",
    "def password(chack):\n",
    "    lower_cass,upper_cass,number,special=0,0,0,0\n",
    "    if len(chack)>=10: # check length grather then 10\n",
    "        for i in chack: \n",
    "            # print(i)\n",
    "            # all  Special character is grater then 3 the stop for loop b/s condition True\n",
    "            for j in symbol:\n",
    "                if i==j:\n",
    "                    special+=1\n",
    "                    # print(j,\"**\",special)\n",
    "                    if special>=3:\n",
    "                        break\n",
    "            # count Number, Upper cass and lowe cass in password            \n",
    "            if i.isnumeric():\n",
    "                number+=1        \n",
    "            elif i==i.upper() and i!=j:\n",
    "                upper_cass+=1\n",
    "            elif i==i.lower() and i!=j  :\n",
    "                lower_cass+=1\n",
    "            \n",
    "        # check uper and lower case later have at least two character or not\n",
    "        # And check special character is grater tnat 3 or not and also a number have or not in user passowrd\n",
    "        if lower_cass>=2 and upper_cass>=2 and special>=3 and number>=1:\n",
    "            print(check)\n",
    "            print(\"Valid Password\")\n",
    "        \n",
    "        else :\n",
    "            print(check)\n",
    "            print(\"Invalid Password\")\n",
    "            \n",
    "    else:\n",
    "        print(check)\n",
    "        print(\"Invalid Password\") \n",
    "password(check) "
   ]
  },
  {
   "cell_type": "markdown",
   "id": "b436d2b5-91b1-40b4-9cb0-8bd874b3a7ce",
   "metadata": {},
   "source": [
    "### Q2. Solve the below-given questions using at least one of the following:\n",
    "1. Lambda functioJ\n",
    "2. Filter functioJ\n",
    "3. Zap functioJ\n",
    "4. List ComprehensioI\n",
    "\n",
    "* Check if the string starts with a particular letter.\n",
    "* Check if the string is numeric.\n",
    "* Sort a list of tuples having fruit names and their quantity. [(\"mango\",99),(\"orange\",80), (\"grapes\", 1000)]\n",
    "* Find the squares of numbers from 1 to 10.\n",
    "* Find the cube root of numbers from 1 to 10.\n",
    "* Check if a given number is even.\n",
    "* Filter odd numbers from the given list.[1,2,3,4,5,6,7,8,9,10]\n",
    "* Sort a list of integers into positive and negative integers lists.[1,2,3,4,5,6,-1,-2,-3,-4,-5,0]"
   ]
  },
  {
   "cell_type": "code",
   "execution_count": 2,
   "id": "622bdb2d-499a-4fa5-ad91-27005bacbd76",
   "metadata": {},
   "outputs": [
    {
     "data": {
      "text/plain": [
       "True"
      ]
     },
     "execution_count": 2,
     "metadata": {},
     "output_type": "execute_result"
    }
   ],
   "source": [
    "# Check if the string starts with a particular letter.\n",
    "s= \"Anant is a Developer\"\n",
    "s.startswith(\"Anant\")"
   ]
  },
  {
   "cell_type": "code",
   "execution_count": 3,
   "id": "0ced12f5-b5a1-4a0d-9be3-948e3e670ced",
   "metadata": {},
   "outputs": [
    {
     "data": {
      "text/plain": [
       "['2', '5', '1', '4']"
      ]
     },
     "execution_count": 3,
     "metadata": {},
     "output_type": "execute_result"
    }
   ],
   "source": [
    "#Check if the string is numeric.\n",
    "s=\"abc2514d\"\n",
    "list(filter(lambda x: x.isnumeric(), s))"
   ]
  },
  {
   "cell_type": "code",
   "execution_count": 4,
   "id": "6c7cecd9-8501-4c32-a8ac-efc0cf6dc539",
   "metadata": {},
   "outputs": [
    {
     "data": {
      "text/plain": [
       "'abc2514d'"
      ]
     },
     "execution_count": 4,
     "metadata": {},
     "output_type": "execute_result"
    }
   ],
   "source": [
    "a=lambda x: x if x.isnumeric() else x\n",
    "a(s)"
   ]
  },
  {
   "cell_type": "code",
   "execution_count": 5,
   "id": "c7629024-7c13-4247-8659-8bdcfd7d93a9",
   "metadata": {},
   "outputs": [
    {
     "data": {
      "text/plain": [
       "[('orange', 80), ('mango', 99), ('grapes', 1000)]"
      ]
     },
     "execution_count": 5,
     "metadata": {},
     "output_type": "execute_result"
    }
   ],
   "source": [
    "# Sort a list of tuples having fruit names and their quantity.\n",
    "l=[(\"mango\",99),(\"orange\",80), (\"grapes\", 1000)]\n",
    "sort = sorted(l,key = lambda s : s[1]) \n",
    "sort"
   ]
  },
  {
   "cell_type": "code",
   "execution_count": 6,
   "id": "bc492be9-5fb7-4c9b-96f5-b71151630eea",
   "metadata": {},
   "outputs": [
    {
     "data": {
      "text/plain": [
       "[1, 4, 9, 16, 25, 36, 49, 64, 81, 100]"
      ]
     },
     "execution_count": 6,
     "metadata": {},
     "output_type": "execute_result"
    }
   ],
   "source": [
    "# Find the squares of numbers from 1 to 10.\n",
    "list(map(lambda x: x**2,list(range(1,11))))"
   ]
  },
  {
   "cell_type": "code",
   "execution_count": 7,
   "id": "feb3904a-8922-42fa-94e1-52cd586f42ee",
   "metadata": {},
   "outputs": [
    {
     "data": {
      "text/plain": [
       "[1, 8, 27, 64, 125, 216, 343, 512, 729, 1000]"
      ]
     },
     "execution_count": 7,
     "metadata": {},
     "output_type": "execute_result"
    }
   ],
   "source": [
    "# Find the cube root of numbers from 1 to 10.\n",
    "list(map(lambda x:x**3,list(range(1,11))))"
   ]
  },
  {
   "cell_type": "code",
   "execution_count": 8,
   "id": "5a069a19-80e4-4e09-b411-ed19e5c97683",
   "metadata": {},
   "outputs": [
    {
     "name": "stdout",
     "output_type": "stream",
     "text": [
      "['Odd=1', 'Even=2', 'Odd=3', 'Even=4', 'Odd=5', 'Even=6', 'Odd=7', 'Even=8', 'Odd=9', 'Even=10']\n"
     ]
    }
   ],
   "source": [
    "# Check if a given number is even.\n",
    "#Ex:-1\n",
    "l=list(map(lambda x: f\"Even={x}\" if x%2==0 else f\"Odd={x}\" ,list(range(1,11))))\n",
    "print(l)"
   ]
  },
  {
   "cell_type": "code",
   "execution_count": 9,
   "id": "678436d0-7c05-4d0d-9089-b642ebdf2d3d",
   "metadata": {},
   "outputs": [
    {
     "name": "stdin",
     "output_type": "stream",
     "text": [
      "Inter a Numer 5\n"
     ]
    },
    {
     "data": {
      "text/plain": [
       "'Odd'"
      ]
     },
     "execution_count": 9,
     "metadata": {},
     "output_type": "execute_result"
    }
   ],
   "source": [
    "#Ex:-2\n",
    "s=int(input(\"Inter a Numer\"))\n",
    "l=lambda x: \"Even\" if x%2==0 else \"Odd\"\n",
    "l(s)"
   ]
  },
  {
   "cell_type": "code",
   "execution_count": 10,
   "id": "2e52e5e9-ed41-42e0-a8f7-f6452ecbc1ff",
   "metadata": {},
   "outputs": [
    {
     "data": {
      "text/plain": [
       "[2, 4, 6, 8, 10]"
      ]
     },
     "execution_count": 10,
     "metadata": {},
     "output_type": "execute_result"
    }
   ],
   "source": [
    "# Filter odd numbers from the given list.\n",
    "l=[1,2,3,4,5,6,7,8,9,10]\n",
    "[ i for i in l if i%2==0 ]"
   ]
  },
  {
   "cell_type": "code",
   "execution_count": 11,
   "id": "da6bf5aa-7709-461e-ae9d-f02a9d739961",
   "metadata": {},
   "outputs": [
    {
     "name": "stdout",
     "output_type": "stream",
     "text": [
      "[1, 2, 3, 4, 5, 6] \n",
      " [-1, -2, -3, -4, -5]\n"
     ]
    }
   ],
   "source": [
    "# Sort a list of integers into positive and negative integers lists.\n",
    "from functools import reduce  \n",
    "l=[1,2,3,4,5,6,-1,-2,-3,-4,-5,0]\n",
    "neg=list(filter(lambda x : x<0 , l))\n",
    "pos=list(filter(lambda x: x>0 ,l))\n",
    "print(f\"{pos} \\n {neg}\")"
   ]
  }
 ],
 "metadata": {
  "kernelspec": {
   "display_name": "Python 3 (ipykernel)",
   "language": "python",
   "name": "python3"
  },
  "language_info": {
   "codemirror_mode": {
    "name": "ipython",
    "version": 3
   },
   "file_extension": ".py",
   "mimetype": "text/x-python",
   "name": "python",
   "nbconvert_exporter": "python",
   "pygments_lexer": "ipython3",
   "version": "3.10.8"
  }
 },
 "nbformat": 4,
 "nbformat_minor": 5
}
