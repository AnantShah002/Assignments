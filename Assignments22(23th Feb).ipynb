{
 "cells": [
  {
   "cell_type": "markdown",
   "id": "ee23163f-9478-44a8-a4e0-db4fd7327051",
   "metadata": {},
   "source": [
    "### Q1. Create a Pandas Series that contains the following data: 4, 8, 15, 16, 23, and 42. Then, print the series.\n"
   ]
  },
  {
   "cell_type": "code",
   "execution_count": 1,
   "id": "eac636e6-2c03-4cdd-b20d-8c1a312e5af6",
   "metadata": {},
   "outputs": [],
   "source": [
    "# Import Pandas \n",
    "import pandas as pd \n",
    "import logging\n",
    "\n",
    "logging.basicConfig(filename=\"text.log\",level =logging.INFO)"
   ]
  },
  {
   "cell_type": "code",
   "execution_count": 2,
   "id": "405bbf2f-6388-42ae-977c-410df08af9f7",
   "metadata": {},
   "outputs": [
    {
     "data": {
      "text/plain": [
       "0     4\n",
       "1     8\n",
       "2    15\n",
       "3    16\n",
       "4    23\n",
       "5    42\n",
       "dtype: int64"
      ]
     },
     "execution_count": 2,
     "metadata": {},
     "output_type": "execute_result"
    }
   ],
   "source": [
    "data= [4,8,15,16,23,42]\n",
    "df=pd.Series(data)\n",
    "\n",
    "logging.info(\"Data in series \" + str(df) )\n",
    "df"
   ]
  },
  {
   "cell_type": "markdown",
   "id": "39f5f0a6-c928-4f1d-b6b0-8475f2d70a29",
   "metadata": {},
   "source": [
    "### Q2. Create a variable of list type containing 10 elements in it, and apply pandas.Series function on the variable print it.\n"
   ]
  },
  {
   "cell_type": "code",
   "execution_count": 3,
   "id": "137d538d-7d50-44fc-bf25-e66b8592c356",
   "metadata": {},
   "outputs": [
    {
     "data": {
      "text/plain": [
       "0        Raj\n",
       "1      Mohan\n",
       "2      Priti\n",
       "3     Saloni\n",
       "4     Shruti\n",
       "5    Shivani\n",
       "6       Aman\n",
       "7       Amar\n",
       "8      Anant\n",
       "9      Nidhi\n",
       "dtype: object"
      ]
     },
     "execution_count": 3,
     "metadata": {},
     "output_type": "execute_result"
    }
   ],
   "source": [
    "data1=[\"Raj\",\"Mohan\",\"Priti\",\"Saloni\",\"Shruti\",\"Shivani\",\"Aman\",\"Amar\",\"Anant\",\"Nidhi\"]\n",
    "df1=pd.Series(data1)\n",
    "\n",
    "logging.info(\"Data1 in series \" + str(df1) )\n",
    "df1"
   ]
  },
  {
   "cell_type": "markdown",
   "id": "a22f94bf-7201-4282-b5a3-817e5e4ed431",
   "metadata": {},
   "source": [
    "### Q3. Create a Pandas DataFrame that contains the following data:\n",
    "|**Name** | **Age** | **Gender** |\n",
    "|---|---|---|\n",
    "| Alic |  25 | Female | \n",
    "|  Bob |  30 |  Male  |\n",
    "|Claire|  27 | Female |\n",
    "\n",
    "Then, print the DataFrame.\n"
   ]
  },
  {
   "cell_type": "code",
   "execution_count": 4,
   "id": "31e2beea-2e78-4030-9ebb-8013c580770c",
   "metadata": {},
   "outputs": [
    {
     "data": {
      "text/html": [
       "<div>\n",
       "<style scoped>\n",
       "    .dataframe tbody tr th:only-of-type {\n",
       "        vertical-align: middle;\n",
       "    }\n",
       "\n",
       "    .dataframe tbody tr th {\n",
       "        vertical-align: top;\n",
       "    }\n",
       "\n",
       "    .dataframe thead th {\n",
       "        text-align: right;\n",
       "    }\n",
       "</style>\n",
       "<table border=\"1\" class=\"dataframe\">\n",
       "  <thead>\n",
       "    <tr style=\"text-align: right;\">\n",
       "      <th></th>\n",
       "      <th>Name</th>\n",
       "      <th>Age</th>\n",
       "      <th>Gender</th>\n",
       "    </tr>\n",
       "  </thead>\n",
       "  <tbody>\n",
       "    <tr>\n",
       "      <th>0</th>\n",
       "      <td>Alice</td>\n",
       "      <td>25</td>\n",
       "      <td>Female</td>\n",
       "    </tr>\n",
       "    <tr>\n",
       "      <th>1</th>\n",
       "      <td>Bob</td>\n",
       "      <td>30</td>\n",
       "      <td>Male</td>\n",
       "    </tr>\n",
       "    <tr>\n",
       "      <th>2</th>\n",
       "      <td>Claire</td>\n",
       "      <td>27</td>\n",
       "      <td>Female</td>\n",
       "    </tr>\n",
       "  </tbody>\n",
       "</table>\n",
       "</div>"
      ],
      "text/plain": [
       "     Name  Age  Gender\n",
       "0   Alice   25  Female\n",
       "1     Bob   30    Male\n",
       "2  Claire   27  Female"
      ]
     },
     "execution_count": 4,
     "metadata": {},
     "output_type": "execute_result"
    }
   ],
   "source": [
    "data2 = {'Name':['Alice','Bob','Claire'],\n",
    "        'Age':[25,30,27],\n",
    "        'Gender':['Female','Male','Female']}\n",
    "\n",
    "df2 = pd.DataFrame(data2)\n",
    "\n",
    "logging.info(\"Data2 in Data Frame \" + str(df2) )\n",
    "df2"
   ]
  },
  {
   "cell_type": "markdown",
   "id": "a37ac0b2-1b1d-4f86-85d9-8c332f5baec2",
   "metadata": {},
   "source": [
    "### Q4. What is ‘DataFrame’ in pandas and how is it different from pandas.series? Explain with an example.\n",
    "\n",
    "### Ans)\n",
    "\n",
    "\n",
    "* **Pandas Series** is a one-dimensional labeled array whose object size cannot be changed. You can also see it as the primary building block for a DataFrame, making up its rows and columns. \n",
    "> **Series:-** 1D labeled array\n",
    "1. One-dimensional\n",
    "2. Homogenous – Series elements must be of the same data type.\n",
    "3. Size-immutable – Once created, the size of a Series object cannot be changed.\n",
    "\n",
    "* **Pandas DataFrame** Is a two-dimensional structure with columns and rows whose size can be changed. You can also think of it as a dictionary of Series objects. \n",
    "> **DataFrame:-** 2D labeled tabular structure\n",
    "1. Two-dimensional\n",
    "2. Heterogenous – DataFrame elements can have different data types.\n",
    "3. Size-mutable – Elements can be dropped or added in an existing DataFrame."
   ]
  },
  {
   "cell_type": "code",
   "execution_count": 5,
   "id": "b613eeb5-875d-4828-8843-3e969ecdd37b",
   "metadata": {},
   "outputs": [
    {
     "data": {
      "text/plain": [
       "(pandas.core.series.Series,\n",
       " 0        Raj\n",
       " 1      Mohan\n",
       " 2      Priti\n",
       " 3     Saloni\n",
       " 4     Shruti\n",
       " 5    Shivani\n",
       " 6       Aman\n",
       " 7       Amar\n",
       " 8      Anant\n",
       " 9      Nidhi\n",
       " dtype: object)"
      ]
     },
     "execution_count": 5,
     "metadata": {},
     "output_type": "execute_result"
    }
   ],
   "source": [
    "# Example:- series\n",
    "type(df1),df1"
   ]
  },
  {
   "cell_type": "code",
   "execution_count": 6,
   "id": "7c4b5cc4-ae81-4e5c-9893-22f52f208098",
   "metadata": {},
   "outputs": [
    {
     "name": "stdout",
     "output_type": "stream",
     "text": [
      "<class 'pandas.core.frame.DataFrame'>\n"
     ]
    },
    {
     "data": {
      "text/html": [
       "<div>\n",
       "<style scoped>\n",
       "    .dataframe tbody tr th:only-of-type {\n",
       "        vertical-align: middle;\n",
       "    }\n",
       "\n",
       "    .dataframe tbody tr th {\n",
       "        vertical-align: top;\n",
       "    }\n",
       "\n",
       "    .dataframe thead th {\n",
       "        text-align: right;\n",
       "    }\n",
       "</style>\n",
       "<table border=\"1\" class=\"dataframe\">\n",
       "  <thead>\n",
       "    <tr style=\"text-align: right;\">\n",
       "      <th></th>\n",
       "      <th>Name</th>\n",
       "      <th>Age</th>\n",
       "      <th>Gender</th>\n",
       "    </tr>\n",
       "  </thead>\n",
       "  <tbody>\n",
       "    <tr>\n",
       "      <th>0</th>\n",
       "      <td>Alice</td>\n",
       "      <td>25</td>\n",
       "      <td>Female</td>\n",
       "    </tr>\n",
       "    <tr>\n",
       "      <th>1</th>\n",
       "      <td>Bob</td>\n",
       "      <td>30</td>\n",
       "      <td>Male</td>\n",
       "    </tr>\n",
       "    <tr>\n",
       "      <th>2</th>\n",
       "      <td>Claire</td>\n",
       "      <td>27</td>\n",
       "      <td>Female</td>\n",
       "    </tr>\n",
       "  </tbody>\n",
       "</table>\n",
       "</div>"
      ],
      "text/plain": [
       "     Name  Age  Gender\n",
       "0   Alice   25  Female\n",
       "1     Bob   30    Male\n",
       "2  Claire   27  Female"
      ]
     },
     "execution_count": 6,
     "metadata": {},
     "output_type": "execute_result"
    }
   ],
   "source": [
    "# Example:- DataFrame\n",
    "print(type(df2))\n",
    "df2"
   ]
  },
  {
   "cell_type": "markdown",
   "id": "4a378448-50d3-445c-a793-fa9fea9e8ca7",
   "metadata": {},
   "source": [
    "### Q5. What are some common functions you can use to manipulate data in a Pandas DataFrame? Can you give an example of when you might use one of these functions?\n"
   ]
  },
  {
   "cell_type": "code",
   "execution_count": 7,
   "id": "623145de-df9f-4065-8277-13e6f943cc27",
   "metadata": {},
   "outputs": [
    {
     "data": {
      "text/html": [
       "<div>\n",
       "<style scoped>\n",
       "    .dataframe tbody tr th:only-of-type {\n",
       "        vertical-align: middle;\n",
       "    }\n",
       "\n",
       "    .dataframe tbody tr th {\n",
       "        vertical-align: top;\n",
       "    }\n",
       "\n",
       "    .dataframe thead th {\n",
       "        text-align: right;\n",
       "    }\n",
       "</style>\n",
       "<table border=\"1\" class=\"dataframe\">\n",
       "  <thead>\n",
       "    <tr style=\"text-align: right;\">\n",
       "      <th></th>\n",
       "      <th>Name</th>\n",
       "      <th>Age</th>\n",
       "      <th>collage</th>\n",
       "    </tr>\n",
       "  </thead>\n",
       "  <tbody>\n",
       "    <tr>\n",
       "      <th>0</th>\n",
       "      <td>Raj</td>\n",
       "      <td>24</td>\n",
       "      <td>BSC</td>\n",
       "    </tr>\n",
       "    <tr>\n",
       "      <th>1</th>\n",
       "      <td>Mohan</td>\n",
       "      <td>28</td>\n",
       "      <td>BBA</td>\n",
       "    </tr>\n",
       "    <tr>\n",
       "      <th>2</th>\n",
       "      <td>Priti</td>\n",
       "      <td>22</td>\n",
       "      <td>B.com</td>\n",
       "    </tr>\n",
       "    <tr>\n",
       "      <th>3</th>\n",
       "      <td>Saloni</td>\n",
       "      <td>24</td>\n",
       "      <td>MBA</td>\n",
       "    </tr>\n",
       "    <tr>\n",
       "      <th>4</th>\n",
       "      <td>Shruti</td>\n",
       "      <td>21</td>\n",
       "      <td>BCA</td>\n",
       "    </tr>\n",
       "    <tr>\n",
       "      <th>5</th>\n",
       "      <td>Shivani</td>\n",
       "      <td>25</td>\n",
       "      <td>MSC</td>\n",
       "    </tr>\n",
       "    <tr>\n",
       "      <th>6</th>\n",
       "      <td>Aman</td>\n",
       "      <td>23</td>\n",
       "      <td>MBA</td>\n",
       "    </tr>\n",
       "    <tr>\n",
       "      <th>7</th>\n",
       "      <td>Amar</td>\n",
       "      <td>23</td>\n",
       "      <td>M.com</td>\n",
       "    </tr>\n",
       "    <tr>\n",
       "      <th>8</th>\n",
       "      <td>Anant</td>\n",
       "      <td>22</td>\n",
       "      <td>MCA</td>\n",
       "    </tr>\n",
       "    <tr>\n",
       "      <th>9</th>\n",
       "      <td>Nidhi</td>\n",
       "      <td>20</td>\n",
       "      <td>None</td>\n",
       "    </tr>\n",
       "  </tbody>\n",
       "</table>\n",
       "</div>"
      ],
      "text/plain": [
       "      Name  Age collage\n",
       "0      Raj   24     BSC\n",
       "1    Mohan   28     BBA\n",
       "2    Priti   22   B.com\n",
       "3   Saloni   24     MBA\n",
       "4   Shruti   21     BCA\n",
       "5  Shivani   25     MSC\n",
       "6     Aman   23     MBA\n",
       "7     Amar   23   M.com\n",
       "8    Anant   22     MCA\n",
       "9    Nidhi   20    None"
      ]
     },
     "execution_count": 7,
     "metadata": {},
     "output_type": "execute_result"
    }
   ],
   "source": [
    "data3= {\"Name\":data1,\n",
    "       \"Age\":[24,28,22,24,21,25,23,23,22,20],\n",
    "       \"collage\":[\"BSC\",\"BBA\",\"B.com\",\"MBA\",\"BCA\",\"MSC\",\"MBA\",\"M.com\",\"MCA\",None]}\n",
    "df3=pd.DataFrame(data3)\n",
    "\n",
    "logging.info(\"Data3 in Data Frame \" + str(df3) )\n",
    "df3"
   ]
  },
  {
   "cell_type": "code",
   "execution_count": 8,
   "id": "1914e30d-6ccd-40be-b9f9-7c80fe7617f1",
   "metadata": {},
   "outputs": [
    {
     "data": {
      "text/html": [
       "<div>\n",
       "<style scoped>\n",
       "    .dataframe tbody tr th:only-of-type {\n",
       "        vertical-align: middle;\n",
       "    }\n",
       "\n",
       "    .dataframe tbody tr th {\n",
       "        vertical-align: top;\n",
       "    }\n",
       "\n",
       "    .dataframe thead th {\n",
       "        text-align: right;\n",
       "    }\n",
       "</style>\n",
       "<table border=\"1\" class=\"dataframe\">\n",
       "  <thead>\n",
       "    <tr style=\"text-align: right;\">\n",
       "      <th></th>\n",
       "      <th>Name</th>\n",
       "      <th>Age</th>\n",
       "      <th>collage</th>\n",
       "    </tr>\n",
       "  </thead>\n",
       "  <tbody>\n",
       "    <tr>\n",
       "      <th>0</th>\n",
       "      <td>Raj</td>\n",
       "      <td>24</td>\n",
       "      <td>BSC</td>\n",
       "    </tr>\n",
       "    <tr>\n",
       "      <th>1</th>\n",
       "      <td>Mohan</td>\n",
       "      <td>28</td>\n",
       "      <td>BBA</td>\n",
       "    </tr>\n",
       "    <tr>\n",
       "      <th>2</th>\n",
       "      <td>Priti</td>\n",
       "      <td>22</td>\n",
       "      <td>B.com</td>\n",
       "    </tr>\n",
       "    <tr>\n",
       "      <th>3</th>\n",
       "      <td>Saloni</td>\n",
       "      <td>24</td>\n",
       "      <td>MBA</td>\n",
       "    </tr>\n",
       "    <tr>\n",
       "      <th>4</th>\n",
       "      <td>Shruti</td>\n",
       "      <td>21</td>\n",
       "      <td>BCA</td>\n",
       "    </tr>\n",
       "  </tbody>\n",
       "</table>\n",
       "</div>"
      ],
      "text/plain": [
       "     Name  Age collage\n",
       "0     Raj   24     BSC\n",
       "1   Mohan   28     BBA\n",
       "2   Priti   22   B.com\n",
       "3  Saloni   24     MBA\n",
       "4  Shruti   21     BCA"
      ]
     },
     "execution_count": 8,
     "metadata": {},
     "output_type": "execute_result"
    }
   ],
   "source": [
    "# Head\n",
    "df3.head()"
   ]
  },
  {
   "cell_type": "code",
   "execution_count": 9,
   "id": "7f7d988e-1397-4392-ae74-165d7084f454",
   "metadata": {},
   "outputs": [
    {
     "data": {
      "text/html": [
       "<div>\n",
       "<style scoped>\n",
       "    .dataframe tbody tr th:only-of-type {\n",
       "        vertical-align: middle;\n",
       "    }\n",
       "\n",
       "    .dataframe tbody tr th {\n",
       "        vertical-align: top;\n",
       "    }\n",
       "\n",
       "    .dataframe thead th {\n",
       "        text-align: right;\n",
       "    }\n",
       "</style>\n",
       "<table border=\"1\" class=\"dataframe\">\n",
       "  <thead>\n",
       "    <tr style=\"text-align: right;\">\n",
       "      <th></th>\n",
       "      <th>Name</th>\n",
       "      <th>Age</th>\n",
       "      <th>collage</th>\n",
       "    </tr>\n",
       "  </thead>\n",
       "  <tbody>\n",
       "    <tr>\n",
       "      <th>5</th>\n",
       "      <td>Shivani</td>\n",
       "      <td>25</td>\n",
       "      <td>MSC</td>\n",
       "    </tr>\n",
       "    <tr>\n",
       "      <th>6</th>\n",
       "      <td>Aman</td>\n",
       "      <td>23</td>\n",
       "      <td>MBA</td>\n",
       "    </tr>\n",
       "    <tr>\n",
       "      <th>7</th>\n",
       "      <td>Amar</td>\n",
       "      <td>23</td>\n",
       "      <td>M.com</td>\n",
       "    </tr>\n",
       "    <tr>\n",
       "      <th>8</th>\n",
       "      <td>Anant</td>\n",
       "      <td>22</td>\n",
       "      <td>MCA</td>\n",
       "    </tr>\n",
       "    <tr>\n",
       "      <th>9</th>\n",
       "      <td>Nidhi</td>\n",
       "      <td>20</td>\n",
       "      <td>None</td>\n",
       "    </tr>\n",
       "  </tbody>\n",
       "</table>\n",
       "</div>"
      ],
      "text/plain": [
       "      Name  Age collage\n",
       "5  Shivani   25     MSC\n",
       "6     Aman   23     MBA\n",
       "7     Amar   23   M.com\n",
       "8    Anant   22     MCA\n",
       "9    Nidhi   20    None"
      ]
     },
     "execution_count": 9,
     "metadata": {},
     "output_type": "execute_result"
    }
   ],
   "source": [
    "# Tail\n",
    "df3.tail()"
   ]
  },
  {
   "cell_type": "code",
   "execution_count": 10,
   "id": "13d317a4-21e6-47f3-bcd3-588fcd0117b0",
   "metadata": {},
   "outputs": [
    {
     "data": {
      "text/plain": [
       "Name       object\n",
       "Age         int64\n",
       "collage    object\n",
       "dtype: object"
      ]
     },
     "execution_count": 10,
     "metadata": {},
     "output_type": "execute_result"
    }
   ],
   "source": [
    "# Dtypes\n",
    "df3.dtypes"
   ]
  },
  {
   "cell_type": "code",
   "execution_count": 11,
   "id": "3cce3e5f-ddb7-41a7-9a2d-41d06b8df82d",
   "metadata": {},
   "outputs": [
    {
     "data": {
      "text/plain": [
       "Index(['Name', 'Age', 'collage'], dtype='object')"
      ]
     },
     "execution_count": 11,
     "metadata": {},
     "output_type": "execute_result"
    }
   ],
   "source": [
    "# Columns\n",
    "df3.columns"
   ]
  },
  {
   "cell_type": "code",
   "execution_count": 12,
   "id": "d98d027d-31eb-442d-9bc8-315c8f02b514",
   "metadata": {},
   "outputs": [
    {
     "data": {
      "text/plain": [
       "(10, 3)"
      ]
     },
     "execution_count": 12,
     "metadata": {},
     "output_type": "execute_result"
    }
   ],
   "source": [
    "# Shape \n",
    "df3.shape"
   ]
  },
  {
   "cell_type": "code",
   "execution_count": 13,
   "id": "bc0d9c12-7d5a-4681-9150-910caadaa170",
   "metadata": {},
   "outputs": [
    {
     "data": {
      "text/plain": [
       "30"
      ]
     },
     "execution_count": 13,
     "metadata": {},
     "output_type": "execute_result"
    }
   ],
   "source": [
    "# Size\n",
    "df3.size"
   ]
  },
  {
   "cell_type": "code",
   "execution_count": 14,
   "id": "2332b17d-7eff-4c0e-b488-343cadc0e6d8",
   "metadata": {},
   "outputs": [
    {
     "data": {
      "text/plain": [
       "Name       0\n",
       "Age        0\n",
       "collage    1\n",
       "dtype: int64"
      ]
     },
     "execution_count": 14,
     "metadata": {},
     "output_type": "execute_result"
    }
   ],
   "source": [
    "# Null count\n",
    "df3.isnull().sum()"
   ]
  },
  {
   "cell_type": "code",
   "execution_count": 15,
   "id": "2c0af412-4f90-4710-86a0-2d27e5f66196",
   "metadata": {},
   "outputs": [
    {
     "data": {
      "text/plain": [
       "Name       10\n",
       "Age        10\n",
       "collage     9\n",
       "dtype: int64"
      ]
     },
     "execution_count": 15,
     "metadata": {},
     "output_type": "execute_result"
    }
   ],
   "source": [
    "# Count\n",
    "df3.count()"
   ]
  },
  {
   "cell_type": "code",
   "execution_count": 16,
   "id": "1c22a41b-6595-4c75-8295-625d97222836",
   "metadata": {},
   "outputs": [
    {
     "data": {
      "text/plain": [
       "Name       10\n",
       "Age         7\n",
       "collage     8\n",
       "dtype: int64"
      ]
     },
     "execution_count": 16,
     "metadata": {},
     "output_type": "execute_result"
    }
   ],
   "source": [
    "# Nunique\n",
    "df3.nunique()"
   ]
  },
  {
   "cell_type": "code",
   "execution_count": 17,
   "id": "fa874d99-dcb1-4c5e-8f97-644c1522bdb2",
   "metadata": {},
   "outputs": [
    {
     "data": {
      "text/plain": [
       "Name     Age  collage\n",
       "Aman     23   MBA        1\n",
       "Amar     23   M.com      1\n",
       "Anant    22   MCA        1\n",
       "Mohan    28   BBA        1\n",
       "Priti    22   B.com      1\n",
       "Raj      24   BSC        1\n",
       "Saloni   24   MBA        1\n",
       "Shivani  25   MSC        1\n",
       "Shruti   21   BCA        1\n",
       "dtype: int64"
      ]
     },
     "execution_count": 17,
     "metadata": {},
     "output_type": "execute_result"
    }
   ],
   "source": [
    "# Value Counts\n",
    "df3.value_counts()"
   ]
  },
  {
   "cell_type": "markdown",
   "id": "b1491fda-7236-4e64-9e55-1f4fb30ebe4d",
   "metadata": {},
   "source": [
    "### Q6. Which of the following is mutable in nature Series, DataFrame, Panel?\n",
    "\n",
    "### Ans) **Pandas Series, DataFrame and Panel** all of them are mutable but panel has been deprecated and is no longer recommended for use"
   ]
  },
  {
   "cell_type": "markdown",
   "id": "6c4d69c0-f381-417b-ace3-04e400f29c41",
   "metadata": {},
   "source": [
    "### Q7. Create a DataFrame using multiple Series. Explain with an example."
   ]
  },
  {
   "cell_type": "code",
   "execution_count": 18,
   "id": "65f8ea9c-e1fc-4d4f-aeac-d4b418775087",
   "metadata": {},
   "outputs": [
    {
     "data": {
      "text/html": [
       "<div>\n",
       "<style scoped>\n",
       "    .dataframe tbody tr th:only-of-type {\n",
       "        vertical-align: middle;\n",
       "    }\n",
       "\n",
       "    .dataframe tbody tr th {\n",
       "        vertical-align: top;\n",
       "    }\n",
       "\n",
       "    .dataframe thead th {\n",
       "        text-align: right;\n",
       "    }\n",
       "</style>\n",
       "<table border=\"1\" class=\"dataframe\">\n",
       "  <thead>\n",
       "    <tr style=\"text-align: right;\">\n",
       "      <th></th>\n",
       "      <th>d0</th>\n",
       "      <th>d1</th>\n",
       "      <th>d2</th>\n",
       "      <th>d3</th>\n",
       "    </tr>\n",
       "  </thead>\n",
       "  <tbody>\n",
       "    <tr>\n",
       "      <th>0</th>\n",
       "      <td>0</td>\n",
       "      <td>Raj</td>\n",
       "      <td>24</td>\n",
       "      <td>BSC</td>\n",
       "    </tr>\n",
       "    <tr>\n",
       "      <th>1</th>\n",
       "      <td>1</td>\n",
       "      <td>Mohan</td>\n",
       "      <td>28</td>\n",
       "      <td>BBA</td>\n",
       "    </tr>\n",
       "    <tr>\n",
       "      <th>2</th>\n",
       "      <td>2</td>\n",
       "      <td>Priti</td>\n",
       "      <td>22</td>\n",
       "      <td>B.com</td>\n",
       "    </tr>\n",
       "    <tr>\n",
       "      <th>3</th>\n",
       "      <td>3</td>\n",
       "      <td>Saloni</td>\n",
       "      <td>24</td>\n",
       "      <td>MBA</td>\n",
       "    </tr>\n",
       "    <tr>\n",
       "      <th>4</th>\n",
       "      <td>4</td>\n",
       "      <td>Shruti</td>\n",
       "      <td>21</td>\n",
       "      <td>BCA</td>\n",
       "    </tr>\n",
       "    <tr>\n",
       "      <th>5</th>\n",
       "      <td>5</td>\n",
       "      <td>Shivani</td>\n",
       "      <td>25</td>\n",
       "      <td>MSC</td>\n",
       "    </tr>\n",
       "    <tr>\n",
       "      <th>6</th>\n",
       "      <td>6</td>\n",
       "      <td>Aman</td>\n",
       "      <td>23</td>\n",
       "      <td>MBA</td>\n",
       "    </tr>\n",
       "    <tr>\n",
       "      <th>7</th>\n",
       "      <td>7</td>\n",
       "      <td>Amar</td>\n",
       "      <td>23</td>\n",
       "      <td>M.com</td>\n",
       "    </tr>\n",
       "    <tr>\n",
       "      <th>8</th>\n",
       "      <td>8</td>\n",
       "      <td>Anant</td>\n",
       "      <td>22</td>\n",
       "      <td>MCA</td>\n",
       "    </tr>\n",
       "    <tr>\n",
       "      <th>9</th>\n",
       "      <td>9</td>\n",
       "      <td>Nidhi</td>\n",
       "      <td>20</td>\n",
       "      <td>None</td>\n",
       "    </tr>\n",
       "  </tbody>\n",
       "</table>\n",
       "</div>"
      ],
      "text/plain": [
       "   d0       d1  d2     d3\n",
       "0   0      Raj  24    BSC\n",
       "1   1    Mohan  28    BBA\n",
       "2   2    Priti  22  B.com\n",
       "3   3   Saloni  24    MBA\n",
       "4   4   Shruti  21    BCA\n",
       "5   5  Shivani  25    MSC\n",
       "6   6     Aman  23    MBA\n",
       "7   7     Amar  23  M.com\n",
       "8   8    Anant  22    MCA\n",
       "9   9    Nidhi  20   None"
      ]
     },
     "execution_count": 18,
     "metadata": {},
     "output_type": "execute_result"
    }
   ],
   "source": [
    "d0= pd.Series([0,1,2,3,4,5,6,7,8,9])\n",
    "d1= pd.Series(df3[\"Name\"])\n",
    "d2= pd.Series(df3[\"Age\"])\n",
    "d3= pd.Series(df3.collage)\n",
    "\n",
    "data4= {\"d0\":d0,\"d1\":d1,\"d2\":d2,\"d3\":d3}\n",
    "df4=pd.DataFrame(data4)\n",
    "\n",
    "logging.info(\"Data4 in Data Frame \" + str(df4) )\n",
    "df4"
   ]
  }
 ],
 "metadata": {
  "kernelspec": {
   "display_name": "Python 3 (ipykernel)",
   "language": "python",
   "name": "python3"
  },
  "language_info": {
   "codemirror_mode": {
    "name": "ipython",
    "version": 3
   },
   "file_extension": ".py",
   "mimetype": "text/x-python",
   "name": "python",
   "nbconvert_exporter": "python",
   "pygments_lexer": "ipython3",
   "version": "3.10.8"
  }
 },
 "nbformat": 4,
 "nbformat_minor": 5
}
