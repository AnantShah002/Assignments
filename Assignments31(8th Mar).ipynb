{
 "cells": [
  {
   "cell_type": "markdown",
   "id": "808f0328-faad-4f8f-9345-a5e46d84d3f6",
   "metadata": {},
   "source": [
    "# Statistics Assignment"
   ]
  },
  {
   "cell_type": "markdown",
   "id": "ea57c6d0-26ba-46d2-8f5f-4067010d0bd9",
   "metadata": {},
   "source": [
    "Q1. What is the Probability density function?\n",
    "Q2. What are the types of Probability distribution?\n",
    "Q3. Write a Python function to calculate the probability density function of a normal distribution with\n",
    "given mean and standard deviation at a given point.\n",
    "Q4. What are the properties of Binomial distribution? Give two examples of events where binomial\n",
    "distribution can be applied.\n",
    "Q5. Generate a random sample of size 1000 from a binomial distribution with probability of success 0.4\n",
    "and plot a histogram of the results using matplotlib.\n",
    "Q6. Write a Python function to calculate the cumulative distribution function of a Poisson distribution\n",
    "with given mean at a given point.\n",
    "Q7. How Binomial distribution different from Poisson distribution?\n",
    "Q8. Generate a random sample of size 1000 from a Poisson distribution with mean 5 and calculate the\n",
    "sample mean and variance.\n",
    "Q9. How mean and variance are related in Binomial distribution and Poisson distribution?\n",
    "Q10. In normal distribution with respect to mean position, where does the least frequent data appear?"
   ]
  }
 ],
 "metadata": {
  "kernelspec": {
   "display_name": "Python 3 (ipykernel)",
   "language": "python",
   "name": "python3"
  },
  "language_info": {
   "codemirror_mode": {
    "name": "ipython",
    "version": 3
   },
   "file_extension": ".py",
   "mimetype": "text/x-python",
   "name": "python",
   "nbconvert_exporter": "python",
   "pygments_lexer": "ipython3",
   "version": "3.10.8"
  }
 },
 "nbformat": 4,
 "nbformat_minor": 5
}
