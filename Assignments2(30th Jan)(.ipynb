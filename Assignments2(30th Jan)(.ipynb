{
 "cells": [
  {
   "cell_type": "markdown",
   "id": "160019c4-0aa0-4a02-80f4-a59e0138bd3f",
   "metadata": {},
   "source": [
    "### Qus-1) Write a program to accept percentage from user and display the grade according to the folliwing criteria:"
   ]
  },
  {
   "cell_type": "code",
   "execution_count": 42,
   "id": "f588648d-b81f-4eaa-bcf1-99d6a3079dfd",
   "metadata": {},
   "outputs": [
    {
     "name": "stdin",
     "output_type": "stream",
     "text": [
      "Student Name Anant Shah\n",
      "Insert Persentage not in .str() 92\n"
     ]
    },
    {
     "name": "stdout",
     "output_type": "stream",
     "text": [
      "Anant Shah  :- 92.0 %\n",
      "Anant Shah  :- A Grade\n"
     ]
    }
   ],
   "source": [
    "# Making a program, grade will depend on Marks\n",
    "\n",
    "# Input student Name and Marks\n",
    "Name= input(\"Student Name\")\n",
    "Marks= float(input(\"Insert Persentage not in .str()\"))\n",
    "\n",
    "# Your Input\n",
    "print(Name,\" :-\" , Marks,\"%\")\n",
    "\n",
    "# Create a consept\n",
    "if Marks>90: # \n",
    "    print(Name,\" :- A Grade\" )\n",
    "\n",
    "elif Marks>80 and Marks<=90:\n",
    "    print(Name,\" :- B Grade\" )\n",
    "\n",
    "elif Marks>=60 and Marks<=80:\n",
    "    print(Name,\" :- C Grade\" )\n",
    "\n",
    "else:\n",
    "    print(Name,\" :- D Grade\" )"
   ]
  },
  {
   "cell_type": "markdown",
   "id": "a61b0f4d-5b07-4663-a6d3-4735d470016d",
   "metadata": {},
   "source": [
    "### Qus-2) Write a program to accept the cost price of a bike and display the road tax to be paid according to the following criteria:"
   ]
  },
  {
   "cell_type": "code",
   "execution_count": 43,
   "id": "3615591d-5cb6-47cc-83dd-4cca69e5dfdd",
   "metadata": {},
   "outputs": [
    {
     "name": "stdin",
     "output_type": "stream",
     "text": [
      "Enter Bike Cost Price(in Rs) 1000000\n"
     ]
    },
    {
     "name": "stdout",
     "output_type": "stream",
     "text": [
      "Bike Cost -  1000000.0\n",
      "Road Tax 15% :-  150000.0\n",
      "Total Cost :-  1150000.0\n"
     ]
    }
   ],
   "source": [
    "# Making a program, bike price and rood tax \n",
    "\n",
    "# Input cost\n",
    "cost= float(input(\"Enter Bike Cost Price(in Rs)\"))\n",
    "\n",
    "# your input\n",
    "print(\"Bike Cost - \",cost)\n",
    "\n",
    "# Create a consept\n",
    "if cost>100000:\n",
    "    tax= (cost*15)/100        \n",
    "    print(\"Road Tax 15% :- \",tax)\n",
    "    print(\"Total Cost :- \",cost+tax)\n",
    "\n",
    "elif cost>50000 and cost<=100000:\n",
    "    tax= (cost*10)/100    \n",
    "    print(\"Road Tax 10% :- \",tax)\n",
    "    print(\"Total Cost :- \",cost+tax)\n",
    "\n",
    "elif cost<=50000:\n",
    "    tax= (cost*5)/100    \n",
    "    print(\"Road Tax 5% :- \",tax)\n",
    "    print(\"Total Cost :- \",cost+tax)\n",
    "\n",
    "else:\n",
    "    print(\"Insert Right Bick Cost\")"
   ]
  },
  {
   "cell_type": "markdown",
   "id": "a6d4263f-20d2-4d7f-8d1b-a77ca084a750",
   "metadata": {},
   "source": [
    "### Qus-3) Accept any city from the user and display monuments of that city."
   ]
  },
  {
   "cell_type": "code",
   "execution_count": 44,
   "id": "d101997b-3e71-412e-8168-14c0b412df01",
   "metadata": {},
   "outputs": [
    {
     "name": "stdout",
     "output_type": "stream",
     "text": [
      "dict_keys(['Delhi', 'Agra', 'Jaipur'])\n"
     ]
    },
    {
     "name": "stdin",
     "output_type": "stream",
     "text": [
      "Select any city :-  j\n"
     ]
    },
    {
     "name": "stdout",
     "output_type": "stream",
     "text": [
      "Jaipur  :-  Jal Mahal\n"
     ]
    }
   ],
   "source": [
    "# Making a program, City Monuments\n",
    "\n",
    "city={\"Delhi\":\"Red Fort\",\"Agra\":\"Taj Mahal\",\"Jaipur\":\"Jal Mahal\"}\n",
    "print(city.keys())\n",
    "\n",
    "# Input city\n",
    "select=input(\"Select any city :- \").upper()\n",
    "\n",
    "#Create Logick \n",
    "for i in (city.keys()):\n",
    "    if i[0]==select[0]:\n",
    "        print(i,\" :- \",city[i])\n",
    "    else:\n",
    "        pass\n"
   ]
  },
  {
   "cell_type": "markdown",
   "id": "76614000-4c99-4b05-aa06-b8f731e995c8",
   "metadata": {},
   "source": [
    "### Qus-4) Check how many times a given number can be divided by 3 before it is less than or equal to 10"
   ]
  },
  {
   "cell_type": "code",
   "execution_count": 39,
   "id": "f3b377ff-e17d-4701-ab32-82426aa19dab",
   "metadata": {},
   "outputs": [
    {
     "name": "stdout",
     "output_type": "stream",
     "text": [
      "i=3 | count=1\n",
      "i=6 | count=2\n",
      "i=9 | count=3\n"
     ]
    }
   ],
   "source": [
    "i=0\n",
    "count=0\n",
    "while i<=10:\n",
    "    i+=1\n",
    "    while i%3==0:\n",
    "        num=i/3\n",
    "        count+=1\n",
    "        print(f\"i={i} | count={count}\")\n",
    "        break\n",
    "    # print(i)"
   ]
  },
  {
   "cell_type": "markdown",
   "id": "95e6cfa1-b035-43c7-9886-3ce3b6866d1b",
   "metadata": {},
   "source": [
    "### Qus-5) Why and when to use while loop in python give a detailed description with example\n",
    "\n",
    "#### Ans-5) \n",
    "* > **While loop:-** Is used to execute a block of statements repeatedly until a given condition is satisfied. And when the condition becomes false, the line immediately after the loop in the program is executed."
   ]
  },
  {
   "cell_type": "code",
   "execution_count": 24,
   "id": "558199f1-f77e-4055-b748-dfa6fb154af4",
   "metadata": {},
   "outputs": [
    {
     "name": "stdout",
     "output_type": "stream",
     "text": [
      "0\n",
      "1\n",
      "2\n",
      "3\n",
      "4\n",
      "5\n"
     ]
    }
   ],
   "source": [
    "# Example:-\n",
    "i=0\n",
    "while i <= 5:\n",
    "    print(i)\n",
    "    i+=1"
   ]
  },
  {
   "cell_type": "markdown",
   "id": "25c85b86-35a9-4717-a22f-08c45af7a362",
   "metadata": {},
   "source": [
    "### Qus-6) Use nested while loop to print 3 deffrent pattern"
   ]
  },
  {
   "cell_type": "code",
   "execution_count": 26,
   "id": "3dbda18b-3147-4e4b-9508-2e2268b33e35",
   "metadata": {},
   "outputs": [
    {
     "name": "stdout",
     "output_type": "stream",
     "text": [
      "* * * * * * \n",
      "* * * * * * \n",
      "* * * * * * \n",
      "* * * * * * \n",
      "* * * * * * \n",
      "* * * * * * \n"
     ]
    }
   ],
   "source": [
    "# 1) Making Square Pattern\n",
    "\n",
    "i=0\n",
    "while i<=5:\n",
    "    i+=1\n",
    "    j=0\n",
    "    while j<=5:\n",
    "        print(\"*\",end=\" \")\n",
    "        j+=1\n",
    "    print()"
   ]
  },
  {
   "cell_type": "code",
   "execution_count": 45,
   "id": "8494e43f-4ae9-457c-9487-655d4c123616",
   "metadata": {},
   "outputs": [
    {
     "name": "stdout",
     "output_type": "stream",
     "text": [
      "* \n",
      "** \n",
      "*** \n",
      "**** \n",
      "***** \n"
     ]
    }
   ],
   "source": [
    "# 2) Making Left Triangle Patten\n",
    "i=0\n",
    "while i<5:\n",
    "    print((i+1)*\"*\",end=\" \")\n",
    "    i+=1\n",
    "    print()"
   ]
  },
  {
   "cell_type": "code",
   "execution_count": 10,
   "id": "267eecaa-d645-4e32-b5c4-9b8bb292d1a4",
   "metadata": {},
   "outputs": [
    {
     "name": "stdout",
     "output_type": "stream",
     "text": [
      "*****\n",
      "****\n",
      "***\n",
      "**\n",
      "*\n"
     ]
    }
   ],
   "source": [
    "# 3) Making Right Triangle Patten\n",
    "i=5\n",
    "while i>0:\n",
    "    print(\"*\"*(i))\n",
    "    i-=1"
   ]
  },
  {
   "cell_type": "markdown",
   "id": "a4c7552c-efdc-4ef2-a86b-5751e1c9145b",
   "metadata": {},
   "source": [
    "### Qus-7) Reverse a While loop to display numbers from 10 to 1."
   ]
  },
  {
   "cell_type": "code",
   "execution_count": 11,
   "id": "cd15cc17-a42f-4797-81a0-b0e280a6caab",
   "metadata": {},
   "outputs": [
    {
     "name": "stdout",
     "output_type": "stream",
     "text": [
      "10\n",
      "9\n",
      "8\n",
      "7\n",
      "6\n",
      "5\n",
      "4\n",
      "3\n",
      "2\n",
      "1\n"
     ]
    }
   ],
   "source": [
    "i=10\n",
    "while i>0:\n",
    "    print(i)\n",
    "    i-=1"
   ]
  },
  {
   "cell_type": "markdown",
   "id": "3a6f04c4-df2c-4736-9907-44cddb8ca7d6",
   "metadata": {},
   "source": [
    "### Qus-8) Reverse a While loop to display numbers from 10 to 1. (Same Qus-7))"
   ]
  },
  {
   "cell_type": "code",
   "execution_count": 41,
   "id": "ca371e2b-2712-469e-9c94-9f0aeed8a7f2",
   "metadata": {},
   "outputs": [
    {
     "name": "stdout",
     "output_type": "stream",
     "text": [
      "10\n",
      "9\n",
      "8\n",
      "7\n",
      "6\n",
      "5\n",
      "4\n",
      "3\n",
      "2\n",
      "1\n"
     ]
    }
   ],
   "source": [
    "i=10\n",
    "while i>0:\n",
    "    print(i)\n",
    "    i-=1"
   ]
  },
  {
   "cell_type": "code",
   "execution_count": null,
   "id": "4e0e8a37-7613-4c33-acfb-853b74ccb84c",
   "metadata": {},
   "outputs": [],
   "source": []
  },
  {
   "cell_type": "code",
   "execution_count": null,
   "id": "9c1a9cec-2b18-4e39-9250-abba2ae66b1a",
   "metadata": {},
   "outputs": [],
   "source": []
  }
 ],
 "metadata": {
  "kernelspec": {
   "display_name": "Python 3 (ipykernel)",
   "language": "python",
   "name": "python3"
  },
  "language_info": {
   "codemirror_mode": {
    "name": "ipython",
    "version": 3
   },
   "file_extension": ".py",
   "mimetype": "text/x-python",
   "name": "python",
   "nbconvert_exporter": "python",
   "pygments_lexer": "ipython3",
   "version": "3.10.8"
  },
  "toc-autonumbering": false,
  "toc-showcode": false,
  "toc-showmarkdowntxt": true
 },
 "nbformat": 4,
 "nbformat_minor": 5
}
