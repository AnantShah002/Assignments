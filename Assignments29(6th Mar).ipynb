{
 "cells": [
  {
   "cell_type": "markdown",
   "id": "6e52dd7c-2e2d-4ff4-8ebf-4e1e47dd7f07",
   "metadata": {},
   "source": [
    "# Statistics Basic Assignment"
   ]
  },
  {
   "cell_type": "markdown",
   "id": "8f002622-5f1b-49e9-922b-0360d42bcb5c",
   "metadata": {},
   "source": [
    "### Q1) What is Statistics?\n",
    "\n",
    "#### Ans) Statistics is a branch of applied mathematics that involves the collection, description, analysis, and inference of conclusions from quantitative data."
   ]
  },
  {
   "cell_type": "markdown",
   "id": "ad84a649-ea56-48f8-855c-4b7c28bb4916",
   "metadata": {},
   "source": [
    "### Q2) Define the different types of statistics and give an example of when each type might be used.\n",
    "\n",
    "#### Ans) \n",
    " 1. **Descriptive Statistics:-** Descriptive statistics involves the collection, analysis, and presentation of data to summarize and describe characteristics of a dataset. It is used to provide a concise and meaningful summary of data through measures such as central tendency, variability, and shape. Descriptive statistics is generally used when data is available for the entire population of interest, or when a sample is used to estimate population parameters.\n",
    "* **Example of descriptive statistics:-** A researcher collects data on the heights of 100 students in a school. The researcher uses descriptive statistics to summarize the data by calculating the mean height, standard deviation, and creating a histogram to visualize the distribution of heights.\n",
    "\n",
    "2. **Inferential Statistics:-** Inferential statistics involves making predictions or generalizations about a population based on data from a sample. It is used to draw conclusions or test hypotheses about the population using the sample data. Inferential statistics is generally used when data is not available for the entire population, and a sample is used to make inferences about the population.\n",
    "* **Example of inferential statistics:-** A company wants to determine whether a new product will be successful among its target market. The company collects a sample of data from a group of customers who have purchased the product and uses inferential statistics to determine whether the data supports the conclusion that the product will be successful among the entire target market. The company may use techniques such as hypothesis testing, confidence intervals, or regression analysis to draw conclusions about the population."
   ]
  },
  {
   "cell_type": "markdown",
   "id": "040cf7c5-88d4-4666-95c5-70100dd708f6",
   "metadata": {},
   "source": [
    "### Q3) What are the different types of data and how do they differ from each other? Provide an example of each type of data."
   ]
  },
  {
   "cell_type": "markdown",
   "id": "5b7bdff9-e335-4dda-8875-f39497303f66",
   "metadata": {},
   "source": [
    "#### Ans) \n",
    "Thare are to type's of data\n",
    "* **Quentitatice Data**:- This data type like Numerical Variable. There are two more forms of Quentitatice Data also. With this data we can use mathematical concepts\n",
    "1. **Discrete Data**- \n",
    "\n",
    "\n",
    "* **Qualitative Data** :- This data type like Categorical data. There are two more forms of Qualitative Data also. With this data we can use to set categiri of data"
   ]
  },
  {
   "cell_type": "markdown",
   "id": "482d8416-073f-4dc8-a9c9-301638d2a40f",
   "metadata": {},
   "source": [
    "### Q4) Categorise the following datasets with respect to quantitative and qualitative data types:\n",
    "#### Ans) \n",
    "1. Grading in exam: A+, A, B+, B, C+, C, D, E\n",
    "* Qualitative Data > Ordinal Data\n",
    "2. Colour of mangoes: yellow, green, orange, red\n",
    "* Qualitative Data > Nominal Data\n",
    "3. Height data of a class: [178.9, 179, 179.5, 176, 177.2, 178.3, 175.8,...]\n",
    "* Quantitative Data > Continuous Data\n",
    "4. Number of mangoes exported by a farm: [500, 600, 478, 672, ...]\n",
    "* Quantitative Data > Discrete Data "
   ]
  },
  {
   "cell_type": "markdown",
   "id": "8ecace12-8974-4ae9-8e2c-d8d5fc956231",
   "metadata": {},
   "source": [
    "### Q5) Explain the concept of levels of measurement and give an example of a variable for each level.\n"
   ]
  },
  {
   "cell_type": "markdown",
   "id": "4345f755-bf0b-4c92-b6bb-1eeeff6e7ebf",
   "metadata": {},
   "source": [
    "#### Ans) There are mainly four types level measurement data are used\n",
    "* Nominal Scale Data \n",
    "* Ordinal Scale Data\n",
    "* Intarnal Scale Data\n",
    "* Ratio Scale Data \n",
    "\n",
    "* **Nominal Scale Data:-** They are those type data. We can consider Qualitative Data and Categorical Data in Nominal Data. And also Order does not matter in Nominal Data \n",
    "> ex.= Favorite Color,Gender,Favorite Sport,Favorite Subject,Length of Rivers in the World\n",
    "1) Qualitative Data and Categorical Data.\n",
    "2) Order does not matter.\n",
    "\n",
    "* **Ordinal Scale Data:-** In this data ranking is most important and order metter but data diffrence can not be measured in Ordinal scale Data\n",
    ">ex.= Product Ratting,Food Ratting,Race,Favorite food based on Gender\n",
    "1) Ranking is Important \n",
    "2) Order metter \n",
    "3) Diffrence does not measured.\n",
    "\n",
    "* **Intarnial Scale Data:-** In this intarnial scale data. Order is matter,Diffrence can be measured,Ratio can not be measured and No \"0\" starting point it means value also go on negative.\n",
    ">ex.= Teemperature Caruable,Tharmameter,IQ Measured\n",
    "1) Order Matter\n",
    "2) Diffrence can be measured \n",
    "3) Ratio can not be measured\n",
    "4) No true \"0\" Starting point\n",
    "\n",
    "* **Ratio Scale Data:-** They are those type data. We can consider order matter and Diffremce,Ratio can be measured but it contain \"0\" Starting point\n",
    ">ex.=Sturdent marks,Stock Price,Marital Status based on Male and Female\n",
    "1) Consider Order Matter\n",
    "2) Diffrence,Ratio can be measured\n",
    "3) Contain \"0\" starting Point"
   ]
  },
  {
   "cell_type": "markdown",
   "id": "e972da5d-5883-411c-80f7-7e6f7ee6e626",
   "metadata": {},
   "source": [
    "### Q6) Why is it important to understand the level of measurement when analyzing data? Provide an example to illustrate your answer.\n"
   ]
  },
  {
   "cell_type": "markdown",
   "id": "5245b8e2-8b79-4335-b4e6-8f16cf69a056",
   "metadata": {},
   "source": [
    "#### Ans) \n",
    "Understanding the level of measurement is important when analyzing data because it determines the type of statistical analyses that can be performed on the data, as well as the appropriate way to interpret the results. Different types of statistical analysis are suited for different levels of measurement, and using an inappropriate analysis can result in inaccurate conclusions.\n",
    "\n",
    "If a variable is nominal, it is inappropriate to perform calculations such as mean or standard deviation, as these statistics are not meaningful for categorical data. Instead, appropriate measures for nominal data include frequency counts and percentages. If a variable is ordinal, it is appropriate to use measures such as median or mode, but not mean, as the ranking of the values does not necessarily correspond to equal intervals. If a variable is interval or ratio, all three measures (mean, median, and mode) can be used, as well as measures such as standard deviation and correlation.\n",
    "\n",
    "An example to illustrate the importance of understanding the level of measurement is the analysis of income data. If income is measured as a nominal variable with categories such as \"less than 20,000\", \"20,000 to 40,000\", and \"more than 40,000\", it would be inappropriate to calculate the mean income, as the categories do not represent equal intervals. Instead, appropriate measures would include the frequency counts and percentages of individuals in each income category. If income is measured as a ratio variable in dollars, the mean income can be calculated and compared across different groups or time periods, and statistical tests such as t-tests or ANOVA can be used to determine whether there are significant differences in income between groups."
   ]
  },
  {
   "cell_type": "markdown",
   "id": "bb3891fe-3abd-44af-b2a5-6b3980575e55",
   "metadata": {},
   "source": [
    "### Q7) How nominal data type is different from ordinal data type."
   ]
  },
  {
   "cell_type": "markdown",
   "id": "cd13e0f1-7739-4981-9dd2-17f741de23c0",
   "metadata": {},
   "source": [
    "#### Ans)\n",
    "* Nominal data is a group of non-parametric variables, whereas Ordinal data is a group of non-parametric ordered variables.\n",
    "* Ordinal data is analyzed by mode, median, quartiles, and percentile, whereas nominal data is analyzed by grouping variables into categories and calculating the distribution mode.\n",
    "* Nominal data are categorical, whereas Ordinal data are both categorical and quantitative.\n",
    "* Both nominal and ordinal data can be analyzed using percentage and mode."
   ]
  },
  {
   "cell_type": "markdown",
   "id": "fb0107d5-db42-4d8f-a3e5-b327a6ef3534",
   "metadata": {
    "tags": []
   },
   "source": [
    "### Q8) Which type of plot can be used to display data in terms of range?\n"
   ]
  },
  {
   "cell_type": "markdown",
   "id": "1cbc2147-4dba-4d20-b615-7328b17fa8b1",
   "metadata": {},
   "source": [
    "#### Ans)\n",
    "A type of plot that can be used to display data in terms of range is a box plot (also known as a box-and-whisker plot). A box plot is a graphical representation of the distribution of a set of continuous data, using five summary statistics: the minimum value, the first quartile (Q1), the median, the third quartile (Q3), and the maximum value.\n",
    "\n",
    "For example, a box plot could be used to display the range of temperatures recorded in a city over a given period of time. The minimum and maximum values would be represented by the whiskers, and the box would represent the interquartile range (the middle 50% of the data). The median temperature would be represented by a line inside the box. This would allow for easy comparison of temperature ranges across different months or years, and also identify any unusually high or low temperatures as outliers."
   ]
  },
  {
   "cell_type": "markdown",
   "id": "6001d3ba-5962-45e7-8d11-b57f4cb99bdc",
   "metadata": {},
   "source": [
    "### Q9) Describe the difference between descriptive and inferential statistics. Give an example of each type of statistics and explain how they are used.\n"
   ]
  },
  {
   "cell_type": "markdown",
   "id": "eaa4f90b-cc78-4cf2-af78-56e57bf38811",
   "metadata": {},
   "source": [
    "#### Ans)\n",
    "* **Descriptive Statistics:-** Descriptive statistics is a term given to the analysis of data that helps to describe, show and summarize data in a meaningful way. It is a simple way to describe our data. Descriptive statistics is very important to present our raw data ineffective/meaningful way using numerical calculations or graphs or tables. This type of statistics is applied to already known data. \n",
    ">Examples of descriptive statistics include calculating the mean height of a group of people or the standard deviation of their weights.\n",
    "\n",
    "* Types of Descriptive Statistics\n",
    "1) Measure of Central Tendency\n",
    "2) Measure of Variability\n",
    "\n",
    "\n",
    "* **Inferential Statistics:-** In inferential statistics, predictions are made by taking any group of data in which you are interested. It can be defined as a random sample of data taken from a population to describe and make inferences about the population. Any group of data that includes all the data you are interested in is known as population. It basically allows you to make predictions by taking a small sample instead of working on the whole population.\n",
    ">Examples of inferential statistics include hypothesis testing, confidence intervals, and regression analysis.\n",
    "\n",
    "> **Difference between Descriptive and Inferential statistics:-**\n",
    "* It gives information about raw data which describes the data in some manner\n",
    "* It makes inferences about the population using data drawn from the population.\n",
    "* It helps in organizing, analyzing, and to present data in a meaningful manner.\n",
    "* It allows us to compare data, and make hypotheses and predictions.\n",
    "* It is used to describe a situation.\n",
    "* It is used to explain the chance of occurrence of an event.\n",
    "* It explains already known data and is limited to a sample or population having a small size.\n",
    "* It attempts to reach the conclusion about the population.\n",
    "* It can be achieved with the help of charts, graphs, tables, etc.\n",
    "* It can be achieved by probability."
   ]
  },
  {
   "cell_type": "markdown",
   "id": "848a1341-5a60-48a5-bddd-58cc387247e4",
   "metadata": {},
   "source": [
    "### Q10) What are some common measures of central tendency"
   ]
  },
  {
   "cell_type": "markdown",
   "id": "9ef839cc-f3cb-4e4c-8642-b48f4b34e4e7",
   "metadata": {},
   "source": [
    "#### Ans)\n",
    "* **Mean:-** The arithmetic mean, or average, is calculated by summing all the values in a dataset and dividing by the number of values. The mean is a useful measure of central tendency when the data is normally distributed and there are no extreme values or outliers.\n",
    "\n",
    "* **Median:-** The median is the middle value in a dataset when the values are arranged in order. The median is useful when there are extreme values or outliers in the dataset, since it is not affected by these values in the same way as the mean.\n",
    "\n",
    "* **Mode:-** The mode is the most common value in a dataset. The mode is useful when dealing with categorical data or discrete variables, where there may be several values that occur with the same frequency.\n",
    "\n",
    "Some of the common Measures of Variability used in Statistics are:\n",
    "\n",
    "* **Range:-** The range is the difference between the largest and smallest values in a dataset. The range provides a simple measure of variability, but it can be sensitive to extreme values or outliers.\n",
    "\n",
    "* **Variance:-** The variance measures the average squared deviation from the mean in a dataset. The variance is useful when you want to quantify the spread of a dataset, and it is used in many statistical tests and models.\n",
    "\n",
    "* **Standard deviation:-** The standard deviation is the square root of the variance. The standard deviation provides a more intuitive measure of variability, since it is in the same units as the original data."
   ]
  }
 ],
 "metadata": {
  "kernelspec": {
   "display_name": "Python 3 (ipykernel)",
   "language": "python",
   "name": "python3"
  },
  "language_info": {
   "codemirror_mode": {
    "name": "ipython",
    "version": 3
   },
   "file_extension": ".py",
   "mimetype": "text/x-python",
   "name": "python",
   "nbconvert_exporter": "python",
   "pygments_lexer": "ipython3",
   "version": "3.10.8"
  }
 },
 "nbformat": 4,
 "nbformat_minor": 5
}
