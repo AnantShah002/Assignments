{
 "cells": [
  {
   "cell_type": "markdown",
   "id": "6ada8211-e7ab-4141-a836-a0a440bf4ff1",
   "metadata": {},
   "source": [
    "### Q1) What is a database? Differentiate between SQL and NoSQL databases.\n",
    "### Ans) **Database:-** The Database is an essential part of our life. As we encounter several activities that involve our interaction with databases, for example in the bank, in the railway station, in school, in a grocery store, etc. These are the instances where we need to store a large amount of data in one place and fetch these data easily. \n",
    "\n",
    "* **Data:-** statistics it is raw and unprocessed . ex- name , class , marks etc.\n",
    "\n",
    "* **information:-** = when data is processed . ” record is also information “. example – pass or fail table etc.\n",
    "\n",
    "* **Database:-** an organized collection of data and information or interrelated data collected at one place.\n",
    "\n",
    "* **SQL:-** RELATIONAL DATABASE MANAGEMENT SYSTEM (RDBMS). These databases have fixed or static or predefined schema. These databases are not suited for hierarchical data storage.\tThese databases are best suited for complex queries. In this data base we get Vertically Scalable. This database Follows ACID property. SQL Databases Examples: MySQL, PostgreSQL, Oracle, MS-SQL Server, etc\t\n",
    "\n",
    "* **NoSQL:-** Non-relational or distributed database system. They have dynamic schema. These databases are best suited for hierarchical data storage. These databases are not so good for complex queries. In this data base we get Horizontally scalable. This database Follows CAP(consistency, availability, partition tolerance). NoSQL Database Examples: MongoDB, GraphQL, HBase, Neo4j, Cassandra, etc"
   ]
  },
  {
   "cell_type": "markdown",
   "id": "93e65879-5be1-4417-bb6d-3224817f1584",
   "metadata": {},
   "source": [
    "### Q2) What is DDL? Explain why CREATE, DROP, ALTER, and TRUNCATE are used with an example.\n",
    "### Ans) \n",
    "**DDL:-** Data Definition Language(DDL) is a subset of SQL and a part of DBMS(Database Management System). DDL consist of Commands to commands like CREATE, ALTER, TRUNCATE and DROP. These commands are used to create or modify the tables in SQL.\n",
    "\n",
    "* **CREATE:-** This command is used to create a new table in SQL. The user has to give information like table name, column names, and their datatypes.\n",
    "> CREATE TABLE table1(c1 int,c2 varchar,c3 float);\n",
    "* **DROP:-** This command is used to remove an existing table along with its structure from the Database.\n",
    "> DROP TABLE table1;\n",
    "* **ALTER:-** This command is used to add, delete or change columns in the existing table. The user needs to know the existing table name and can do add, delete or modify tasks easily.\n",
    "> ALTER TABLE table1 MODIFY c3 int;\n",
    "* **TRUNCATE:-** This command is used to remove all rows from the table, but the structure of the table still exists.\n",
    "> TRUNCATE TABLE table1;"
   ]
  },
  {
   "cell_type": "markdown",
   "id": "1804e6db-8106-44aa-bbd1-495fd87c6722",
   "metadata": {},
   "source": [
    "### Q3) What is DML? Explain INSERT, UPDATE, and DELETE with an example.\n",
    "### Ans)\n",
    "The data manipulation language statements are used to retrieve, add, delete, and modify the data that is stored in the objects of database. The keywords or statements that are associated with the data manipulation language are: SELECT INSERT, UPDATE and DELETE. These are the primary statements of data manipulation language (DML) and are used widely.\n",
    "* The INSERT statement is used to insert a new row in the database that is adding data to a table.\n",
    "> INSERT INTO table1 VALUES ('5','Ram','(M.P)','19');\n",
    "* The UPDATE statement is used to update the data or row in the table.\n",
    "> UPDATE table1 SET NAME = 'Anant' WHERE Age = 22;\n",
    "* The DELETE statement is used to delete a row from the table in the database.\n",
    "> DELETE FROM Student WHERE NAME = 'Anant'; "
   ]
  },
  {
   "cell_type": "markdown",
   "id": "8c0eada5-4a72-46d6-b751-cecbfd798dee",
   "metadata": {},
   "source": [
    "### Q4) What is DQL? Explain SELECT with an example.\n",
    "### Ans)\n",
    "**DQL:-** Data Query Language(DQL) statements are used for performing queries on the data within schema objects. The purpose of the DQL Command is to get some schema relation based on the query passed to it. We can define DQL as follows it is a component of SQL statement that allows getting data from the database and imposing order upon it. It includes the SELECT statement. This command allows getting the data out of the database to perform operations with it. When a SELECT is fired against a table or tables the result is compiled into a further temporary table, which is displayed or perhaps received by the program a front-end.\n",
    "* **SELECT:-** It is used to retrieve data from the database.\n",
    "> SELECT * FROM TABLE1;\n"
   ]
  },
  {
   "cell_type": "markdown",
   "id": "07e7596a-9b7b-4cec-a83a-7aa26945301a",
   "metadata": {},
   "source": [
    "### Q5) Explain Primary Key and Foreign Key.\n",
    "### Ans)\n",
    "* **Primary Key:-** A primary key is used to ensure that data in the specific column is unique. A column cannot have NULL values. It is either an existing table column or a column that is specifically generated by the database according to a defined sequence. \n",
    "\n",
    "**Example:-** STUD_NO, as well as STUD_PHONE both, are candidate keys for relation STUDENT but STUD_NO can be chosen as the primary key (only one out of many candidate keys). \n",
    "\n",
    "* **Foreign Key:-** A foreign key is a column or group of columns in a relational database table that provides a link between data in two tables. It is a column (or columns) that references a column (most often the primary key) of another table. \n",
    "\n",
    "**Example:-** STUD_NO in STUDENT_COURSE is a foreign key to STUD_NO in STUDENT relation. "
   ]
  },
  {
   "cell_type": "markdown",
   "id": "f93b8f8e-c99b-4be1-a129-b89dda59aec3",
   "metadata": {},
   "source": [
    "### Q6) Write a python code to connect MySQL to python. Explain the cursor() and execute() method.\n",
    "### Ans) \n",
    "* **Cursor:-** A cursor keeps track of the position in the result set, and allows you to perform multiple operations row by row against a result set, with or without returning to the original table.\n",
    "\n",
    "* **execute:-** execute method executes the given database operation (query or command). The parameters found in the tuple or dictionary params are bound to the variables in the operation."
   ]
  },
  {
   "cell_type": "code",
   "execution_count": 2,
   "id": "b4357c6b",
   "metadata": {},
   "outputs": [
    {
     "name": "stdout",
     "output_type": "stream",
     "text": [
      "<mysql.connector.connection.MySQLConnection object at 0x7f949956b520>\n",
      "('information_schema',)\n",
      "('leetcode',)\n",
      "('mysql',)\n",
      "('performance_schema',)\n",
      "('sys',)\n",
      "('test2',)\n"
     ]
    }
   ],
   "source": [
    "import mysql.connector\n",
    "mydb=mysql.connector.connect(\n",
    "    host=\"localhost\",\n",
    "    user=\"root\",\n",
    "    password=\"123456789\"\n",
    ")\n",
    "print(mydb)\n",
    "mycursor=mydb.cursor()\n",
    "mycursor.execute(\"SHOW DATABASES\")\n",
    "for x in mycursor:\n",
    "    print(x)"
   ]
  },
  {
   "cell_type": "markdown",
   "id": "a44a8a5a-7819-451c-a6c2-b076721720ca",
   "metadata": {},
   "source": [
    "### Q7) Give the order of execution of SQL clauses in an SQL query.\n",
    "### Ans)\n",
    "The SQL order of execution defines the order in which the clauses of a query are evaluated. Some of the most common query challenges people run into could be easily avoided with a clearer understanding of the SQL order of execution, sometimes called the SQL order of operations. Understanding SQL query order can help you diagnose why a query won’t run, and even more frequently will help you optimize your queries to run faster.\n",
    "\n",
    "In the modern world, SQL query planners can do all sorts of tricks to make queries run more efficiently, but they must always reach the same final answer as a query that is executed per the standard SQL order of execution.\n",
    "\n",
    "1. FROM: This clause specifies the tables from which data is to be selected.\n",
    "\n",
    "2. JOIN: If the query involves multiple tables, the JOIN clause is used to combine rows from different tables based on a related column between them.\n",
    "\n",
    "3. WHERE: This clause is used to filter rows based on specified conditions.\n",
    "\n",
    "4. GROUP BY: This clause is used to group rows based on specified columns.\n",
    "\n",
    "5. HAVING: This clause is used to filter groups based on specified conditions.\n",
    "\n",
    "6. SELECT: This clause is used to select the columns to be displayed in the query result.\n",
    "\n",
    "7. DISTINCT: This clause is used to remove duplicate rows from the result set.\n",
    "\n",
    "8. ORDER BY: This clause is used to sort the result set based on specified columns.\n",
    "\n",
    "9. LIMIT/OFFSET: These clauses are used to limit the number of rows returned by the query."
   ]
  }
 ],
 "metadata": {
  "kernelspec": {
   "display_name": "Python 3 (ipykernel)",
   "language": "python",
   "name": "python3"
  },
  "language_info": {
   "codemirror_mode": {
    "name": "ipython",
    "version": 3
   },
   "file_extension": ".py",
   "mimetype": "text/x-python",
   "name": "python",
   "nbconvert_exporter": "python",
   "pygments_lexer": "ipython3",
   "version": "3.10.8"
  }
 },
 "nbformat": 4,
 "nbformat_minor": 5
}
