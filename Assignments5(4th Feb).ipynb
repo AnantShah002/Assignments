{
 "cells": [
  {
   "cell_type": "markdown",
   "id": "2c964728-c1f6-477b-aa04-5ce650d2d788",
   "metadata": {},
   "source": [
    "### Q1. Create a python program to sort the given list of tuples based on integer value using a lambda function.\n",
    "* [('Sachin Tendulkar', 34357), ('Ricky Ponting', 27483), ('Jack Kallis', 25534), ('Virat Kohli', 24936)]"
   ]
  },
  {
   "cell_type": "code",
   "execution_count": 1,
   "id": "5ea4f87c-9147-420e-96e7-b27a23df90ce",
   "metadata": {},
   "outputs": [
    {
     "data": {
      "text/plain": [
       "[('Virat Kohli', 24936),\n",
       " ('Jack Kallis', 25534),\n",
       " ('Ricky Ponting', 27483),\n",
       " ('Sachin Tendulkar', 34357)]"
      ]
     },
     "execution_count": 1,
     "metadata": {},
     "output_type": "execute_result"
    }
   ],
   "source": [
    "l=[('Sachin Tendulkar', 34357), ('Ricky Ponting', 27483), ('Jack Kallis', 25534), ('Virat Kohli', 24936)]\n",
    "sort = sorted(l,key = lambda s : s[1]) \n",
    "sort"
   ]
  },
  {
   "cell_type": "markdown",
   "id": "59a39b0c-d23c-4300-a4d2-fc154b77f86b",
   "metadata": {},
   "source": [
    "### Q2. Write a Python Program to find the squares of all the numbers in the given list of integers using lambda and map functions.\n",
    "* [1, 2, 3, 4, 5, 6, 7, 8, 9, 10]"
   ]
  },
  {
   "cell_type": "code",
   "execution_count": 2,
   "id": "3595265a-26e6-491e-9a04-ec44cef0edec",
   "metadata": {},
   "outputs": [
    {
     "data": {
      "text/plain": [
       "[1, 4, 9, 16, 25, 36, 49, 64, 81, 100]"
      ]
     },
     "execution_count": 2,
     "metadata": {},
     "output_type": "execute_result"
    }
   ],
   "source": [
    "l=[1, 2, 3, 4, 5, 6, 7, 8, 9, 10]\n",
    "list(map(lambda n : n**2 ,l))"
   ]
  },
  {
   "cell_type": "markdown",
   "id": "a89460c1-6760-4abb-8d55-afc5f6df63db",
   "metadata": {},
   "source": [
    "### Q3. Write a python program to convert the given list of integers into a tuple of strings. Use map and lambda functions\n",
    "* Given String: [1, 2, 3, 4, 5, 6, 7, 8, 9, 10]\n",
    "* Expected output: ('1', '2', '3', '4', '5', '6', '7', '8', '9', '10')"
   ]
  },
  {
   "cell_type": "code",
   "execution_count": 3,
   "id": "bea1fba3-bad2-4382-aa1f-b7f74168066b",
   "metadata": {},
   "outputs": [
    {
     "data": {
      "text/plain": [
       "('1', '2', '3', '4', '5', '6', '7', '8', '9', '10')"
      ]
     },
     "execution_count": 3,
     "metadata": {},
     "output_type": "execute_result"
    }
   ],
   "source": [
    "l= [1, 2, 3, 4, 5, 6, 7, 8, 9, 10]\n",
    "tuple(list(map(lambda x : str(x),l)))"
   ]
  },
  {
   "cell_type": "markdown",
   "id": "73b089a2-cab2-40c2-b3fc-94cbe89f86ba",
   "metadata": {},
   "source": [
    "### Q4. Write a python program using reduce function to compute the product of a list containing numbers from 1 to 25."
   ]
  },
  {
   "cell_type": "code",
   "execution_count": 4,
   "id": "086db404-2bc1-494b-907f-9c4646e78fb8",
   "metadata": {},
   "outputs": [
    {
     "data": {
      "text/plain": [
       "325"
      ]
     },
     "execution_count": 4,
     "metadata": {},
     "output_type": "execute_result"
    }
   ],
   "source": [
    "from functools import reduce\n",
    "l=[i for i in range(1,26)]\n",
    "l\n",
    "reduce(lambda x,y : x+y ,l)"
   ]
  },
  {
   "cell_type": "markdown",
   "id": "75e438a1-3e3f-413e-812f-ddbfc2184acf",
   "metadata": {},
   "source": [
    "### Q5. Write a python program to filter the numbers in a given list that are divisible by 2 and 3 using the filter function.\n",
    "* [2, 3, 6, 9, 27, 60, 90, 120, 55, 46]"
   ]
  },
  {
   "cell_type": "code",
   "execution_count": 5,
   "id": "bf37051f-fefe-461f-9d86-f32dfbf86301",
   "metadata": {},
   "outputs": [
    {
     "data": {
      "text/plain": [
       "[2, 3, 6, 9, 27, 60, 90, 120, 46]"
      ]
     },
     "execution_count": 5,
     "metadata": {},
     "output_type": "execute_result"
    }
   ],
   "source": [
    "l=[2, 3, 6, 9, 27, 60, 90, 120, 55, 46]\n",
    "list(filter(lambda i :  i%2==0 or i%3==0 ,l) )"
   ]
  },
  {
   "cell_type": "markdown",
   "id": "712e5fc3-dcbb-4368-921d-82a019357940",
   "metadata": {},
   "source": [
    "### Q6. Write a python program to find palindromes in the given list of strings using lambda and filter function.\n",
    "* ['python', 'php', 'aba', 'radar', 'level']"
   ]
  },
  {
   "cell_type": "code",
   "execution_count": 6,
   "id": "31d737f3-e80e-460d-b331-bf577b4bfc6a",
   "metadata": {},
   "outputs": [
    {
     "name": "stdout",
     "output_type": "stream",
     "text": [
      "python :- Is a False Palindromes\n",
      "php :- Is a True Palindromes\n",
      "aba :- Is a True Palindromes\n",
      "radar :- Is a True Palindromes\n",
      "level :- Is a True Palindromes\n"
     ]
    }
   ],
   "source": [
    "# find palindromes\n",
    "l=['python', 'php', 'aba', 'radar', 'level']\n",
    "for i in l:\n",
    "    pali = lambda i : True  if i == i[::-1] else False\n",
    "    print(f\"{i} :- Is a {pali(i)} Palindromes\")"
   ]
  }
 ],
 "metadata": {
  "kernelspec": {
   "display_name": "Python 3 (ipykernel)",
   "language": "python",
   "name": "python3"
  },
  "language_info": {
   "codemirror_mode": {
    "name": "ipython",
    "version": 3
   },
   "file_extension": ".py",
   "mimetype": "text/x-python",
   "name": "python",
   "nbconvert_exporter": "python",
   "pygments_lexer": "ipython3",
   "version": "3.10.8"
  }
 },
 "nbformat": 4,
 "nbformat_minor": 5
}
