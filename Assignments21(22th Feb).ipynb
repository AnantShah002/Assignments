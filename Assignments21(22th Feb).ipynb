{
 "cells": [
  {
   "cell_type": "code",
   "execution_count": 1,
   "id": "eac48e42",
   "metadata": {},
   "outputs": [],
   "source": [
    "import os\n",
    "import selenium.webdriver as webdriver\n",
    "from bs4 import BeautifulSoup as bs\n",
    "import webbrowser"
   ]
  },
  {
   "cell_type": "code",
   "execution_count": 2,
   "id": "4d3c002b",
   "metadata": {},
   "outputs": [],
   "source": [
    "# Go to this given URL and solve the following questions\n",
    "URL=\"https://www.youtube.com/@PW-Foundation/videos\""
   ]
  },
  {
   "cell_type": "code",
   "execution_count": 3,
   "id": "d0b7b56f",
   "metadata": {},
   "outputs": [],
   "source": [
    "# Open Web Driver\n",
    "driver=webdriver.Chrome(r\"C:\\Users\\Asus\\Desktop\\Driver\\chromedriver-win64\\chromedriver.exe\")\n",
    "driver.get(URL)"
   ]
  },
  {
   "cell_type": "code",
   "execution_count": 4,
   "id": "224c527c",
   "metadata": {},
   "outputs": [
    {
     "data": {
      "text/plain": [
       "<selenium.webdriver.remote.webelement.WebElement (session=\"0d84be572eaeaf827348cb3f810a6360\", element=\"821972F0CB6C03F612C0CCA7503D5564_element_113\")>"
      ]
     },
     "execution_count": 4,
     "metadata": {},
     "output_type": "execute_result"
    }
   ],
   "source": [
    "# All Videos in This Tab\n",
    "driver.find_element_by_xpath('//*[@id=\"contents\"]')"
   ]
  },
  {
   "cell_type": "code",
   "execution_count": 5,
   "id": "d2497bcd",
   "metadata": {
    "scrolled": true
   },
   "outputs": [],
   "source": [
    "# Get Data into html format\n",
    "y_html=driver.page_source\n",
    "y_html_bs=bs(y_html,\"html.parser\")\n",
    "# y_html_bs"
   ]
  },
  {
   "cell_type": "code",
   "execution_count": 6,
   "id": "73cb4aae",
   "metadata": {},
   "outputs": [],
   "source": [
    "# Muptipals Videos\n",
    "items=y_html_bs.find_all(\"ytd-rich-item-renderer\",{\"class\":\"style-scope ytd-rich-grid-row\"})"
   ]
  },
  {
   "cell_type": "code",
   "execution_count": 7,
   "id": "69531cea",
   "metadata": {},
   "outputs": [
    {
     "data": {
      "text/plain": [
       "28"
      ]
     },
     "execution_count": 7,
     "metadata": {},
     "output_type": "execute_result"
    }
   ],
   "source": [
    "len(items)"
   ]
  },
  {
   "cell_type": "markdown",
   "id": "c8550ffc",
   "metadata": {},
   "source": [
    "### Q1.) Write a python program to extract the video URL of the first five videos."
   ]
  },
  {
   "cell_type": "code",
   "execution_count": 8,
   "id": "f97de52b",
   "metadata": {},
   "outputs": [
    {
     "name": "stdout",
     "output_type": "stream",
     "text": [
      "1 ) https://www.youtube.com/watch?v=xAEX042GdEs\n",
      "2 ) https://www.youtube.com/watch?v=nInh_Y87Kpo\n",
      "3 ) https://www.youtube.com/watch?v=3b0u1OgwjVo\n",
      "4 ) https://www.youtube.com/watch?v=dOLW72Irdts\n",
      "5 ) https://www.youtube.com/watch?v=81Ecx6s9P9w\n"
     ]
    }
   ],
   "source": [
    "# For loop for find videos Link.\n",
    "y_links=[]\n",
    "for i in range(len(items[0:5])):\n",
    "    links=\"https://www.youtube.com\"+items[i].find(\"a\",{\"id\":\"thumbnail\"})[\"href\"]\n",
    "    print(i+1,\")\",links)\n",
    "    y_links.append(links)"
   ]
  },
  {
   "cell_type": "markdown",
   "id": "1bc0cd19",
   "metadata": {},
   "source": [
    "### Q2) Write a python program to extract the URL of the video thumbnails of the first five videos."
   ]
  },
  {
   "cell_type": "code",
   "execution_count": 9,
   "id": "a8088a5c",
   "metadata": {
    "scrolled": false
   },
   "outputs": [
    {
     "name": "stdout",
     "output_type": "stream",
     "text": [
      "1 ) https://i.ytimg.com/vi/xAEX042GdEs/hqdefault.jpg?sqp=-oaymwEcCNACELwBSFXyq4qpAw4IARUAAIhCGAFwAcABBg==&rs=AOn4CLAf7t96E99REcnl8ZhVHFniaLj7cA\n",
      "\n",
      "2 ) https://i.ytimg.com/vi/nInh_Y87Kpo/hqdefault.jpg?sqp=-oaymwEcCNACELwBSFXyq4qpAw4IARUAAIhCGAFwAcABBg==&rs=AOn4CLDSv8DeTAseN4WuLLcOz9c-KwDHqw\n",
      "\n",
      "3 ) https://i.ytimg.com/vi/3b0u1OgwjVo/hqdefault.jpg?sqp=-oaymwEcCNACELwBSFXyq4qpAw4IARUAAIhCGAFwAcABBg==&rs=AOn4CLCKRv2lHyMpFFKsvirJ1T1Q5bn_iA\n",
      "\n",
      "4 ) https://i.ytimg.com/vi/dOLW72Irdts/hqdefault.jpg?sqp=-oaymwEcCNACELwBSFXyq4qpAw4IARUAAIhCGAFwAcABBg==&rs=AOn4CLBYDCDrkXnYF3B2gIMaf47nXsH9Yg\n",
      "\n",
      "5 ) https://i.ytimg.com/vi/81Ecx6s9P9w/hqdefault.jpg?sqp=-oaymwEcCNACELwBSFXyq4qpAw4IARUAAIhCGAFwAcABBg==&rs=AOn4CLCRr3rn4U12PwyC5DHORMA88PgI7w\n",
      "\n"
     ]
    }
   ],
   "source": [
    "# For loop for find videos thumbnails.\n",
    "y_thum_b=[]\n",
    "for i in range(len(items[0:5])):\n",
    "    thum_b=items[i].find(\"img\",{\"class\":\"yt-core-image yt-core-image--fill-parent-height yt-core-image--fill-parent-width yt-core-image--content-mode-scale-aspect-fill yt-core-image--loaded\"})[\"src\"]\n",
    "    print(i+1,\")\",thum_b)\n",
    "    y_thum_b.append(thum_b)\n",
    "    print(\"\")"
   ]
  },
  {
   "cell_type": "markdown",
   "id": "81a24a55",
   "metadata": {},
   "source": [
    "### Q3) Write a python program to extract the title of the first five videos."
   ]
  },
  {
   "cell_type": "code",
   "execution_count": 10,
   "id": "2eb9b685",
   "metadata": {},
   "outputs": [
    {
     "name": "stdout",
     "output_type": "stream",
     "text": [
      "1 ) Class 10th BIOLOGY All Diagrams in 1 Shot | Full Syllabus Covered CBSE Board\n",
      "\n",
      "2 ) Complete HINDI Course B in Just 3 hours | LAST Minute Revision | Class 10th CBSE Boards\n",
      "\n",
      "3 ) Complete HINDI Course A in Just 5 hours | LAST Minute Revision | Class 10th CBSE Board\n",
      "\n",
      "4 ) Class-10th Complete CHEMISTRY All Reactions in 1 Shot | Full Syllabus Covered CBSE Board\n",
      "\n",
      "5 ) Complete ENGLISH in 2 hours | LAST Minute Revision | Class-10th Boards\n",
      "\n"
     ]
    }
   ],
   "source": [
    "# For loop for find videos title.\n",
    "y_title=[]\n",
    "for i in range(len(items[0:5])):\n",
    "    title=items[i].find(\"yt-formatted-string\",{\"id\":\"video-title\"}).text\n",
    "    print(i+1,\")\",title)\n",
    "    y_title.append(title)\n",
    "    print()"
   ]
  },
  {
   "cell_type": "markdown",
   "id": "fb3697c0",
   "metadata": {},
   "source": [
    "### Q4) Write a python program to extract the number of views of the first five videos."
   ]
  },
  {
   "cell_type": "code",
   "execution_count": 11,
   "id": "12869142",
   "metadata": {},
   "outputs": [
    {
     "name": "stdout",
     "output_type": "stream",
     "text": [
      "1 ) 13K views\n",
      "2 ) 43K views\n",
      "3 ) 167K views\n",
      "4 ) 29K views\n",
      "5 ) 42K views\n"
     ]
    }
   ],
   "source": [
    "# For loop for find videos views.\n",
    "y_views=[]\n",
    "for i in range(len(items[0:5])):\n",
    "    views=items[i].find(\"span\",{\"class\":\"inline-metadata-item style-scope ytd-video-meta-block\"}).text\n",
    "    print(i+1,\")\",views)\n",
    "    y_views.append(views)"
   ]
  },
  {
   "cell_type": "markdown",
   "id": "f44e8f79",
   "metadata": {},
   "source": [
    "### Q5) Write a python program to extract the time of posting of video for the first five videos."
   ]
  },
  {
   "cell_type": "code",
   "execution_count": 12,
   "id": "f6ba07ab",
   "metadata": {},
   "outputs": [
    {
     "name": "stdout",
     "output_type": "stream",
     "text": [
      "1 ) 4 hours ago\n",
      "2 ) 8 hours ago\n",
      "3 ) 1 day ago\n",
      "4 ) 1 day ago\n",
      "5 ) 2 days ago\n"
     ]
    }
   ],
   "source": [
    "# For loop for find time of posting videos.\n",
    "y_post=[]\n",
    "for i in range(len(items[0:5])):\n",
    "    post=items[i].find_all(\"span\",{\"class\":\"inline-metadata-item style-scope ytd-video-meta-block\"})[1].text\n",
    "    print(i+1,\")\",post)\n",
    "    y_post.append(post)"
   ]
  },
  {
   "cell_type": "markdown",
   "id": "0af76d65",
   "metadata": {},
   "source": [
    "#### Note: Save all the data scraped in the above questions in a CSV file."
   ]
  },
  {
   "cell_type": "code",
   "execution_count": 13,
   "id": "12564604",
   "metadata": {},
   "outputs": [],
   "source": [
    "import pandas as pd"
   ]
  },
  {
   "cell_type": "code",
   "execution_count": 14,
   "id": "b0575b13",
   "metadata": {},
   "outputs": [
    {
     "data": {
      "text/html": [
       "<div>\n",
       "<style scoped>\n",
       "    .dataframe tbody tr th:only-of-type {\n",
       "        vertical-align: middle;\n",
       "    }\n",
       "\n",
       "    .dataframe tbody tr th {\n",
       "        vertical-align: top;\n",
       "    }\n",
       "\n",
       "    .dataframe thead th {\n",
       "        text-align: right;\n",
       "    }\n",
       "</style>\n",
       "<table border=\"1\" class=\"dataframe\">\n",
       "  <thead>\n",
       "    <tr style=\"text-align: right;\">\n",
       "      <th></th>\n",
       "      <th>Title</th>\n",
       "      <th>Link</th>\n",
       "      <th>Thumbnails</th>\n",
       "      <th>Views</th>\n",
       "      <th>Post</th>\n",
       "    </tr>\n",
       "  </thead>\n",
       "  <tbody>\n",
       "    <tr>\n",
       "      <th>0</th>\n",
       "      <td>Class 10th BIOLOGY All Diagrams in 1 Shot | Fu...</td>\n",
       "      <td>https://www.youtube.com/watch?v=xAEX042GdEs</td>\n",
       "      <td>https://i.ytimg.com/vi/xAEX042GdEs/hqdefault.j...</td>\n",
       "      <td>13K views</td>\n",
       "      <td>4 hours ago</td>\n",
       "    </tr>\n",
       "    <tr>\n",
       "      <th>1</th>\n",
       "      <td>Complete HINDI Course B in Just 3 hours | LAST...</td>\n",
       "      <td>https://www.youtube.com/watch?v=nInh_Y87Kpo</td>\n",
       "      <td>https://i.ytimg.com/vi/nInh_Y87Kpo/hqdefault.j...</td>\n",
       "      <td>43K views</td>\n",
       "      <td>8 hours ago</td>\n",
       "    </tr>\n",
       "    <tr>\n",
       "      <th>2</th>\n",
       "      <td>Complete HINDI Course A in Just 5 hours | LAST...</td>\n",
       "      <td>https://www.youtube.com/watch?v=3b0u1OgwjVo</td>\n",
       "      <td>https://i.ytimg.com/vi/3b0u1OgwjVo/hqdefault.j...</td>\n",
       "      <td>167K views</td>\n",
       "      <td>1 day ago</td>\n",
       "    </tr>\n",
       "    <tr>\n",
       "      <th>3</th>\n",
       "      <td>Class-10th Complete CHEMISTRY All Reactions in...</td>\n",
       "      <td>https://www.youtube.com/watch?v=dOLW72Irdts</td>\n",
       "      <td>https://i.ytimg.com/vi/dOLW72Irdts/hqdefault.j...</td>\n",
       "      <td>29K views</td>\n",
       "      <td>1 day ago</td>\n",
       "    </tr>\n",
       "    <tr>\n",
       "      <th>4</th>\n",
       "      <td>Complete ENGLISH in 2 hours | LAST Minute Revi...</td>\n",
       "      <td>https://www.youtube.com/watch?v=81Ecx6s9P9w</td>\n",
       "      <td>https://i.ytimg.com/vi/81Ecx6s9P9w/hqdefault.j...</td>\n",
       "      <td>42K views</td>\n",
       "      <td>2 days ago</td>\n",
       "    </tr>\n",
       "  </tbody>\n",
       "</table>\n",
       "</div>"
      ],
      "text/plain": [
       "                                               Title  \\\n",
       "0  Class 10th BIOLOGY All Diagrams in 1 Shot | Fu...   \n",
       "1  Complete HINDI Course B in Just 3 hours | LAST...   \n",
       "2  Complete HINDI Course A in Just 5 hours | LAST...   \n",
       "3  Class-10th Complete CHEMISTRY All Reactions in...   \n",
       "4  Complete ENGLISH in 2 hours | LAST Minute Revi...   \n",
       "\n",
       "                                          Link  \\\n",
       "0  https://www.youtube.com/watch?v=xAEX042GdEs   \n",
       "1  https://www.youtube.com/watch?v=nInh_Y87Kpo   \n",
       "2  https://www.youtube.com/watch?v=3b0u1OgwjVo   \n",
       "3  https://www.youtube.com/watch?v=dOLW72Irdts   \n",
       "4  https://www.youtube.com/watch?v=81Ecx6s9P9w   \n",
       "\n",
       "                                          Thumbnails       Views         Post  \n",
       "0  https://i.ytimg.com/vi/xAEX042GdEs/hqdefault.j...   13K views  4 hours ago  \n",
       "1  https://i.ytimg.com/vi/nInh_Y87Kpo/hqdefault.j...   43K views  8 hours ago  \n",
       "2  https://i.ytimg.com/vi/3b0u1OgwjVo/hqdefault.j...  167K views    1 day ago  \n",
       "3  https://i.ytimg.com/vi/dOLW72Irdts/hqdefault.j...   29K views    1 day ago  \n",
       "4  https://i.ytimg.com/vi/81Ecx6s9P9w/hqdefault.j...   42K views   2 days ago  "
      ]
     },
     "execution_count": 14,
     "metadata": {},
     "output_type": "execute_result"
    }
   ],
   "source": [
    "df=pd.DataFrame({\"Title\":y_title,\n",
    "                 \"Link\":y_links,\n",
    "                 \"Thumbnails\":y_thum_b,\n",
    "                 \"Views\":y_views,\n",
    "                 \"Post\":y_post})\n",
    "df"
   ]
  },
  {
   "cell_type": "code",
   "execution_count": 15,
   "id": "46b502c0",
   "metadata": {},
   "outputs": [],
   "source": [
    "# df.to_csv(r\"C:\\Users\\Asus\\Videos\\Desktop\\youtube_top_five_video.csv\")"
   ]
  },
  {
   "cell_type": "code",
   "execution_count": null,
   "id": "2811ed4c",
   "metadata": {},
   "outputs": [],
   "source": []
  }
 ],
 "metadata": {
  "kernelspec": {
   "display_name": "Python 3 (ipykernel)",
   "language": "python",
   "name": "python3"
  },
  "language_info": {
   "codemirror_mode": {
    "name": "ipython",
    "version": 3
   },
   "file_extension": ".py",
   "mimetype": "text/x-python",
   "name": "python",
   "nbconvert_exporter": "python",
   "pygments_lexer": "ipython3",
   "version": "3.9.13"
  }
 },
 "nbformat": 4,
 "nbformat_minor": 5
}
