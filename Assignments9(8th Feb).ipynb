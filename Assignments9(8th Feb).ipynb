{
 "cells": [
  {
   "cell_type": "markdown",
   "id": "ed6fb967-5332-404e-9f17-546b6b3c1a16",
   "metadata": {},
   "source": [
    "### Q1. What is Abstraction in OOps? Explain with an example.\n",
    "\n",
    "Ans-1) Objects are the building blocks of Object-Oriented Programming. An object contains some properties and methods. We can hide them from the outer world through access modifiers. We can provide access only for required functions and properties to the other programs. This is the general procedure to implement abstraction in OOPS."
   ]
  },
  {
   "cell_type": "code",
   "execution_count": 1,
   "id": "adeb1011-e096-4d35-b277-a0c7b24f8e25",
   "metadata": {},
   "outputs": [
    {
     "name": "stdout",
     "output_type": "stream",
     "text": [
      "I have 3 sides\n",
      "I have 4 sides\n",
      "I have 5 sides\n",
      "I have 6 sides\n"
     ]
    }
   ],
   "source": [
    "# Python program showing\n",
    "# abstract base class work\n",
    " \n",
    "from abc import ABC, abstractmethod\n",
    " \n",
    "class Polygon(ABC):\n",
    " \n",
    "    @abstractmethod\n",
    "    def noofsides(self):\n",
    "        pass\n",
    "\n",
    "class Triangle(Polygon):\n",
    " \n",
    "    # overriding abstract method\n",
    "    def noofsides(self):\n",
    "        print(\"I have 3 sides\")\n",
    "\n",
    "class Pentagon(Polygon):\n",
    " \n",
    "    # overriding abstract method\n",
    "    def noofsides(self):\n",
    "        print(\"I have 5 sides\")\n",
    "\n",
    "class Hexagon(Polygon):\n",
    " \n",
    "    # overriding abstract method\n",
    "    def noofsides(self):\n",
    "        print(\"I have 6 sides\")\n",
    "\n",
    "class Quadrilateral(Polygon):\n",
    " \n",
    "    # overriding abstract method\n",
    "    def noofsides(self):\n",
    "        print(\"I have 4 sides\")\n",
    "\n",
    "# Driver code\n",
    "R = Triangle()\n",
    "R.noofsides()\n",
    " \n",
    "K = Quadrilateral()\n",
    "K.noofsides()\n",
    " \n",
    "R = Pentagon()\n",
    "R.noofsides()\n",
    " \n",
    "K = Hexagon()\n",
    "K.noofsides()"
   ]
  },
  {
   "cell_type": "markdown",
   "id": "faa1bb56-b902-48c5-b7ca-3d7450d546e8",
   "metadata": {},
   "source": [
    "### Q2. Differentiate between Abstraction and Encapsulation. Explain with an example."
   ]
  },
  {
   "cell_type": "markdown",
   "id": "9fd0f0ff-f40d-4112-81e2-14f6d43117d8",
   "metadata": {},
   "source": [
    "**Abstraction :-** Abstraction is a way of hiding unnecessary information.\n",
    "1. An abstraction is a process or method of obtaining information. \n",
    "2. Abstractions solve problems at the design or interface level. \n",
    "3. The focus of abstraction is “what” to do.\n",
    "4. Abstract classes and interfaces can be used to implement abstractions\n",
    "6. Abstractions allow access to specific pieces of data.\n",
    "\n",
    "> Example:-\n",
    "* However, users don’t know how their passwords are validated on the backend to protect their accounts. This is one of many real-world cases where encapsulation is used in the industry.\n",
    "* Clicking on an icon allows the abstraction to perform a specific function. On clicking the icon, the backend process works and directs the user to the next step.\n",
    "\n",
    "**Encapsulation :-** Encapsulation is a way of hiding data in a single entity or unit and a way of protecting information from the outside world.\n",
    "1. Encapsulation is the process or method for containing information. \n",
    "2. During encapsulation, issues are resolved at the implementation level. \n",
    "3. The focus of encapsulation is “how” it should be done.\n",
    "4. Encapsulation can be implemented using access modifiers, i.e. private, protected, public.\n",
    "6. Encapsulation hides data from direct access by users (data hiding).\n",
    "\n",
    "> Exaple:-\n",
    "\n",
    "* In a particular project company, the various teams work like a functional team, a development team, a test team, a content team, and a project team to do other tasks. Let’s say the content team wants all the data about the development team. In this case, the data cannot be accessed directly. The content team should reach out to someone from the development team and ask them to provide the data. This is encapsulation. The data (project data + employee data) is grouped under one name, the “development team.”"
   ]
  },
  {
   "cell_type": "markdown",
   "id": "5106530f-0c0b-41ad-8707-aa666b6cad1d",
   "metadata": {},
   "source": [
    "### Q3. What is abc module in python? Why is it used?\n",
    "\n",
    "Ans-)3 This module provides the infrastructure for defining abstract base classes (ABCs) in Python, as outlined in PEP 3119; see the PEP for why this was added to Python. (See also PEP 3141 and the numbers module regarding a type hierarchy for numbers based on ABCs.)\n",
    "\n",
    "A helper class that has ABCMeta as its metaclass. With this class, an abstract base class can be created by simply deriving from ABC avoiding sometimes confusing metaclass usage, for example:"
   ]
  },
  {
   "cell_type": "code",
   "execution_count": 2,
   "id": "c3e54827-26f7-456b-89c1-112f8b6ea26a",
   "metadata": {},
   "outputs": [],
   "source": [
    "from abc import ABC\n",
    "\n",
    "class MyABC(ABC):\n",
    "    pass"
   ]
  },
  {
   "cell_type": "markdown",
   "id": "0b1f5c7a-4809-4514-94cb-d5806ce19b62",
   "metadata": {
    "tags": []
   },
   "source": [
    "### Q4. How can we achieve data abstraction?\n",
    "\n",
    "Ans-4) Data Abstraction in Python can be achieved through creating abstract classes and inheriting them later. Before discussing what abstract classes are, let us have a brief introduction of inheritance. Inheritance in OOP is a way through which one class inherits the attributes and methods of another class."
   ]
  },
  {
   "cell_type": "markdown",
   "id": "277c793c-4edf-4914-b8b9-54148bbeed09",
   "metadata": {},
   "source": [
    "### Q5. Can we create an instance of an abstract class? Explain your answer.\n",
    "\n",
    "Ans-5) Abstract classes cannot be instantiated, but they can be subclassed. An abstract class is a class, but not one you can create objects from directly. It's purpose is to define how other classes should look like, what methods and properties they are expected to have.\n",
    "\n",
    "The methods and properties defined (but not implemented) in an abstract class are called abstract methods and abstract properties. All abstract methods and properties need to be implemented in a child class in order to be able to create objects from it.\n",
    "\n",
    "We can create an abstract class by inheriting from the ABC class which is part of the abc module."
   ]
  },
  {
   "cell_type": "code",
   "execution_count": 3,
   "id": "79be72c5-3a6e-45f0-b2ff-41a222467d11",
   "metadata": {},
   "outputs": [],
   "source": [
    "from abc import ( ABC,abstractmethod,)\n",
    "class BasicPokemon(ABC):\n",
    "    def __init__(self, name):\n",
    "        self.name = name\n",
    "        self._level = 1\n",
    "    @abstractmethod\n",
    "    def main_attack(self):\n",
    "        pass"
   ]
  },
  {
   "cell_type": "markdown",
   "id": "5c1e4152-78bc-47fa-a87e-f93753720d17",
   "metadata": {},
   "source": [
    "In the code above, we create a new abstract class called BasicPokemon. We indicate that the method main_attack is an abstract method by using the decorator abstractmethod, which means we expect this to be implemented in every subclass of BasicPokemon."
   ]
  }
 ],
 "metadata": {
  "kernelspec": {
   "display_name": "Python 3 (ipykernel)",
   "language": "python",
   "name": "python3"
  },
  "language_info": {
   "codemirror_mode": {
    "name": "ipython",
    "version": 3
   },
   "file_extension": ".py",
   "mimetype": "text/x-python",
   "name": "python",
   "nbconvert_exporter": "python",
   "pygments_lexer": "ipython3",
   "version": "3.10.8"
  }
 },
 "nbformat": 4,
 "nbformat_minor": 5
}
