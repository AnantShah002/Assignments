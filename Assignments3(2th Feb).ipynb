{
 "cells": [
  {
   "cell_type": "markdown",
   "id": "f010b2d8-d169-4beb-ab3f-0694c1910836",
   "metadata": {},
   "source": [
    "### Qus1-)Explain with an example each when to use a for loop and a while loop.\n",
    "\n",
    "##### Ans-1)First let’s explain what are loops; Loops are a way of repeating code without having to type it over and over again.\n",
    "\n",
    "* > **While Loop :-** The while loop is a kind of a loop that keeps running while a condition is True. While loops which is called infinite while loop.\n",
    "\n",
    "* > **For Loop :-** The for loops keeps running for a specific number of times.\n"
   ]
  },
  {
   "cell_type": "code",
   "execution_count": 2,
   "id": "05e19eb2-fb00-41f1-a8c3-45a5d16a5b25",
   "metadata": {},
   "outputs": [
    {
     "name": "stdout",
     "output_type": "stream",
     "text": [
      "1\n",
      "2\n",
      "3\n"
     ]
    }
   ],
   "source": [
    "# for Loop Example:-\n",
    "l = [1, 2, 3] \n",
    "for i in l: \n",
    "    print(i)"
   ]
  },
  {
   "cell_type": "code",
   "execution_count": 5,
   "id": "20c51bb4-6672-4785-b11c-c01094c109e6",
   "metadata": {},
   "outputs": [
    {
     "name": "stdout",
     "output_type": "stream",
     "text": [
      "Hello\n"
     ]
    }
   ],
   "source": [
    "# While Loop Example:-\n",
    "while True:\n",
    "    print(\"Hello\")\n",
    "    break # use becouse run infinite while loop"
   ]
  },
  {
   "cell_type": "markdown",
   "id": "c8e0f632-87b7-4cac-83a6-126093ae932c",
   "metadata": {},
   "source": [
    "### Qus-2) Write a python program to print the sum and product of the first 10 natural numbers using for and while loop."
   ]
  },
  {
   "cell_type": "code",
   "execution_count": 5,
   "id": "8ccd7ba0-b38a-4f09-909d-359ae80748c8",
   "metadata": {},
   "outputs": [
    {
     "name": "stdout",
     "output_type": "stream",
     "text": [
      "1\n",
      "3\n",
      "6\n",
      "10\n",
      "15\n",
      "21\n",
      "28\n",
      "36\n",
      "45\n",
      "55\n"
     ]
    }
   ],
   "source": [
    "i=1\n",
    "a=0\n",
    "while i<=10:\n",
    "    n=a+i\n",
    "    a=n\n",
    "    i+=1\n",
    "    print(n)\n",
    "    "
   ]
  },
  {
   "cell_type": "markdown",
   "id": "b110ee53-946a-489f-8cd7-b09525585a2d",
   "metadata": {
    "tags": []
   },
   "source": [
    "### Qus3-)Create a python program to compute the electricity bill for a household.\n",
    "\n",
    "> The per-unit charges in rupees are as follows: For the first 100 units, the user will be charged Rs. 4.5 per\n",
    "unit, for the next 100 units, the user will be charged Rs. 6 per unit, and for the next 100 units, the user will\n",
    "be charged Rs. 10 per unit, After 300 units and above the user will be charged Rs. 20 per unit.\n",
    "\n",
    "> You are required to take the units of electricity consumed in a month from the user as input.\n",
    "\n",
    "> Your program must pass this test case: when the unit of electricity consumed by the user in a month is\n",
    "310, the total electricity bill should be 2250."
   ]
  },
  {
   "cell_type": "code",
   "execution_count": 11,
   "id": "832779ab-2144-41c1-9d56-9eaa8cb8f468",
   "metadata": {},
   "outputs": [
    {
     "name": "stdin",
     "output_type": "stream",
     "text": [
      "Enter you'r Units 310\n"
     ]
    },
    {
     "name": "stdout",
     "output_type": "stream",
     "text": [
      "A=450.0 | B=600 | C=1000 | D=200 | Total Cost of Units:- 2250.0\n"
     ]
    }
   ],
   "source": [
    "units=int(input(\"Enter you'r Units\"))\n",
    "i=0\n",
    "charge=0\n",
    "count=0\n",
    "A=0\n",
    "B=0\n",
    "C=0\n",
    "D=0\n",
    "while i!=units:\n",
    "    i+=1\n",
    "    # print(i)\n",
    "    if i<=100:\n",
    "        charge=i*4.5\n",
    "        # print(i,charge)\n",
    "        if i==100:\n",
    "            A=charge\n",
    "            # print(A)\n",
    "        elif i<100:\n",
    "            A=charge\n",
    "            # print(A)\n",
    "        else:\n",
    "            pass\n",
    "    elif i<=200 and i>100:\n",
    "        charge=(i-100)*6\n",
    "        # print(i,charge)\n",
    "        if i==200:\n",
    "            B=charge\n",
    "            # print(B)\n",
    "        elif i<200 and i>100:\n",
    "            B=charge\n",
    "            # print(B)\n",
    "        else:\n",
    "            pass\n",
    "    elif i<=300 and i>200:\n",
    "        charge=(i-200)*10\n",
    "        # print(i,charge)\n",
    "        if i==300:\n",
    "            C=charge\n",
    "            # print(C)\n",
    "        elif i<300 and i>200:\n",
    "            C=charge\n",
    "            # print(C)\n",
    "        else:\n",
    "            pass\n",
    "    else:\n",
    "        charge=(i-300)*20\n",
    "        D=charge\n",
    "        # print(D)\n",
    "cost=A+B+C+D\n",
    "\n",
    "print(f\"A={A} | B={B} | C={C} | D={D} | Total Cost of Units:-\",cost)\n",
    "        "
   ]
  },
  {
   "cell_type": "code",
   "execution_count": 12,
   "id": "b819e37f-dc2d-4d6f-a4bd-d574744b77e7",
   "metadata": {},
   "outputs": [
    {
     "name": "stdin",
     "output_type": "stream",
     "text": [
      "Enter you'r Units 310\n"
     ]
    },
    {
     "name": "stdout",
     "output_type": "stream",
     "text": [
      "A=450.0 | B=600 | C=1000 | D=200 | Total Cost of Units:- 2250.0\n"
     ]
    }
   ],
   "source": [
    "units=int(input(\"Enter you'r Units\"))\n",
    "i=0\n",
    "charge=0\n",
    "count=0\n",
    "A=0\n",
    "B=0\n",
    "C=0\n",
    "D=0\n",
    "for i in range(units+1):\n",
    "    # i+=1\n",
    "    # print(i)\n",
    "    if i<=100:\n",
    "        charge=i*4.5\n",
    "        # print(i,charge)\n",
    "        if i==100:\n",
    "            A=charge\n",
    "            # print(A)\n",
    "        elif i<100:\n",
    "            A=charge\n",
    "            # print(A)\n",
    "        else:\n",
    "            pass\n",
    "    elif i<=200 and i>100:\n",
    "        charge=(i-100)*6\n",
    "        # print(i,charge)\n",
    "        if i==200:\n",
    "            B=charge\n",
    "            # print(B)\n",
    "        elif i<200 and i>100:\n",
    "            B=charge\n",
    "            # print(B)\n",
    "        else:\n",
    "            pass\n",
    "    elif i<=300 and i>200:\n",
    "        charge=(i-200)*10\n",
    "        # print(i,charge)\n",
    "        if i==300:\n",
    "            C=charge\n",
    "            # print(C)\n",
    "        elif i<300 and i>200:\n",
    "            C=charge\n",
    "            # print(C)\n",
    "        else:\n",
    "            pass\n",
    "    else:\n",
    "        charge=(i-300)*20\n",
    "        D=charge\n",
    "        # print(D)\n",
    "cost=A+B+C+D\n",
    "\n",
    "print(f\"A={A} | B={B} | C={C} | D={D} | Total Cost of Units:-\",cost)\n",
    "        "
   ]
  },
  {
   "cell_type": "code",
   "execution_count": 9,
   "id": "141ab902-4d6a-4341-ad02-12e626f04074",
   "metadata": {},
   "outputs": [
    {
     "name": "stdin",
     "output_type": "stream",
     "text": [
      "Enter you'r Units 310\n"
     ]
    },
    {
     "name": "stdout",
     "output_type": "stream",
     "text": [
      "2250.0\n"
     ]
    }
   ],
   "source": [
    "# Creat electricity bill calculator\n",
    "units=int(input(\"Enter you'r Units\"))\n",
    "if units>300:\n",
    "    print((units-300)*20+100*10+100*6+100*4.5)\n",
    "elif units>200:\n",
    "    print((units-200)*10+100*6+100*4.5)\n",
    "elif units>100:\n",
    "    print((units-100)*6+100*4.5)\n",
    "else:\n",
    "    print(units*4.5)"
   ]
  },
  {
   "cell_type": "markdown",
   "id": "08889f19-e3d2-4f5f-859f-80107122f137",
   "metadata": {},
   "source": [
    "#### Qus-4) Create a list of numbers from 1 to 100. Use for loop and while loop to calculate the cube of each number and if the cube of that number is divisible by 4 or 5 then append that number in a list and print that list."
   ]
  },
  {
   "cell_type": "code",
   "execution_count": 28,
   "id": "714f3f5b-bb19-4a1b-bbe5-ec903ad85e05",
   "metadata": {},
   "outputs": [
    {
     "name": "stdout",
     "output_type": "stream",
     "text": [
      "20 [5, 10, 15, 20, 25, 30, 35, 40, 45, 50, 55, 60, 65, 70, 75, 80, 85, 90, 95, 100]\n",
      "25 [4, 8, 12, 16, 20, 24, 28, 32, 36, 40, 44, 48, 52, 56, 60, 64, 68, 72, 76, 80, 84, 88, 92, 96, 100]\n"
     ]
    }
   ],
   "source": [
    "# divisible by 4 or 5 Program\n",
    "cube=100\n",
    "four=[]\n",
    "five=[]\n",
    "for i in range(1,100+1):\n",
    "    if i%5==0 and i%4==0:\n",
    "        four.append(i)\n",
    "        five.append(i)\n",
    "    else:\n",
    "        if i%4==0:\n",
    "            four.append(i)\n",
    "        elif i%5==0:\n",
    "            five.append(i)\n",
    "        else:\n",
    "            pass\n",
    "print(len(five),five)\n",
    "print(len(four),four)\n"
   ]
  },
  {
   "cell_type": "markdown",
   "id": "b2c4ebdf-5c2e-43d3-adbd-fe2481a93502",
   "metadata": {},
   "source": [
    "### Qus-5) Write a program to filter count vowels in the below-given string.\n",
    "* string = \"I want to become a data scientist\""
   ]
  },
  {
   "cell_type": "code",
   "execution_count": 36,
   "id": "616e6105-af38-45ea-a019-47358d587c94",
   "metadata": {},
   "outputs": [
    {
     "name": "stdout",
     "output_type": "stream",
     "text": [
      "12 ['I', 'A', 'O', 'E', 'O', 'E', 'A', 'A', 'A', 'I', 'E', 'I']\n"
     ]
    }
   ],
   "source": [
    "string = \"I want to become a data scientist\"\n",
    "vowels=\"AEIOU\"\n",
    "sort=[]\n",
    "for i in string.upper():\n",
    "    for j in vowels:\n",
    "        if i==j:\n",
    "            sort.append(i)\n",
    "print(len(sort),sort)"
   ]
  }
 ],
 "metadata": {
  "kernelspec": {
   "display_name": "Python 3 (ipykernel)",
   "language": "python",
   "name": "python3"
  },
  "language_info": {
   "codemirror_mode": {
    "name": "ipython",
    "version": 3
   },
   "file_extension": ".py",
   "mimetype": "text/x-python",
   "name": "python",
   "nbconvert_exporter": "python",
   "pygments_lexer": "ipython3",
   "version": "3.10.8"
  }
 },
 "nbformat": 4,
 "nbformat_minor": 5
}
