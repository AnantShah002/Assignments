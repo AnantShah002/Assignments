{
 "cells": [
  {
   "cell_type": "markdown",
   "id": "fd9b32a4-8da3-4861-881a-7a56602277b6",
   "metadata": {},
   "source": [
    "# Numpy Assignments"
   ]
  },
  {
   "cell_type": "code",
   "execution_count": 1,
   "id": "37dce1a6-8f33-48ed-9208-13eef5e75dd4",
   "metadata": {},
   "outputs": [],
   "source": [
    "## Consider the below code to answer further questions:\n",
    "\n",
    "import numpy as np\n",
    "list_ = [ '1' , '2' , '3' , '4' , '5' ]\n",
    "array_list = np.array(object = list_)"
   ]
  },
  {
   "cell_type": "markdown",
   "id": "1b180055-56f2-4c56-a829-27ff7a7bca6c",
   "metadata": {},
   "source": [
    "### Q1) Is there any difference in the data type of variables list_ and array_list? If there is then write a code to print the data types of both the variables.\n",
    "#### Ans) Yes there is different data type in both variables."
   ]
  },
  {
   "cell_type": "code",
   "execution_count": 2,
   "id": "3d063c8a-187d-4769-8da3-c99bab6f552a",
   "metadata": {},
   "outputs": [
    {
     "name": "stdout",
     "output_type": "stream",
     "text": [
      "<class 'list'>\n",
      "<class 'numpy.ndarray'>\n"
     ]
    }
   ],
   "source": [
    "print(type(list_))\n",
    "print(type(array_list))"
   ]
  },
  {
   "cell_type": "markdown",
   "id": "69d17928-703d-46d1-9daf-6878b3a384ac",
   "metadata": {},
   "source": [
    "### Q2) Write a code to print the data type of each and every element of both the variables list_ and arra_list."
   ]
  },
  {
   "cell_type": "code",
   "execution_count": 3,
   "id": "0a6ada70-e75f-46a1-82be-d0b81025d0c0",
   "metadata": {},
   "outputs": [],
   "source": [
    "def test(x):\n",
    "    print(x,type(x))\n",
    "    for i in x:\n",
    "        print(type(i),i)"
   ]
  },
  {
   "cell_type": "code",
   "execution_count": 4,
   "id": "93713c66-eaaa-49d5-a019-4608a71095cc",
   "metadata": {},
   "outputs": [
    {
     "name": "stdout",
     "output_type": "stream",
     "text": [
      "['1', '2', '3', '4', '5'] <class 'list'>\n",
      "<class 'str'> 1\n",
      "<class 'str'> 2\n",
      "<class 'str'> 3\n",
      "<class 'str'> 4\n",
      "<class 'str'> 5\n"
     ]
    }
   ],
   "source": [
    "test(list_)"
   ]
  },
  {
   "cell_type": "code",
   "execution_count": 5,
   "id": "92aab02b-8466-4277-9ada-5b69c14eb5b6",
   "metadata": {},
   "outputs": [
    {
     "name": "stdout",
     "output_type": "stream",
     "text": [
      "['1' '2' '3' '4' '5'] <class 'numpy.ndarray'>\n",
      "<class 'numpy.str_'> 1\n",
      "<class 'numpy.str_'> 2\n",
      "<class 'numpy.str_'> 3\n",
      "<class 'numpy.str_'> 4\n",
      "<class 'numpy.str_'> 5\n"
     ]
    }
   ],
   "source": [
    "test(array_list)"
   ]
  },
  {
   "cell_type": "markdown",
   "id": "60374efa-2af9-47f3-96b4-7145b05ccd7f",
   "metadata": {},
   "source": [
    "### Q3) Considering the following changes in the variable, array_list:\n",
    "> array_list = np.array(object = list_, dtype = int)\n",
    "\n",
    "##### Will there be any difference in the data type of the elements present in both the variables, list_ and arra_list? If so then print the data types of each and every element present in both the variables, list_ and arra_list."
   ]
  },
  {
   "cell_type": "code",
   "execution_count": 6,
   "id": "6f9b9e33-ab02-48e2-8adb-90842671fcf9",
   "metadata": {},
   "outputs": [],
   "source": [
    "array_list = np.array(object = list_, dtype = int)"
   ]
  },
  {
   "cell_type": "code",
   "execution_count": 7,
   "id": "66980cac-00bf-4b80-babd-3172e8ca51e9",
   "metadata": {},
   "outputs": [
    {
     "name": "stdout",
     "output_type": "stream",
     "text": [
      "['1', '2', '3', '4', '5'] <class 'list'>\n",
      "<class 'str'> 1\n",
      "<class 'str'> 2\n",
      "<class 'str'> 3\n",
      "<class 'str'> 4\n",
      "<class 'str'> 5\n"
     ]
    }
   ],
   "source": [
    "test(list_)"
   ]
  },
  {
   "cell_type": "code",
   "execution_count": 8,
   "id": "96ff19d2-eaee-4c2b-9572-b75a319cee46",
   "metadata": {},
   "outputs": [
    {
     "name": "stdout",
     "output_type": "stream",
     "text": [
      "[1 2 3 4 5] <class 'numpy.ndarray'>\n",
      "<class 'numpy.int64'> 1\n",
      "<class 'numpy.int64'> 2\n",
      "<class 'numpy.int64'> 3\n",
      "<class 'numpy.int64'> 4\n",
      "<class 'numpy.int64'> 5\n"
     ]
    }
   ],
   "source": [
    "test(array_list)"
   ]
  },
  {
   "cell_type": "code",
   "execution_count": 9,
   "id": "05f17f49-4d24-4a44-9197-4854bead8fb8",
   "metadata": {},
   "outputs": [
    {
     "data": {
      "text/plain": [
       "array([1, 2, 3, 4, 5])"
      ]
     },
     "execution_count": 9,
     "metadata": {},
     "output_type": "execute_result"
    }
   ],
   "source": [
    "array_list"
   ]
  },
  {
   "cell_type": "code",
   "execution_count": 10,
   "id": "bef33dcd-4786-47ce-abd1-dfa1bad80116",
   "metadata": {},
   "outputs": [],
   "source": [
    "## Consider the below code to answer further questions:\n",
    "import numpy as np\n",
    "num_list = [ [ 1 , 2 , 3 ] , [ 4 , 5 , 6 ] ]\n",
    "num_array = np.array(object = num_list)"
   ]
  },
  {
   "cell_type": "markdown",
   "id": "e70b81b9-84d0-4b7b-8e68-42d15e1f8a12",
   "metadata": {},
   "source": [
    "### Q4) Write a code to find the following characteristics of variable, num_array:\n",
    "* (i) shape\n",
    "* (ii) size"
   ]
  },
  {
   "cell_type": "code",
   "execution_count": 11,
   "id": "63e9c45c-dd90-422c-be83-ea24c59a9995",
   "metadata": {},
   "outputs": [
    {
     "name": "stdout",
     "output_type": "stream",
     "text": [
      "* Shape:-  (2, 3)\n",
      "* Size :-  6\n"
     ]
    }
   ],
   "source": [
    "print(\"* Shape:- \",np.shape(num_array))\n",
    "print(\"* Size :- \",np.size(num_array))"
   ]
  },
  {
   "cell_type": "markdown",
   "id": "ed52161d-3b13-4b27-a042-af1034f9e071",
   "metadata": {},
   "source": [
    "### Q5. Write a code to create numpy array of 3*3 matrix containing zeros only, using a numpy array creation function.\n",
    ">[Hint: The size of the array will be 9 and the shape will be (3,3).]"
   ]
  },
  {
   "cell_type": "code",
   "execution_count": 12,
   "id": "aa9f5935-2d1b-40ac-99f8-44863bdea871",
   "metadata": {},
   "outputs": [
    {
     "data": {
      "text/plain": [
       "array([[0., 0., 0.],\n",
       "       [0., 0., 0.],\n",
       "       [0., 0., 0.]])"
      ]
     },
     "execution_count": 12,
     "metadata": {},
     "output_type": "execute_result"
    }
   ],
   "source": [
    "arr=np.zeros((3,3))\n",
    "arr"
   ]
  },
  {
   "cell_type": "markdown",
   "id": "aa01d5e6-060a-4828-9ae5-fdeb02d33d16",
   "metadata": {},
   "source": [
    "### Q6) Create an identity matrix of shape (5,5) using numpy functions?\n",
    ">[Hint: An identity matrix is a matrix containing 1 diagonally and other elements will be 0.]"
   ]
  },
  {
   "cell_type": "code",
   "execution_count": 13,
   "id": "36c8e6b9-683a-46ee-817b-81112fd39fc0",
   "metadata": {},
   "outputs": [
    {
     "data": {
      "text/plain": [
       "array([[1., 0., 0., 0., 0.],\n",
       "       [0., 1., 0., 0., 0.],\n",
       "       [0., 0., 1., 0., 0.],\n",
       "       [0., 0., 0., 1., 0.],\n",
       "       [0., 0., 0., 0., 1.]])"
      ]
     },
     "execution_count": 13,
     "metadata": {},
     "output_type": "execute_result"
    }
   ],
   "source": [
    "np.eye(5)"
   ]
  }
 ],
 "metadata": {
  "kernelspec": {
   "display_name": "Python 3 (ipykernel)",
   "language": "python",
   "name": "python3"
  },
  "language_info": {
   "codemirror_mode": {
    "name": "ipython",
    "version": 3
   },
   "file_extension": ".py",
   "mimetype": "text/x-python",
   "name": "python",
   "nbconvert_exporter": "python",
   "pygments_lexer": "ipython3",
   "version": "3.10.8"
  }
 },
 "nbformat": 4,
 "nbformat_minor": 5
}
