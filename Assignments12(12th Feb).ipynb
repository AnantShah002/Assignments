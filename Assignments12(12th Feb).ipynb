{
 "cells": [
  {
   "cell_type": "markdown",
   "id": "cad069d2-bd11-4a32-aaa3-05aed12fc341",
   "metadata": {},
   "source": [
    "### Qus-1) What is Exception in Python? Write the difference between Exception and Syntax errors.\n",
    "### Ans)\n",
    "**Exception:-** An exception is an event, which occurs during the execution of a program that disrupts the normal flow of the program's instructions. In general, when a Python script encounters a situation that it cannot cope with, it raises an exception. An exception is a Python object that represents an error.\n",
    "\n",
    "Errors are the problems in a program due to which the program will stop the execution. On the other hand, exceptions are raised when some internal events occur which changes the normal flow of the program. \n",
    "> Two types of Error occurs in python. \n",
    "1. Syntax errors\n",
    "2. Logical errors (Exceptions) \n",
    "\n",
    "* Syntax errors : When the proper syntax of the language is not followed then a syntax error is thrown.\n",
    "* Logical errors (Exceptions) : When in the runtime an error that occurs after passing the syntax test is called exception or logical type. For example, when we divide any number by zero then the ZeroDivisionError exception is raised, or when we import a module that does not exist then ImportError is raised."
   ]
  },
  {
   "cell_type": "code",
   "execution_count": 1,
   "id": "6c0f9dcc-295d-401e-b657-f73e1d501693",
   "metadata": {},
   "outputs": [
    {
     "ename": "SyntaxError",
     "evalue": "expected ':' (3920923991.py, line 3)",
     "output_type": "error",
     "traceback": [
      "\u001b[0;36m  Cell \u001b[0;32mIn[1], line 3\u001b[0;36m\u001b[0m\n\u001b[0;31m    if value > 10\u001b[0m\n\u001b[0m                 ^\u001b[0m\n\u001b[0;31mSyntaxError\u001b[0m\u001b[0;31m:\u001b[0m expected ':'\n"
     ]
    }
   ],
   "source": [
    "# Ex1:- Syntax errors\n",
    "value = 100\n",
    "if value > 10\n",
    "    return value"
   ]
  },
  {
   "cell_type": "code",
   "execution_count": 2,
   "id": "58c19f34-bf90-4848-a0dc-2e309cb35c0f",
   "metadata": {},
   "outputs": [
    {
     "ename": "ZeroDivisionError",
     "evalue": "division by zero",
     "output_type": "error",
     "traceback": [
      "\u001b[0;31m---------------------------------------------------------------------------\u001b[0m",
      "\u001b[0;31mZeroDivisionError\u001b[0m                         Traceback (most recent call last)",
      "Cell \u001b[0;32mIn[2], line 3\u001b[0m\n\u001b[1;32m      1\u001b[0m \u001b[38;5;66;03m# Ex2:- Logical errors (Exceptions)\u001b[39;00m\n\u001b[1;32m      2\u001b[0m value\u001b[38;5;241m=\u001b[39m\u001b[38;5;241m100\u001b[39m\n\u001b[0;32m----> 3\u001b[0m \u001b[43mvalue\u001b[49m\u001b[38;5;241;43m/\u001b[39;49m\u001b[38;5;241;43m0\u001b[39;49m\n",
      "\u001b[0;31mZeroDivisionError\u001b[0m: division by zero"
     ]
    }
   ],
   "source": [
    "# Ex2:- Logical errors (Exceptions)\n",
    "value=100\n",
    "value/0"
   ]
  },
  {
   "cell_type": "markdown",
   "id": "e9e61617-b878-4e38-871f-a7a79160e8f9",
   "metadata": {},
   "source": [
    "### Qus-2) What happens when an exception is not handled? Explain with an example.\n",
    "### Ans) If an exception occurs during execution of the try clause, the exception may be handled by an except clause. If the exception is not handled by an except clause, the exception is re-raised after the finally clause has been executed."
   ]
  },
  {
   "cell_type": "code",
   "execution_count": 3,
   "id": "117e6881-0898-45b2-9a93-b8fc675de973",
   "metadata": {},
   "outputs": [
    {
     "ename": "ZeroDivisionError",
     "evalue": "division by zero",
     "output_type": "error",
     "traceback": [
      "\u001b[0;31m---------------------------------------------------------------------------\u001b[0m",
      "\u001b[0;31mZeroDivisionError\u001b[0m                         Traceback (most recent call last)",
      "Cell \u001b[0;32mIn[3], line 2\u001b[0m\n\u001b[1;32m      1\u001b[0m value\u001b[38;5;241m=\u001b[39m\u001b[38;5;241m100\u001b[39m\n\u001b[0;32m----> 2\u001b[0m \u001b[43mvalue\u001b[49m\u001b[38;5;241;43m/\u001b[39;49m\u001b[38;5;241;43m0\u001b[39;49m\n",
      "\u001b[0;31mZeroDivisionError\u001b[0m: division by zero"
     ]
    }
   ],
   "source": [
    "value=100\n",
    "value/0"
   ]
  },
  {
   "cell_type": "markdown",
   "id": "f30d7085-b19f-4374-9387-f91bd2d11f74",
   "metadata": {},
   "source": [
    "### Qus-3) Which Python statements are used to catch and handle exceptions? Explain with an example.\n",
    "### Ans) In Python, the try and except statements are used to catch and handle exceptions. The basic structure of a try-except statement is as follows:"
   ]
  },
  {
   "cell_type": "code",
   "execution_count": 4,
   "id": "d2065d33-f3ff-47e3-a5a6-f274a79484ca",
   "metadata": {},
   "outputs": [],
   "source": [
    "import logging\n",
    "logging.basicConfig(filename=\"text.log\",level=logging.INFO)\n",
    "\n",
    "value=100\n",
    "\n",
    "try:\n",
    "    logging.info(\"Divide Value by zero\")\n",
    "    value/0\n",
    "except ZeroDivisionError as e:\n",
    "    logging.error(\"You can't divide by zero! :-  \" + str(e))\n"
   ]
  },
  {
   "cell_type": "markdown",
   "id": "01d386ad-6ca0-4a49-ac06-74485a9e1a3e",
   "metadata": {},
   "source": [
    "### Qus-4) Explain the following with examples:\n",
    "1. try and else\n",
    "2. finally\n",
    "3. raise"
   ]
  },
  {
   "cell_type": "code",
   "execution_count": 5,
   "id": "d17e14fc-46ab-4f18-837a-9eddeb0bb407",
   "metadata": {},
   "outputs": [],
   "source": [
    "# Ex1:- try and else \n",
    "value=100\n",
    "\n",
    "try:\n",
    "    logging.info(\"Divide Value by 10\")\n",
    "    a=value/10\n",
    "except ZeroDivisionError as e:\n",
    "    logging.error(\"You can't divide by zero! :-  \" + str(e))\n",
    "else:\n",
    "    logging.info(\"Divide Value by 10 and anser is :- \" + str(a))"
   ]
  },
  {
   "cell_type": "code",
   "execution_count": 6,
   "id": "c8f2b528-a853-4ed9-8c75-d3a5a430dbd0",
   "metadata": {},
   "outputs": [],
   "source": [
    "# Ex2:- finally \n",
    "value=100\n",
    "\n",
    "try:\n",
    "    logging.info(\"Divide Value by 10\")\n",
    "    a=value/10\n",
    "except ZeroDivisionError as e:\n",
    "    logging.error(\"You can't divide by zero! :-  \" + str(e))\n",
    "else:\n",
    "    logging.info(\"Divide Value by 10 and anser is :- \" + str(a))\n",
    "finally:\n",
    "    logging.info(\"My Value is :- \"+ str(value))"
   ]
  },
  {
   "cell_type": "code",
   "execution_count": 7,
   "id": "a7ea2e05-8901-4e29-aec5-a32114904eef",
   "metadata": {},
   "outputs": [],
   "source": [
    "# Ex3:- raise\n",
    "def validation_process(age):\n",
    "    logging.info(\"Age validation function\")\n",
    "    if age<0:\n",
    "        logging.info(\"Check age is in negative\")\n",
    "        raise Exception(\"Age is never negative!\")\n",
    "    elif age > 150:\n",
    "        logging.info(\"Check age is fack or not\")\n",
    "        raise Exception(\"Age is too high!\")\n",
    "    else:\n",
    "        logging.info(\"Age validation complete\")"
   ]
  },
  {
   "cell_type": "code",
   "execution_count": 8,
   "id": "3727a3da-e46b-463a-afd5-bad4488355c8",
   "metadata": {},
   "outputs": [
    {
     "name": "stdin",
     "output_type": "stream",
     "text": [
      "Enter you'r age -20\n"
     ]
    }
   ],
   "source": [
    "age=int(input(\"Enter you'r age\"))\n",
    "try:\n",
    "    validation_process(age)\n",
    "    logging.info(\"Insert age\")\n",
    "except Exception as e:\n",
    "    logging.info(\"Validdation error :- \"+ str(e))\n",
    "finally:\n",
    "    logging.info(\"Insert age is :- \"+ str(age))\n",
    "    "
   ]
  },
  {
   "cell_type": "markdown",
   "id": "e73d29f0-5909-4bbe-a159-eb70365c8ccc",
   "metadata": {},
   "source": [
    "### Qus-5) What are Custom Exceptions in Pyton? Why do we need custom exceptions? Explain with an example.\n",
    "\n",
    "### Ans)\n",
    "Custom Exceptions are user-defined exceptions that can be raised and caught in a program. Custom exceptions are created by creating a new class that inherits from the built-in Exception class. We need custom exceptions in a program for several reasons:\n",
    "\n",
    "1. Improved error handling\n",
    "2. Better organization\n",
    "3. Better reusability"
   ]
  },
  {
   "cell_type": "code",
   "execution_count": 9,
   "id": "c6950c04-e33d-4670-9ed4-e77955d37a2e",
   "metadata": {},
   "outputs": [
    {
     "name": "stdin",
     "output_type": "stream",
     "text": [
      "Enter you'r age 200\n"
     ]
    }
   ],
   "source": [
    "class Validation(Exception):\n",
    "    def __init__(self,mes):\n",
    "        self.mes=mes\n",
    "\n",
    "def validation_process(age):\n",
    "    logging.info(\"Age validation function\")\n",
    "    if age<0:\n",
    "        logging.info(\"Check age is in negative\")\n",
    "        raise Validation(\"Age is never negative!\")\n",
    "    elif age > 150:\n",
    "        logging.info(\"Check age is fack or not\")\n",
    "        raise Validation(\"Age is too high!\")\n",
    "    else:\n",
    "        logging.info(\"Age validation complete\")\n",
    "        \n",
    "\n",
    "age=int(input(\"Enter you'r age\"))\n",
    "try:\n",
    "    validation_process(age)\n",
    "    logging.info(\"Insert age\")\n",
    "except Exception as e:\n",
    "    logging.error(\"Validdation error :- \"+ str(e))\n",
    "finally:\n",
    "    logging.info(\"Insert age is :- \"+ str(age))"
   ]
  },
  {
   "cell_type": "markdown",
   "id": "3721a33a-3987-4707-b1c5-665abe246c35",
   "metadata": {},
   "source": [
    "### Qus-6) Create a custom exception class. Use this class to handle an exception."
   ]
  },
  {
   "cell_type": "code",
   "execution_count": 10,
   "id": "d8bf3196-50f0-409d-bf56-4368a09d11ca",
   "metadata": {},
   "outputs": [
    {
     "name": "stdin",
     "output_type": "stream",
     "text": [
      "Enter you'r age 50\n"
     ]
    }
   ],
   "source": [
    "class Validation(Exception):\n",
    "    def __init__(self,mes):\n",
    "        self.mes=mes\n",
    "\n",
    "def validation_process(age):\n",
    "    logging.info(\"Age validation function\")\n",
    "    if age<0:\n",
    "        logging.info(\"Check age is in negative\")\n",
    "        raise Validation(\"Age is never negative!\")\n",
    "    elif age > 150:\n",
    "        logging.info(\"Check age is fack or not\")\n",
    "        raise Validation(\"Age is too high!\")\n",
    "    else:\n",
    "        logging.info(\"Age validation complete\")\n",
    "        \n",
    "\n",
    "age=int(input(\"Enter you'r age\"))\n",
    "try:\n",
    "    validation_process(age)\n",
    "    logging.info(\"Insert age\")\n",
    "except Exception as e:\n",
    "    logging.error(\"Validdation error :- \"+ str(e))\n",
    "finally:\n",
    "    logging.info(\"Insert age is :- \"+ str(age))"
   ]
  }
 ],
 "metadata": {
  "kernelspec": {
   "display_name": "Python 3 (ipykernel)",
   "language": "python",
   "name": "python3"
  },
  "language_info": {
   "codemirror_mode": {
    "name": "ipython",
    "version": 3
   },
   "file_extension": ".py",
   "mimetype": "text/x-python",
   "name": "python",
   "nbconvert_exporter": "python",
   "pygments_lexer": "ipython3",
   "version": "3.10.8"
  }
 },
 "nbformat": 4,
 "nbformat_minor": 5
}
