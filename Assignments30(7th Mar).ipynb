{
 "cells": [
  {
   "cell_type": "markdown",
   "id": "cacad41d-d394-469c-b697-d41ae1591c98",
   "metadata": {},
   "source": [
    "# Statistics Basic Assignment"
   ]
  },
  {
   "cell_type": "markdown",
   "id": "17e0c5d9-1573-4964-bf7e-d84fd66e7a38",
   "metadata": {},
   "source": [
    "### Qus-1) What are the three measures of central tendency?"
   ]
  },
  {
   "cell_type": "markdown",
   "id": "5ded8280-1f7a-4385-a640-f5d8453581d8",
   "metadata": {},
   "source": [
    "#### Ans) There are Three type of central tendency\n",
    "* Mean OR Average\n",
    "* Median\n",
    "* Mode"
   ]
  },
  {
   "cell_type": "markdown",
   "id": "511913d3-e61f-43f9-b8bf-7b865eba2e8a",
   "metadata": {},
   "source": [
    "### Qus-2) What is the difference between the mean, median, and mode? How are they used to measure the central tendency of a dataset?"
   ]
  },
  {
   "cell_type": "markdown",
   "id": "63c98f62-229f-4c7a-90b3-e679d7ef6b8a",
   "metadata": {},
   "source": [
    "#### Ans)\n",
    "Central tendency refers to identifying the central position of the given data set. Central tendency has 3 important measures that are Mean, Median, and Mode. Students are several times confused between each of them. So here, we will explain the differences between all three of them with the help of examples.  \n",
    "\n",
    "* **Mean:-** Mean, here the arithmetic mean is the most used measure of central tendency. With both discrete and continuous data set, a mean can be obtained. To obtain the mean of a set of numbers, you have to sum up all the numbers and then divide it using the total numbers. In short, it is taking out the average of all numbers. It can also be said that it is the ratio of the sum of all observations to the total no of observations. In pre-primary classes, it was introduced as average to the students while in higher classes we came to know that it is also known as Mean. \n",
    "\n",
    "* **Median:-** When you arrange a given set of numbers from smaller to biggest, the middle number is said to be the median. Arrange any given series in either ascending or descending order or the middle value then is termed as the median. To find the median the data can be arranged in either descending order or ascending order. In geometry, it is defined as the centre or midpoint of a polygon. \n",
    "\n",
    "* **Mode:-** The most repeated number in a given set of observations is the mode or it can also be said that the Number or Value which have the highest frequency in a given series of numbers. It is also known as the modal value. It is a part of 3 central tendencies apart from the median and Mean. It is the highest bar if presented in a histogram or a chart form.  If there is no repeated number in a given series then no Mode will exist for that series."
   ]
  },
  {
   "cell_type": "markdown",
   "id": "7fa0f859-24b4-4071-b816-0ad8877a93ec",
   "metadata": {
    "tags": []
   },
   "source": [
    "### Qus-3) Measure the three measures of central tendency for the given height data:\n",
    ">[178,177,176,177,178.2,178,175,179,180,175,178.9,176.2,177,172.5,178,176.5]\n"
   ]
  },
  {
   "cell_type": "code",
   "execution_count": 1,
   "id": "95475619-e696-45ed-8d3d-ccd1ec2991a4",
   "metadata": {},
   "outputs": [
    {
     "data": {
      "text/plain": [
       "177.01875"
      ]
     },
     "execution_count": 1,
     "metadata": {},
     "output_type": "execute_result"
    }
   ],
   "source": [
    "# Using Numpy \n",
    "import numpy as np\n",
    "data=[178,177,176,177,178.2,178,175,179,180,175,178.9,176.2,177,172.5,178,176.5]\n",
    "np.mean(data)"
   ]
  },
  {
   "cell_type": "markdown",
   "id": "cc54c188-f6e9-4323-91c3-e08333786d31",
   "metadata": {},
   "source": [
    "### Qus-4) Find the standard deviation for the given data:\n",
    ">[178,177,176,177,178.2,178,175,179,180,175,178.9,176.2,177,172.5,178,176.5]\n"
   ]
  },
  {
   "cell_type": "code",
   "execution_count": 2,
   "id": "89b60b1e-4c27-48a0-b008-e6cc6a74be56",
   "metadata": {},
   "outputs": [
    {
     "data": {
      "text/plain": [
       "1.7885814036548633"
      ]
     },
     "execution_count": 2,
     "metadata": {},
     "output_type": "execute_result"
    }
   ],
   "source": [
    "# Using Numpy \n",
    "import numpy as np\n",
    "data=[178,177,176,177,178.2,178,175,179,180,175,178.9,176.2,177,172.5,178,176.5]\n",
    "np.std(data)"
   ]
  },
  {
   "cell_type": "markdown",
   "id": "6c5e8212-1975-4d16-af41-903ef3b9da2f",
   "metadata": {},
   "source": [
    "### Qus-5) How are measures of dispersion such as range, variance, and standard deviation used to describe the spread of a dataset? Provide an example.\n"
   ]
  },
  {
   "cell_type": "markdown",
   "id": "658928d3-aeee-4150-82ce-60a54104685a",
   "metadata": {},
   "source": [
    "#### Ans) \n",
    "Measures of dispersion, such as range, variance, and standard deviation, describe the spread or variability of a data set. They complement measures of central tendency, such as the mean, median, and mode, by providing additional information about how much the data values deviate from the center.\n",
    "\n",
    "Range is the simplest measure of dispersion, and it is calculated by subtracting the minimum value from the maximum value in a data set. The range provides an idea of the spread of the data but is not as informative as other measures of dispersion, as it only takes into account the two extreme values.\n",
    "\n",
    "Variance and standard deviation are more informative measures of dispersion that take into account all the values in a data set. Variance is the average of the squared deviations of each value from the mean, while the standard deviation is the square root of the variance. The standard deviation is often preferred because it has the same units as the original data set, while variance is in squared units.\n",
    "\n",
    "* **For example:-** let's consider the following data set of test scores: 70, 80, 85, 90, 95.\n",
    "The mean score is 84, and the range is 25 (95 - 70).\n",
    "To calculate the variance, we first find the deviation of each score from the mean: -14, -4, 1, 6, 11. Squaring each deviation gives: 196, 16, 1, 36, 121. The sum of these squared deviations is 370, which, divided by the number of scores (5), gives a variance of 74.\n",
    "To find the standard deviation, we take the square root of the variance, giving us a standard deviation of approximately 8.6.\n",
    "\n",
    "In the above example, the standard deviation tells us that the scores are fairly tightly clustered around the mean, with only a few scores deviating significantly from the mean. This information can be useful in understanding the distribution of the scores and in making decisions about how to interpret them."
   ]
  },
  {
   "cell_type": "markdown",
   "id": "d5132c78-bb4b-4475-9aef-e37e2077f022",
   "metadata": {},
   "source": [
    "### Qus-6). What is a Venn diagram?"
   ]
  },
  {
   "cell_type": "markdown",
   "id": "8b0979af-9bf1-4b22-935b-abbac1e49a3c",
   "metadata": {
    "jp-MarkdownHeadingCollapsed": true,
    "tags": []
   },
   "source": [
    "#### Ans)\n",
    "A Venn diagram is a graphical representation of sets or groups.\n",
    "\n",
    "A Venn diagram consists of one or more circles or other shapes, each representing a set or group. The circles may overlap, indicating elements that belong to more than one set. The area within each circle represents the elements that belong to that set, while the overlap between circles represents the elements that belong to both sets.\n",
    "\n",
    "Venn diagrams are useful for visualizing relationships between sets and for analyzing data with multiple categories or variables. They can also be used to illustrate logical relationships between concepts or propositions."
   ]
  },
  {
   "cell_type": "markdown",
   "id": "5e65e0a4-d266-445b-91e6-ceaeffb4241f",
   "metadata": {},
   "source": [
    "### Qus-7) For the two given sets A = (2,3,4,5,6,7) & B = (0,2,6,8,10). Find:\n",
    "1) A B\n",
    "2) A ⋃ B\n"
   ]
  },
  {
   "cell_type": "markdown",
   "id": "6093c389-9c22-47cb-b057-8f26c652b132",
   "metadata": {},
   "source": [
    "#### Ans) In python, we can use the \"|\" or \"&\" operator to find union or intersection between two collections. As:"
   ]
  },
  {
   "cell_type": "code",
   "execution_count": 3,
   "id": "5fea93c1-7ec7-462a-8ae7-a9a3cf91211c",
   "metadata": {},
   "outputs": [
    {
     "name": "stdout",
     "output_type": "stream",
     "text": [
      "Union:-  {0, 2, 3, 4, 5, 6, 7, 8, 10}\n",
      "Intersection:-  {2, 6}\n"
     ]
    }
   ],
   "source": [
    "A = {2,3,4,5,6,7} \n",
    "B = {0,2,6,8,10}\n",
    "print(\"Union:- \",A.union(B))\n",
    "print(\"Intersection:- \",A.intersection(B))"
   ]
  },
  {
   "cell_type": "markdown",
   "id": "0c4fa37f-bc87-43d8-81ca-4f12d17fb2be",
   "metadata": {},
   "source": [
    "### Qus-8) What do you understand about skewness in data?\n"
   ]
  },
  {
   "cell_type": "markdown",
   "id": "11264e40-f47c-4a8b-8a6d-8a3d15a9bf7e",
   "metadata": {},
   "source": [
    "#### Ans) \n",
    "Skewness can be defined as a statistical measure that describes the lack of symmetry or asymmetry in the probability distribution of a dataset. It quantifies the degree to which the data deviates from a perfectly symmetrical distribution, such as a normal (bell-shaped) distribution. Skewness is a valuable statistical term because it provides insight into the shape and nature of a dataset’s distribution. \n",
    " * For example, understanding whether a dataset is positively or negatively skewed can be important in various fields, including finance, economics, and data analysis, as it can impact the interpretation of data and the choice of statistical techniques\n",
    "\n",
    "**Positive and Negative Skewness**\n",
    "\n",
    "Positive skewness and negative skewness are two different ways that a dataset’s distribution can deviate from perfect symmetry (a normal distribution). They describe the direction of the skew or asymmetry in the data.\n",
    "\n",
    "1. **Positive Skewness** (Right Skew):- In a positively skewed distribution, the tail on the right side (the larger values) is longer than the tail on the left side (the smaller values). This means that the majority of data points are concentrated on the left side of the distribution, and there are some extreme values on the right side. In the case of a positively skewed dataset,\n",
    "\n",
    ">Mean > Median > Mode\n",
    "\n",
    "* Examples of positively skewed data include income distribution (where most people earn a moderate income, but a few earn extremely high incomes), exam scores (where most students score in a certain range, but a few score exceptionally high), and stock market returns (where most days have modest returns, but a few days may have very high returns).\n",
    "\n",
    "2. **Negative Skewness** (Left Skew):- In a negatively skewed distribution, the tail on the left side (the smaller values) is longer than the tail on the right side (the larger values). This implies that most of the data points are concentrated on the right side of the distribution, with a few extreme values on the left side. In the case of a negatively skewed dataset,\n",
    "\n",
    ">Mean < Median < Mode\n",
    "\n",
    "Examples of negatively skewed data include test scores on an easy test (where most students score well, but a few score very low), the age at retirement (where most people retire at a certain age, but a few retire exceptionally early), and the gestational age at birth (where most babies are born full-term, but a few are born prematurely)."
   ]
  },
  {
   "cell_type": "markdown",
   "id": "e80db85b-7ff2-44e3-9516-193bc0f1c320",
   "metadata": {},
   "source": [
    "### Qus-9) If a data is right skewed then what will be the position of median with respect to mean?\n"
   ]
  },
  {
   "cell_type": "markdown",
   "id": "c689dcc4-ad2b-4ceb-8f77-9b6929d5991b",
   "metadata": {},
   "source": [
    "#### Ans) If a data set is right-skewed (positively skewed), then the median will be less than the mean. This is because the mean is influenced by the larger values in the tail of the distribution, while the median is less sensitive to extreme values and is instead based on the middle value(s) in the dataset."
   ]
  },
  {
   "cell_type": "markdown",
   "id": "0a19b8ad-f785-4cd5-bc9b-452a5d28dea1",
   "metadata": {},
   "source": [
    "### Qus-10) Explain the difference between covariance and correlation. How are these measures used in statistical analysis?\n"
   ]
  },
  {
   "cell_type": "markdown",
   "id": "b6a5a853-97bf-42f4-a518-33712e52fb16",
   "metadata": {},
   "source": [
    "#### Ans)\n",
    "* **Covariance*:-* Is a measure of the degree to which two variables vary together. Specifically, it measures how much the two variables move together in the same direction. A positive covariance indicates that the two variables tend to increase or decrease together, while a negative covariance indicates that they tend to move in opposite directions.\n",
    "\n",
    "However, the magnitude of the covariance alone does not provide a clear understanding of the strength or direction of the relationship between the variables.\n",
    "\n",
    "* **Correlation:-** on the other hand, measures both the strength and direction of the relationship between two variables. Unlike covariance, correlation is standardized, meaning it is scaled between -1 and 1. A correlation coefficient of +1 indicates a perfect positive correlation, while a correlation coefficient of -1 indicates a perfect negative correlation. A correlation coefficient of 0 indicates no linear relationship between the variables.\n",
    "\n",
    "In statistical analysis, covariance and correlation are used to measure the relationship between two variables. They are used to determine whether the two variables are related, and if so, how strongly and in what direction.\n",
    "\n"
   ]
  },
  {
   "cell_type": "markdown",
   "id": "9d427372-7100-4475-8ca2-0147a7da0327",
   "metadata": {},
   "source": [
    "### Qus-11) What is the formula for calculating the sample mean? Provide an example calculation for a dataset.\n"
   ]
  },
  {
   "cell_type": "markdown",
   "id": "5472b42a-a5c6-4b36-8b28-cca9c6c20e5f",
   "metadata": {},
   "source": [
    "#### Ans)\n",
    "Sample Mean = (Sum of terms) ÷ (Number of Terms) =**∑x**i/n =(x1+x2+x3+⋯+xn)/n\n",
    "\n",
    "**∑x**i = sum of terms\n",
    "\n",
    "n = number of terms"
   ]
  },
  {
   "cell_type": "code",
   "execution_count": 4,
   "id": "16a99d1d-ac82-4ac7-a0e1-68bddebe0d28",
   "metadata": {},
   "outputs": [
    {
     "data": {
      "text/html": [
       "<div>\n",
       "<style scoped>\n",
       "    .dataframe tbody tr th:only-of-type {\n",
       "        vertical-align: middle;\n",
       "    }\n",
       "\n",
       "    .dataframe tbody tr th {\n",
       "        vertical-align: top;\n",
       "    }\n",
       "\n",
       "    .dataframe thead th {\n",
       "        text-align: right;\n",
       "    }\n",
       "</style>\n",
       "<table border=\"1\" class=\"dataframe\">\n",
       "  <thead>\n",
       "    <tr style=\"text-align: right;\">\n",
       "      <th></th>\n",
       "      <th>total_bill</th>\n",
       "      <th>tip</th>\n",
       "      <th>sex</th>\n",
       "      <th>smoker</th>\n",
       "      <th>day</th>\n",
       "      <th>time</th>\n",
       "      <th>size</th>\n",
       "    </tr>\n",
       "  </thead>\n",
       "  <tbody>\n",
       "    <tr>\n",
       "      <th>0</th>\n",
       "      <td>16.99</td>\n",
       "      <td>1.01</td>\n",
       "      <td>Female</td>\n",
       "      <td>No</td>\n",
       "      <td>Sun</td>\n",
       "      <td>Dinner</td>\n",
       "      <td>2</td>\n",
       "    </tr>\n",
       "    <tr>\n",
       "      <th>1</th>\n",
       "      <td>10.34</td>\n",
       "      <td>1.66</td>\n",
       "      <td>Male</td>\n",
       "      <td>No</td>\n",
       "      <td>Sun</td>\n",
       "      <td>Dinner</td>\n",
       "      <td>3</td>\n",
       "    </tr>\n",
       "    <tr>\n",
       "      <th>2</th>\n",
       "      <td>21.01</td>\n",
       "      <td>3.50</td>\n",
       "      <td>Male</td>\n",
       "      <td>No</td>\n",
       "      <td>Sun</td>\n",
       "      <td>Dinner</td>\n",
       "      <td>3</td>\n",
       "    </tr>\n",
       "    <tr>\n",
       "      <th>3</th>\n",
       "      <td>23.68</td>\n",
       "      <td>3.31</td>\n",
       "      <td>Male</td>\n",
       "      <td>No</td>\n",
       "      <td>Sun</td>\n",
       "      <td>Dinner</td>\n",
       "      <td>2</td>\n",
       "    </tr>\n",
       "    <tr>\n",
       "      <th>4</th>\n",
       "      <td>24.59</td>\n",
       "      <td>3.61</td>\n",
       "      <td>Female</td>\n",
       "      <td>No</td>\n",
       "      <td>Sun</td>\n",
       "      <td>Dinner</td>\n",
       "      <td>4</td>\n",
       "    </tr>\n",
       "  </tbody>\n",
       "</table>\n",
       "</div>"
      ],
      "text/plain": [
       "   total_bill   tip     sex smoker  day    time  size\n",
       "0       16.99  1.01  Female     No  Sun  Dinner     2\n",
       "1       10.34  1.66    Male     No  Sun  Dinner     3\n",
       "2       21.01  3.50    Male     No  Sun  Dinner     3\n",
       "3       23.68  3.31    Male     No  Sun  Dinner     2\n",
       "4       24.59  3.61  Female     No  Sun  Dinner     4"
      ]
     },
     "execution_count": 4,
     "metadata": {},
     "output_type": "execute_result"
    }
   ],
   "source": [
    "import seaborn as sns\n",
    "\n",
    "tips=sns.load_dataset('tips')\n",
    "tips.head()"
   ]
  },
  {
   "cell_type": "code",
   "execution_count": 5,
   "id": "ddf9386a-ae70-4f8a-88ae-f2cbb7073cb6",
   "metadata": {},
   "outputs": [
    {
     "name": "stdout",
     "output_type": "stream",
     "text": [
      "Mean total bill paid by customers is: 19.78594262295082\n"
     ]
    }
   ],
   "source": [
    "Mean=tips['total_bill'].mean()\n",
    "\n",
    "print(f\"Mean total bill paid by customers is: {Mean}\")"
   ]
  },
  {
   "cell_type": "markdown",
   "id": "b2cd601b-353c-46c5-b662-09da6bdfe63b",
   "metadata": {},
   "source": [
    "### Qus-12) For a normal distribution data what is the relationship between its measure of central tendency?\n"
   ]
  },
  {
   "cell_type": "markdown",
   "id": "21bab2b8-138b-454f-a69e-20009ab7e750",
   "metadata": {},
   "source": [
    "#### Ans)\n",
    "* **Normal distribution:-** In a normal distribution, data is symmetrically distributed with no skew. Most values cluster around a central region, with values tapering off as they go further away from the center. The mean, mode and median are exactly the same in a normal distribution.\n",
    "\n",
    "**Example**  Normal distribution\n",
    "You survey a sample in your local community on the number of books they read in the last year.\n",
    "A histogram of your data shows the frequency of responses for each possible number of books. From looking at the chart, you see that there is a normal distribution.\n",
    ">The mean, median and mode are all equal the central tendency of this dataset is 8."
   ]
  },
  {
   "cell_type": "markdown",
   "id": "74eaddbc-dcef-46b8-836e-766aaa575237",
   "metadata": {
    "tags": []
   },
   "source": [
    "### Qus-13) How is covariance different from correlation?\n"
   ]
  },
  {
   "cell_type": "markdown",
   "id": "3fac2ac4-91a8-4c9a-9d78-be5b65b670c5",
   "metadata": {},
   "source": [
    "#### Ans)The two major differences between covariance and correlation are:\n",
    "\n",
    "* **Scale:-** Covariance is not standardized, which means it can take on any value (positive, negative, or zero), and its units are the product of the units of the two variables being measured. In contrast, correlation is standardized, with values ranging from -1 to +1, and its units are dimensionless.\n",
    "\n",
    "* **Magnitude:-** Covariance measures the direction and strength of the linear relationship between two variables. However, because it is not standardized, the magnitude of the covariance value does not provide a clear indication of the strength of the relationship. Correlation, on the other hand, measures both the direction and strength of the linear relationship between two variables, making it a more informative measure of association."
   ]
  },
  {
   "cell_type": "markdown",
   "id": "f1d6ab76-6873-477f-86dd-193c17ce8823",
   "metadata": {},
   "source": [
    "### Qus-14) How do outliers affect measures of central tendency and dispersion? Provide an example."
   ]
  },
  {
   "cell_type": "markdown",
   "id": "e70d636d-0237-4d8e-acb3-cd1a8601388a",
   "metadata": {},
   "source": [
    "#### Ans)\n",
    "Outliers are data values that are very different from the rest of the data. They can affect measures of central tendency and dispersion, which are statistics that describe the center and spread of a dataset."
   ]
  },
  {
   "cell_type": "code",
   "execution_count": 6,
   "id": "cf392df7-483f-4825-9262-1a79e7f6eec4",
   "metadata": {},
   "outputs": [
    {
     "name": "stdout",
     "output_type": "stream",
     "text": [
      "Mean: 15.0\n",
      "Median: 15.0\n"
     ]
    }
   ],
   "source": [
    "# Measures of Central Tendency Without Outliers\n",
    "data=[10, 12, 15, 18, 20]\n",
    "\n",
    "print(f'Mean: {np.mean(data)}')\n",
    "print(f'Median: {np.median(data)}')"
   ]
  },
  {
   "cell_type": "code",
   "execution_count": 7,
   "id": "ec114011-e7a2-449e-88d3-d0a920d2e292",
   "metadata": {},
   "outputs": [
    {
     "name": "stdout",
     "output_type": "stream",
     "text": [
      "Mean: 179.16666666666666\n",
      "Median: 16.5\n"
     ]
    }
   ],
   "source": [
    "# Measures of Central Tendency With Outliers\n",
    "data=[10, 12, 15, 18, 20, 1000]\n",
    "\n",
    "print(f'Mean: {np.mean(data)}')\n",
    "print(f'Median: {np.median(data)}')"
   ]
  },
  {
   "cell_type": "code",
   "execution_count": 8,
   "id": "519cac67-7674-4a8f-a9c1-df7083c96b34",
   "metadata": {},
   "outputs": [
    {
     "name": "stdout",
     "output_type": "stream",
     "text": [
      "Variance: 13.6\n",
      "Standard Deviation: 3.687817782917155\n"
     ]
    }
   ],
   "source": [
    "# Measures of Dispersion Without Outliers\n",
    "data=[10, 12, 15, 18, 20]\n",
    "\n",
    "print(f'Variance: {np.var(data)}')\n",
    "print(f'Standard Deviation: {np.std(data)}')"
   ]
  },
  {
   "cell_type": "code",
   "execution_count": 9,
   "id": "c3f5df29-c6fb-4d17-97c6-ec469ca5bd89",
   "metadata": {},
   "outputs": [
    {
     "name": "stdout",
     "output_type": "stream",
     "text": [
      "Variance: 134764.80555555553\n",
      "Standard Deviation: 367.1032627961178\n"
     ]
    }
   ],
   "source": [
    "# Measures of Dispersion With Outliers\n",
    "data=[10, 12, 15, 18, 20, 1000]\n",
    "\n",
    "print(f'Variance: {np.var(data)}')\n",
    "print(f'Standard Deviation: {np.std(data)}')"
   ]
  }
 ],
 "metadata": {
  "kernelspec": {
   "display_name": "Python 3 (ipykernel)",
   "language": "python",
   "name": "python3"
  },
  "language_info": {
   "codemirror_mode": {
    "name": "ipython",
    "version": 3
   },
   "file_extension": ".py",
   "mimetype": "text/x-python",
   "name": "python",
   "nbconvert_exporter": "python",
   "pygments_lexer": "ipython3",
   "version": "3.10.8"
  }
 },
 "nbformat": 4,
 "nbformat_minor": 5
}
