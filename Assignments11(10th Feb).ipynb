{
 "cells": [
  {
   "cell_type": "markdown",
   "id": "103a154d-41b4-4f77-ac9d-60f4a478e178",
   "metadata": {
    "tags": []
   },
   "source": [
    "### Q1. Which function is used to open a file? What are the different modes of opening a file? Explain each mode of file opening."
   ]
  },
  {
   "cell_type": "code",
   "execution_count": 31,
   "id": "4f942c6f-65c3-423b-a9be-4a331711664b",
   "metadata": {},
   "outputs": [
    {
     "data": {
      "text/plain": [
       "<_io.TextIOWrapper name='text.txt' mode='w+' encoding='UTF-8'>"
      ]
     },
     "execution_count": 31,
     "metadata": {},
     "output_type": "execute_result"
    }
   ],
   "source": [
    "# Ex1:-\n",
    "f=open(\"text.txt\",\"w+\")\n",
    "f"
   ]
  },
  {
   "cell_type": "code",
   "execution_count": 32,
   "id": "53cc9daa-b211-4956-9b31-6007dad1d0a3",
   "metadata": {},
   "outputs": [
    {
     "name": "stdout",
     "output_type": "stream",
     "text": [
      "<_io.TextIOWrapper name='text.txt' mode='r' encoding='UTF-8'>\n"
     ]
    }
   ],
   "source": [
    "# Ex2:-\n",
    "with open(\"text.txt\") as f:\n",
    "    print(f)"
   ]
  },
  {
   "cell_type": "markdown",
   "id": "8f3a1415-2c7e-41ed-a33a-01c8f16cf931",
   "metadata": {},
   "source": [
    "> Different Modes to Open a File in Python\n",
    "1. r :-\tOpen a file for reading. (default)\n",
    "2. w :-\tOpen a file for writing. Creates a new file if it does not exist or truncates the file if it exists.\n",
    "3. x :-\tOpen a file for exclusive creation. If the file already exists, the operation fails.\n",
    "4. a :-\tOpen a file for appending at the end of the file without truncating it. Creates a new file if it does not exist.\n",
    "5. t :-\tOpen in text mode. (default)\n",
    "6. b :-\tOpen in binary mode.\n",
    "7. '+' :-\tOpen a file for updating (reading and writing)"
   ]
  },
  {
   "cell_type": "markdown",
   "id": "9523fd1b-272e-4e68-900e-ee0b3e18943c",
   "metadata": {},
   "source": [
    "### Q2. Why close() function is used? Why is it important to close a file?\n",
    "### Ans)  \n",
    "When we open a file for reading, it is good practice to close the file because it is a resource your program is using such as memory it no longer needs.\n",
    "\n",
    "When you open a file for writing , there is an additional reason for closing the file. The file close does an implicit flush which writes to the file on disk. Basically, your write operations will change a hidden buffer. At some cadence, the buffer is written to the file on disk. If your program does not close the file, some of the data that you thought was written to the file on disk was not actually written"
   ]
  },
  {
   "cell_type": "markdown",
   "id": "8dce0ecf-8036-4934-8caa-d480ef3dedce",
   "metadata": {},
   "source": [
    "### Q3. Write a python program to create a text file. Write ‘I want to become a Data Scientist’ in that file. Then close the file. Open this file and read the content of the file."
   ]
  },
  {
   "cell_type": "code",
   "execution_count": 33,
   "id": "cbd141a7-e400-48c0-80af-49228049502d",
   "metadata": {},
   "outputs": [],
   "source": [
    "with open(\"text.txt\",\"w\") as f:\n",
    "    f.write(\"I want to become a Data Scientist\")\n",
    "f.close()"
   ]
  },
  {
   "cell_type": "code",
   "execution_count": 34,
   "id": "455310f9-ad3c-47b1-b57a-27ad99e95979",
   "metadata": {},
   "outputs": [
    {
     "name": "stdout",
     "output_type": "stream",
     "text": [
      "I want to become a Data Scientist\n"
     ]
    }
   ],
   "source": [
    "with open(\"text.txt\",\"r\") as f:\n",
    "    print(f.read())\n",
    "\n",
    "f.close()    "
   ]
  },
  {
   "cell_type": "markdown",
   "id": "31d91d5a-b392-4327-a7fb-1faf82cee6f6",
   "metadata": {},
   "source": [
    "### Q4. Explain the following with python code: read(), readline() and readlines().\n",
    "### Ans) There are three ways to read data from a text file.\n",
    "* read() : Returns the read bytes in form of a string. Reads n bytes, if no n specified, reads the entire file.\n",
    "* readline() : Reads a line of the file and returns in form of a string.For specified n, reads at most n bytes. However, does not reads more than one line, even if n exceeds the length of the line.\n",
    "* readlines() : Reads all the lines and return them as each line a string element in a list."
   ]
  },
  {
   "cell_type": "code",
   "execution_count": 35,
   "id": "eb210eb2-d16b-4834-9c8c-df642970d63e",
   "metadata": {},
   "outputs": [],
   "source": [
    "# Creating a file\n",
    "f = open(\"text.txt\", \"w\")\n",
    "f.writelines([\"This is India \\n\", \"This is USA \\n\", \"This is Japan \\n\"])\n",
    "# f.writelines(L)\n",
    "f.close()"
   ]
  },
  {
   "cell_type": "code",
   "execution_count": 37,
   "id": "319cf3f8-a917-48df-9a52-e75c8732f0e7",
   "metadata": {},
   "outputs": [
    {
     "name": "stdout",
     "output_type": "stream",
     "text": [
      "This is India \n",
      "This is USA \n",
      "This is Japan \n",
      "\n"
     ]
    }
   ],
   "source": [
    "# read()\n",
    "with open(\"text.txt\",\"r\") as f:\n",
    "    print(f.read())\n",
    "f.close()"
   ]
  },
  {
   "cell_type": "code",
   "execution_count": 39,
   "id": "ead6b865-4ac0-441e-8225-c91013b9085d",
   "metadata": {},
   "outputs": [
    {
     "name": "stdout",
     "output_type": "stream",
     "text": [
      "This is India \n",
      "\n"
     ]
    }
   ],
   "source": [
    "# readline()\n",
    "with open(\"text.txt\",\"r\") as f:\n",
    "    print(f.readline())\n",
    "f.close()"
   ]
  },
  {
   "cell_type": "code",
   "execution_count": 40,
   "id": "bbba935c-af5a-474e-bd29-490f05141d0f",
   "metadata": {},
   "outputs": [
    {
     "name": "stdout",
     "output_type": "stream",
     "text": [
      "['This is India \\n', 'This is USA \\n', 'This is Japan \\n']\n"
     ]
    }
   ],
   "source": [
    "# readlines()\n",
    "with open(\"text.txt\",\"r\") as f:\n",
    "    print(f.readlines())\n",
    "f.close()"
   ]
  },
  {
   "cell_type": "code",
   "execution_count": 68,
   "id": "905a329e-a36b-4e74-ab82-0a2d5d0c6ac8",
   "metadata": {},
   "outputs": [
    {
     "name": "stdout",
     "output_type": "stream",
     "text": [
      "1) read()\n",
      "This is India \n",
      "This is USA \n",
      "This is Japan \n",
      "\n",
      "2) readline()\n",
      "This is India \n",
      "\n",
      "3) readline(10)\n",
      "This is In\n",
      "\n",
      "4) readlines()\n",
      "['This is India \\n', 'This is USA \\n', 'This is Japan \\n']\n"
     ]
    }
   ],
   "source": [
    "f=open(\"text.txt\",\"r+\")\n",
    "print(\"1) read()\")\n",
    "print(f.read())\n",
    "\n",
    "print(\"2) readline()\")\n",
    "f.seek(0)\n",
    "print(f.readline())\n",
    "\n",
    "print(\"3) readline(10)\")\n",
    "f.seek(0)\n",
    "print(f.readline(10))\n",
    "print()\n",
    "\n",
    "print(\"4) readlines()\")\n",
    "f.seek(0)\n",
    "print(f.readlines())"
   ]
  },
  {
   "cell_type": "markdown",
   "id": "4f17f99d-4355-4fbd-a3b1-5d8344353465",
   "metadata": {},
   "source": [
    "### Q5. Explain why with statement is used with open(). What is the advantage of using with statement and open() together?\n",
    "### Ans)\n",
    "The with statement is used with the open() function in Python to ensure that the file is properly closed after it has been used.\n",
    "The advantage of using the with statement is that it automatically takes care of closing the file for you, even if an error occurs during the execution of the block of code.\n",
    "\n",
    "When you use the with statement, Python creates a context in which the file is open and makes it available within the indented block following the with statement. When the block of code is executed, the file is automatically closed, even if an exception is raised. This helps prevent resource leaks and reduces the risk of data corruption."
   ]
  },
  {
   "cell_type": "markdown",
   "id": "3f6fc495-aa72-4737-8c8e-fd1427ec5de0",
   "metadata": {},
   "source": [
    "### Q6. Explain the write() and writelines() functions. Give a suitable example.\n",
    "### Ans)\n",
    "* The write() and writelines() functions in Python are used to write text data to a file.\n",
    "\n",
    "* The write() function is used to write a string to a file. It takes a single string argument and returns the number of characters written to the file. For example:"
   ]
  },
  {
   "cell_type": "code",
   "execution_count": 71,
   "id": "3a61367d-0e7f-454e-80a6-1a9cc1af859b",
   "metadata": {},
   "outputs": [],
   "source": [
    "with open('text.txt', 'w') as f:\n",
    "    f.write('I want to become a Data Scientist')\n",
    "\n",
    "f.close()"
   ]
  },
  {
   "cell_type": "code",
   "execution_count": 72,
   "id": "a96c678c-ebf5-48ce-ad3b-e8e427780b21",
   "metadata": {},
   "outputs": [],
   "source": [
    "l= [\"This is India \\n\", \"This is USA \\n\", \"This is Japan \\n\"]\n",
    "\n",
    "with open('text.txt', 'a') as f:\n",
    "    f.writelines(l)\n",
    "    \n",
    "f.close()"
   ]
  },
  {
   "cell_type": "code",
   "execution_count": null,
   "id": "7d10f8c9-c4b7-4f65-a270-1083226982c7",
   "metadata": {},
   "outputs": [],
   "source": [
    "with open('text.txt', 'r') as f:\n",
    "    "
   ]
  }
 ],
 "metadata": {
  "kernelspec": {
   "display_name": "Python 3 (ipykernel)",
   "language": "python",
   "name": "python3"
  },
  "language_info": {
   "codemirror_mode": {
    "name": "ipython",
    "version": 3
   },
   "file_extension": ".py",
   "mimetype": "text/x-python",
   "name": "python",
   "nbconvert_exporter": "python",
   "pygments_lexer": "ipython3",
   "version": "3.10.8"
  }
 },
 "nbformat": 4,
 "nbformat_minor": 5
}
