{
 "cells": [
  {
   "cell_type": "markdown",
   "id": "d638a00b-1ca4-4422-878c-518a068aa681",
   "metadata": {},
   "source": [
    "### Q1. What is an API? Give an example, where an API is used in real life.\n",
    "\n",
    "### Ans) API stands for application programming interface, which is a set of definitions and protocols for building and integrating application software.\n",
    "API are used to abstract the complexity of back-end logic in a variety of software systems.\n",
    "* Twitter Bots\n",
    "* Log-In Using XYZ\n",
    "* Weather Snippers\n",
    "* Pay with PayPal\n",
    "* Google Maps\n",
    "* Travel Booking\n",
    "* E-Commerce"
   ]
  },
  {
   "cell_type": "markdown",
   "id": "f6ed1566-5a49-4ef6-aec6-bbdc2d05e131",
   "metadata": {},
   "source": [
    "### Q2. Give advantages and disadvantages of using API.\n",
    "### Ans) \n",
    "> Advantages of using API:\n",
    "\n",
    "1. **Reusability:-** APIs provide a reusable interface to software functions or services, which can be used across different applications and platforms.\n",
    "\n",
    "2. **Flexibility:-** APIs provide a flexible way to integrate different software applications, making it easier to create custom workflows and processes.\n",
    "\n",
    "3. **Scalability:-** APIs can handle large amounts of data and traffic, making them ideal for use in large-scale systems and applications.\n",
    "\n",
    "4. **Improved efficiency:-** APIs can help automate repetitive tasks and streamline workflows, which can improve the efficiency of software applications.\n",
    "\n",
    "5. **Increased innovation:-** APIs can stimulate innovation by allowing developers to build on existing software and services, creating new and innovative applications and services.\n",
    "\n",
    "> Disadvantages of using API:\n",
    "\n",
    "1. **Security risks:-** APIs can be a security risk if they are not designed and implemented properly. They can provide unauthorized access to sensitive data or functions, which can be exploited by hackers.\n",
    "\n",
    "2. **Complexity:-** APIs can be complex to design and implement, especially when integrating with legacy systems or non-standard interfaces.\n",
    "\n",
    "3. **Dependence on third-party services:-** APIs are often dependent on third-party services, which can cause issues if those services experience downtime or are discontinued.\n",
    "\n",
    "4. **Maintenance and support:-** APIs require ongoing maintenance and support, which can be time-consuming and expensive.\n",
    "\n",
    "5. **Compatibility issues:-** APIs may have compatibility issues with different platforms, programming languages, or versions of software, which can cause integration issues.\n"
   ]
  },
  {
   "cell_type": "markdown",
   "id": "719c74cf-5aef-4088-8b27-373ab5af75f6",
   "metadata": {},
   "source": [
    "### Q3. What is a Web API? Differentiate between API and Web API.\n",
    "### Ans) \n",
    "A Web API, or Web Application Programming Interface, is an API that is specifically designed for use over the internet using the HTTP protocol. Web APIs enable web applications to interact with other applications or services, allowing them to share data and functionality. Web APIs can be used to create various types of web applications, such as single-page applications, progressive web apps, and mobile web apps.\n",
    "\n",
    "* **Web API:-** A Web API, also known as a Web Service, is an API that is accessed over the HTTP protocol and allows different software systems to communicate with each other over the internet. It uses the standard HTTP request methods like GET, POST, PUT, and DELETE to make requests and receive responses in a predefined format such as JSON or XML.\n",
    "\n",
    "* **API:-** API on the other hand, is a more general term that refers to any interface that allows different software systems to communicate with each other. While Web API is used over the internet, an API can be used within a single software application or among multiple software applications in the same local network or even across different networks.\n",
    "\n"
   ]
  },
  {
   "cell_type": "markdown",
   "id": "d94926c1-1a20-4305-8577-aaecade8f11b",
   "metadata": {},
   "source": [
    "### Q4. Explain REST and SOAP Architecture. Mention shortcomings of SOAP.\n",
    "### Ans) REST (Representational State Transfer) and SOAP (Simple Object Access Protocol) are two widely used architectural styles for building web services.\n",
    "\n",
    "**SOAP** SOAP is a protocol which was designed before REST and came into the picture. The main idea behind designing SOAP was to ensure that programs built on different platforms and programming languages could exchange data in an easy manner. SOAP stands for Simple Object Access Protocol. Soap is a more complex and rigid architectural style that relies on XML-based messaging protocols for exchanging data between applications. SOAP is typically used in enterprise-level applications and web services that require advanced security features and transactional capabilities.\n",
    "\n",
    "**REST** is a lightweight and flexible architectural style that relies on a set of principles and constraints for creating web services. These principles include the use of HTTP methods (GET, POST, PUT, DELETE) for resource manipulation, a uniform resource identifier (URI) for resource identification, and the use of hypermedia as the engine of application state. REST is widely used in web-based applications and APIs because it is simple, scalable, and efficient.\n",
    "\n",
    "The shortcomings of SOAP architecture include its complexity, verbosity, and overhead. SOAP messages are typically much larger than REST messages due to the use of XML, which can impact performance and network bandwidth. Additionally, SOAP can be more difficult to implement and maintain compared to REST due to its complexity and rigid structure."
   ]
  },
  {
   "cell_type": "markdown",
   "id": "3ce1558d-c061-4ad6-b97d-c4a1b2472874",
   "metadata": {},
   "source": [
    "### Q5. Differentiate between REST and SOAP.\n",
    "### Ans) Each technique has its own advantages and disadvantages. Hence, it’s always good to understand in which situations each design should be used. This REST and SOAP API difference tutorial will go into some of the key difference between REST and SOAP API as well as what challenges you might encounter while using them.\n",
    "\n",
    "* The main difference between SOAP and REST API\n",
    "> **SOAP**\n",
    "1. SOAP stands for Simple Object Access Protocol\n",
    "2. SOAP is a protocol. SOAP was designed with a specification. It includes a WSDL file which has the required information on what the web service does in addition to the location of the web service.\n",
    "3. SOAP cannot make use of REST since SOAP is a protocol and REST is an architectural pattern.\n",
    "4. SOAP uses service interfaces to expose it's functionality to client applications. In SOAP, the WSDL file provides the client with the necessary information which can be used to understand what services the web service can offer.\n",
    "5. SOAP requires more bandwidth for its usage. Since SOAP Messages contain a lot of information inside of it, the amount of data transfer using SOAP is generally a lot.\n",
    "6. SOAP can only work with XML format. As seen from SOAP messages, all data passed is in XML format.\n",
    "> **REST**\n",
    "1. REST stands for Representational State Transfer\n",
    "2. REST is an Architectural style in which a web service can only be treated as a REST full service if it follows the constraints of being\n",
    "* Client Server\n",
    "* Stateless\n",
    "* Cacheable\n",
    "* Layered System\n",
    "* Uniform Interface\n",
    "3. REST can make use of SOAP as the underlying protocol for web services, because in the end it is just an architectural pattern.\n",
    "4. REST use Uniform Service locators to access to the components on the hardware device. For example, if there is an object which represents the data of an employee hosted on a URL as http://pwskills , the below are some of URI that can exist to access them.\n",
    "5. REST does not need much bandwidth when requests are sent to the server. REST messages mostly just consist of JSON messages. Below is an example of a JSON message passed to a web server. You can see that the size of the message is comparatively smaller to SOAP.\n",
    "6. REST permits different data format such as Plain text, HTML, XML, JSON, etc. But the most preferred format for transferring data is JSON."
   ]
  }
 ],
 "metadata": {
  "kernelspec": {
   "display_name": "Python 3 (ipykernel)",
   "language": "python",
   "name": "python3"
  },
  "language_info": {
   "codemirror_mode": {
    "name": "ipython",
    "version": 3
   },
   "file_extension": ".py",
   "mimetype": "text/x-python",
   "name": "python",
   "nbconvert_exporter": "python",
   "pygments_lexer": "ipython3",
   "version": "3.10.8"
  }
 },
 "nbformat": 4,
 "nbformat_minor": 5
}
