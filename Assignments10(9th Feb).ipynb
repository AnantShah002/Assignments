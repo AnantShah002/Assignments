{
 "cells": [
  {
   "cell_type": "markdown",
   "id": "f1c7c3a6-0a16-435d-af0f-024d039d5a89",
   "metadata": {},
   "source": [
    "### Q1, Create a vehicle class with an init method having instance variables as name_of_vehicle, max_speed and average_of_vehicle."
   ]
  },
  {
   "cell_type": "code",
   "execution_count": 1,
   "id": "f89cf94b-82b9-4f36-bd6b-da7fe4c2f40b",
   "metadata": {},
   "outputs": [
    {
     "data": {
      "text/plain": [
       "('Suzuki Hayabusa', 312, 17.8)"
      ]
     },
     "execution_count": 1,
     "metadata": {},
     "output_type": "execute_result"
    }
   ],
   "source": [
    "class vehicle:\n",
    "    def __init__(self,name_of_vehicle,max_speed,average_of_vehicle):\n",
    "        #instance variables\n",
    "        self.name_of_vehicle=name_of_vehicle\n",
    "        self.max_speed=max_speed\n",
    "        self.average_of_vehicle=average_of_vehicle\n",
    "    \n",
    "    def return_details(self):\n",
    "        return self.name_of_vehicle,self.max_speed,self.average_of_vehicle\n",
    "\n",
    "my_vehicle=vehicle(\"Suzuki Hayabusa\",312,17.8)\n",
    "my_vehicle.return_details()"
   ]
  },
  {
   "cell_type": "markdown",
   "id": "22f481a7-1e0f-4a1d-aac9-3616dfc867c2",
   "metadata": {},
   "source": [
    "### Q2. Create a child class car from the vehicle class created in Que 1, which will inherit the vehicle class. Create a method named seating_capacity which takes capacity as an argument and returns the name of the vehicle and its seating capacity."
   ]
  },
  {
   "cell_type": "code",
   "execution_count": 2,
   "id": "f2f176f8-8332-4e54-ab21-25f725afafdb",
   "metadata": {},
   "outputs": [
    {
     "data": {
      "text/plain": [
       "('Jaguar I-Pace', 5)"
      ]
     },
     "execution_count": 2,
     "metadata": {},
     "output_type": "execute_result"
    }
   ],
   "source": [
    "class vehicle:\n",
    "    def __init__(self,name_of_vehicle,max_speed,average_of_vehicle):\n",
    "        #instance variables\n",
    "        self.name_of_vehicle=name_of_vehicle\n",
    "        self.max_speed=max_speed\n",
    "        self.average_of_vehicle=average_of_vehicle\n",
    "    \n",
    "    def return_details(self):\n",
    "        return self.name_of_vehicle,self.seationg_capcity\n",
    "    \n",
    "class car(vehicle):\n",
    "    def __init__(self,name_of_vehicle,max_speed,average_of_vehicle,seationg_capcity):\n",
    "        self.seationg_capcity=seationg_capcity\n",
    "        \n",
    "        vehicle.__init__(self,name_of_vehicle,max_speed,average_of_vehicle)\n",
    "\n",
    "my_vehicle=car(\"Jaguar I-Pace\",200,470,5)\n",
    "my_vehicle.return_details()"
   ]
  },
  {
   "cell_type": "markdown",
   "id": "70399757-a94a-4b9c-9826-0d2dd3ff5e4e",
   "metadata": {},
   "source": [
    "### Q3. What is multiple inheritance? Write a python code to demonstrate multiple inheritance.\n",
    "\n",
    "Ans-3) **Multilevel Inheritance :-** When we have a child and grandchild relationship. \n",
    "\n",
    "In multilevel inheritance, features of the base class and the derived class are further inherited into the new derived class. This is similar to a relationship representing a child and a grandfather."
   ]
  },
  {
   "cell_type": "code",
   "execution_count": 3,
   "id": "503c186e-f15d-445c-a0b4-f36443418d03",
   "metadata": {},
   "outputs": [
    {
     "name": "stdout",
     "output_type": "stream",
     "text": [
      "Mother  Aarti Shah\n",
      "Father  Sanjay Shah\n"
     ]
    }
   ],
   "source": [
    "# Multiple Inheritance \n",
    "\n",
    "# Bass Class 1\n",
    "class Mother:\n",
    "    Mother_name=\"\"\n",
    "    def mother(self):\n",
    "        print(self.Mother_name)\n",
    "\n",
    "# Bass Class 2\n",
    "class Father:\n",
    "    Father_name=\"\"\n",
    "    def father(self):\n",
    "        print(self.Father_name)\n",
    "    \n",
    "# Derived Class\n",
    "class son(Mother,Father):\n",
    "    def return_parents(self):\n",
    "        print(\"Mother \",self.Mother_name)\n",
    "        print(\"Father \",self.Father_name)\n",
    "\n",
    "# Deiver's code\n",
    "s=son()\n",
    "s.Father_name=\"Sanjay Shah\"\n",
    "s.Mother_name=\"Aarti Shah\"\n",
    "s.return_parents()"
   ]
  },
  {
   "cell_type": "markdown",
   "id": "7303809e-af6a-4b07-8f05-35fa08853589",
   "metadata": {},
   "source": [
    "### Q4. What are getter and setter in python? Create a class and create a getter and a setter method in this class.\n",
    "\n",
    "Ans-4) In Python, getters and setters are not the same as those in other object-oriented programming languages. Basically, the main purpose of using getters and setters in object-oriented programs is to ensure data encapsulation. Private variables in python are not actually hidden fields like in other object oriented languages. Getters and Setters in python are often used when:\n",
    "\n",
    "* We use getters & setters to add validation logic around getting and setting a value.\n",
    "* To avoid direct access of a class field i.e. private variables cannot be accessed directly or modified by external user.\n",
    "\n",
    "**Using normal function to achieve getters and setters behaviour**\n",
    "\n",
    "To achieve getters & setters property, if we define normal get() and set() methods it will not reflect any special implementation. For Example"
   ]
  },
  {
   "cell_type": "code",
   "execution_count": 4,
   "id": "8d7ab2a4-0b59-471f-a1a7-b3cb9b94a180",
   "metadata": {},
   "outputs": [
    {
     "name": "stdout",
     "output_type": "stream",
     "text": [
      "22\n",
      "22\n"
     ]
    }
   ],
   "source": [
    "# For Example\n",
    "# get() and set() method in normal function\n",
    "\n",
    "class person:\n",
    "    def __init__(self,age=0):\n",
    "        self._age=age\n",
    "        \n",
    "    # getter method\n",
    "    def get_age(self):\n",
    "        return self._age\n",
    "    \n",
    "    # setter method\n",
    "    def set_age(self,x):\n",
    "        self._age = x\n",
    "        \n",
    "Anant=person()\n",
    "# setting the age using setter\n",
    "Anant.set_age(22)\n",
    "\n",
    "# retrieving age using getter\n",
    "print(Anant.get_age())\n",
    "  \n",
    "print(Anant._age)"
   ]
  },
  {
   "cell_type": "markdown",
   "id": "4792743d-90c6-42fc-97de-c95299b6e702",
   "metadata": {},
   "source": [
    "### Q5.What is method overriding in python? Write a python code to demonstrate method overriding.\n",
    "\n",
    "Ans-5) Method Overriding is an ability of any object-oriented programming language that allows a subclass or child class to provide a specific implementation of a method that is already provided by one of its super-classes or parent classes. When a method in a subclass has the same name, same parameters or signature and same return type(or sub-type) as a method in its super-class, then the method in the subclass is said to override the method in the super-class."
   ]
  },
  {
   "cell_type": "code",
   "execution_count": 5,
   "id": "39b7b751-5a6a-44a0-a33b-6ceaf0b3e59a",
   "metadata": {},
   "outputs": [
    {
     "name": "stdout",
     "output_type": "stream",
     "text": [
      "Inside Parent Class\n",
      "Inside Chaild Class\n"
     ]
    }
   ],
   "source": [
    "# Method Overriding\n",
    "\n",
    "class parent():\n",
    "    def __init__(self):\n",
    "        self.x=\"Inside Parent Class\"\n",
    "        \n",
    "    def show(self):\n",
    "        print(self.x)\n",
    "\n",
    "class child(parent):\n",
    "    def __init__(self):\n",
    "        self.x=\"Inside Chaild Class\"\n",
    "        \n",
    "    def show(self):\n",
    "        print(self.x)\n",
    "\n",
    "a=parent()\n",
    "b=child()\n",
    "a.show()\n",
    "b.show()"
   ]
  }
 ],
 "metadata": {
  "kernelspec": {
   "display_name": "Python 3 (ipykernel)",
   "language": "python",
   "name": "python3"
  },
  "language_info": {
   "codemirror_mode": {
    "name": "ipython",
    "version": 3
   },
   "file_extension": ".py",
   "mimetype": "text/x-python",
   "name": "python",
   "nbconvert_exporter": "python",
   "pygments_lexer": "ipython3",
   "version": "3.10.8"
  }
 },
 "nbformat": 4,
 "nbformat_minor": 5
}
