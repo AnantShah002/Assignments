{
 "cells": [
  {
   "cell_type": "markdown",
   "id": "451af841-6d97-45f3-97f5-53a43351091a",
   "metadata": {},
   "source": [
    "### Q1. Explain Class and Object with respect to Object-Oriented Programming. Give a suitable example.\n",
    "\n",
    "Ans-1) Python is an object oriented programming language.\n",
    "* Almost everything in Python is an object, with its properties and methods.\n",
    "* A Class is like an object constructor, or a \"blueprint\" for creating objects."
   ]
  },
  {
   "cell_type": "code",
   "execution_count": 1,
   "id": "c0694b39-b304-4add-a47b-07196637a2a7",
   "metadata": {},
   "outputs": [
    {
     "data": {
      "text/plain": [
       "'Anant Shah'"
      ]
     },
     "execution_count": 1,
     "metadata": {},
     "output_type": "execute_result"
    }
   ],
   "source": [
    "# Example \n",
    "class Name:\n",
    "    my_name=\"Anant Shah\"\n",
    "\n",
    "Name().my_name"
   ]
  },
  {
   "cell_type": "markdown",
   "id": "e844c0d8-4466-4c66-acd4-c50c8ed6ba0d",
   "metadata": {},
   "source": [
    "### Q2. Name the four pillars of OOPs.\n",
    "\n",
    "Ans-2) There are four pillars in object-oriented programming (OOP).\n",
    "* Inheritance\n",
    "* Polymorphism\n",
    "* Encapsulation\n",
    "* Abstraction."
   ]
  },
  {
   "cell_type": "markdown",
   "id": "012b2a26-2f3c-4cb0-a8a0-c83ae0f278e2",
   "metadata": {},
   "source": [
    "### Q3. Explain why the __init__() function is used. Give a suitable example.\n",
    "\n",
    "Ans-3) __init__() method is like Constructors are used to initialize the object’s state. Like methods, a constructor also contains a collection of statements (instructions) that are executed at the time of Object creation. It runs as soon as an object of a class is instantiated. The method is useful to do any initialization you want to do with your object."
   ]
  },
  {
   "cell_type": "code",
   "execution_count": 2,
   "id": "1da6c308-5d9f-408b-8050-c1d51631fcdc",
   "metadata": {},
   "outputs": [
    {
     "name": "stdout",
     "output_type": "stream",
     "text": [
      "Anant Welcom to PW_Skills\n"
     ]
    },
    {
     "data": {
      "text/plain": [
       "'Anant'"
      ]
     },
     "execution_count": 2,
     "metadata": {},
     "output_type": "execute_result"
    }
   ],
   "source": [
    "class student:\n",
    "    def __init__(self,name):\n",
    "        self.name = name\n",
    "        \n",
    "    def names(self):\n",
    "        print(f\"{self.name} Welcom to PW_Skills\")\n",
    "stu1=student(\"Anant\")\n",
    "stu1.names()\n",
    "stu1.name"
   ]
  },
  {
   "cell_type": "markdown",
   "id": "488f3262-8ea7-4ff3-9471-59857110fc87",
   "metadata": {},
   "source": [
    "### Q4. Why self is used in OOPs?\n",
    "\n",
    "Ans-4) self represents the instance of the class. By using the **self**  we can access the attributes and methods of the class in python. It binds the attributes with the given arguments.\n",
    "\n",
    "The reason you need to use self. is because Python does not use the @ syntax to refer to instance attributes."
   ]
  },
  {
   "cell_type": "markdown",
   "id": "00448144-035a-4e25-8054-f1dccfe02615",
   "metadata": {},
   "source": [
    "### Q5. What is inheritance? Give an example for each type of inheritance.\n",
    "\n",
    "Ans-5) Inheritance is defined as the mechanism of inheriting the properties of the base class to the child class. Here we a going to see the types of inheritance in Python.\n",
    "\n",
    "**Types of Inheritance in Python :-** Types of Inheritance depend upon the number of child and parent classes involved. Types of inheritance in Python :-\n",
    "* Single Inheritance\n",
    "* Multiple Inheritance\n",
    "* Multilavel Inheritance\n",
    "* Hierachical Inheritance\n",
    "* Hybrid Inheritace "
   ]
  },
  {
   "cell_type": "markdown",
   "id": "1614e098-e2d1-4aae-81b8-78ff5539b292",
   "metadata": {},
   "source": [
    "* **Single Inheritance :-** Single inheritance enables a derived class to inherit properties from a single parent class, thus enabling code reusability and the addition of new features to existing code."
   ]
  },
  {
   "cell_type": "code",
   "execution_count": 3,
   "id": "a4e39597-32ee-4ebd-99c8-bc399848d089",
   "metadata": {},
   "outputs": [
    {
     "name": "stdout",
     "output_type": "stream",
     "text": [
      "This Function is in Parent Class\n",
      "This Function is in Child Class\n"
     ]
    }
   ],
   "source": [
    "# Single Inheritance \n",
    "\n",
    "# Bass Class \n",
    "class parent:\n",
    "    def text1(self):\n",
    "        print(\"This Function is in Parent Class\")\n",
    "\n",
    "# Drived Class\n",
    "class child(parent):\n",
    "    def text2(self):\n",
    "        print(\"This Function is in Child Class\")\n",
    "\n",
    "obj=child()\n",
    "\n",
    "obj.text1()\n",
    "obj.text2()\n",
    "    "
   ]
  },
  {
   "cell_type": "markdown",
   "id": "8e0af9de-5c4d-4a6a-b943-30847e9f6558",
   "metadata": {},
   "source": [
    "* **Multiple Inheritance :-** When a class can be derived from more than one base class this type of inheritance is called multiple inheritances. In multiple inheritances, all the features of the base classes are inherited into the derived class."
   ]
  },
  {
   "cell_type": "code",
   "execution_count": 4,
   "id": "fec37941-3a88-459d-b363-f7178c04152e",
   "metadata": {},
   "outputs": [
    {
     "name": "stdout",
     "output_type": "stream",
     "text": [
      "Mother  Aarti Shah\n",
      "Father  Sanjay Shah\n"
     ]
    }
   ],
   "source": [
    "# Multiple Inheritance \n",
    "\n",
    "# Bass Class 1\n",
    "class Mother:\n",
    "    Mother_name=\"\"\n",
    "    def mother(self):\n",
    "        print(self.Mother_name)\n",
    "\n",
    "# Bass Class 2\n",
    "class Father:\n",
    "    Father_name=\"\"\n",
    "    def father(self):\n",
    "        print(self.Father_name)\n",
    "    \n",
    "# Derived Class\n",
    "class son(Mother,Father):\n",
    "    def return_parents(self):\n",
    "        print(\"Mother \",self.Mother_name)\n",
    "        print(\"Father \",self.Father_name)\n",
    "\n",
    "# Deiver's code\n",
    "s=son()\n",
    "s.Father_name=\"Sanjay Shah\"\n",
    "s.Mother_name=\"Aarti Shah\"\n",
    "s.return_parents()"
   ]
  },
  {
   "cell_type": "markdown",
   "id": "4c2319cb-d662-4f85-81d7-60e90092da51",
   "metadata": {},
   "source": [
    "* **Multilevel Inheritance :-** In multilevel inheritance, features of the base class and the derived class are further inherited into the new derived class. This is similar to a relationship representing a child and a grandfather."
   ]
  },
  {
   "cell_type": "code",
   "execution_count": 5,
   "id": "315afcf8-c05d-4005-8bf3-281e2ffdf4be",
   "metadata": {},
   "outputs": [
    {
     "name": "stdout",
     "output_type": "stream",
     "text": [
      "GrandFather  Bhiya Lal Ji Shah\n",
      "Father  Sanjya Ji Shah\n",
      "Son  Anant Shah\n"
     ]
    },
    {
     "data": {
      "text/plain": [
       "('Bhiya Lal Ji Shah', 'Sanjya Ji Shah', 'Anant Shah')"
      ]
     },
     "execution_count": 5,
     "metadata": {},
     "output_type": "execute_result"
    }
   ],
   "source": [
    "# Multileve Inheritance\n",
    "\n",
    "#Bass Class\n",
    "class GrandFather:\n",
    "    def __init__(self,grandfather):\n",
    "        self.grandfather=grandfather\n",
    "        \n",
    "# Intwemidate Class\n",
    "class Father(GrandFather):\n",
    "    def __init__(self,father,grandfather):\n",
    "        self.father=father\n",
    "        \n",
    "        # Invoking costuctor to GrandFather class\n",
    "        GrandFather.__init__(self,grandfather)\n",
    "    \n",
    "# Derived Class\n",
    "class Son(Father):\n",
    "    def __init__(self,son,father,grandfather):\n",
    "        self.son=son\n",
    "        \n",
    "        # Ivvoking constuction of father class\n",
    "        Father.__init__(self,father,grandfather)\n",
    "        \n",
    "    def return_generations(self):\n",
    "        print(\"GrandFather \",self.grandfather)\n",
    "        print(\"Father \",self.father)\n",
    "        print(\"Son \" ,self.son)\n",
    "        \n",
    "\n",
    "# Driver code\n",
    "s= Son(\"Anant Shah\",\"Sanjya Ji Shah\",\"Bhiya Lal Ji Shah\" )\n",
    "s.return_generations()\n",
    "s.grandfather,s.father,s.son"
   ]
  },
  {
   "cell_type": "markdown",
   "id": "646c2a1a-5085-43e2-abe7-9cda9d0f1478",
   "metadata": {},
   "source": [
    "* **Hierarchical Inheritance :-** When more than one derived class are created from a single base this type of inheritance is called hierarchical inheritance. In this program, we have a parent (base) class and two child (derived) classes."
   ]
  },
  {
   "cell_type": "code",
   "execution_count": 6,
   "id": "765cfe3e-c378-43c2-a269-238a437215c0",
   "metadata": {},
   "outputs": [
    {
     "name": "stdout",
     "output_type": "stream",
     "text": [
      "This Function is in Parent Class\n",
      "This Function is in Chaild Class-1\n",
      "\n",
      "This Function is in Parent Class\n",
      "This Function is in Chaild Class-2\n"
     ]
    }
   ],
   "source": [
    "# Hierarchical Inheritance\n",
    "\n",
    "# Bass Class \n",
    "class Parents:\n",
    "    def text1(self):\n",
    "        print(\"This Function is in Parent Class\")\n",
    "        \n",
    "# Derived Class\n",
    "class Child1(Parents):\n",
    "    def text2(self):\n",
    "        print(\"This Function is in Chaild Class-1\")\n",
    "        \n",
    "# Derived class \n",
    "class Child2(Parents):\n",
    "    def text3(self):\n",
    "        print(\"This Function is in Chaild Class-2\")        \n",
    "    \n",
    "# Driver code\n",
    "obj1=Child1()\n",
    "obj2=Child2()\n",
    "\n",
    "obj1.text1()\n",
    "obj1.text2()\n",
    "print()\n",
    "obj2.text1()\n",
    "obj2.text3()"
   ]
  },
  {
   "cell_type": "markdown",
   "id": "ba4a1b6c-61eb-4caf-87e1-87110193de56",
   "metadata": {},
   "source": [
    "* **Hybrid Inheritance :-** Inheritance consisting of multiple types of inheritance is called hybrid inheritance."
   ]
  },
  {
   "cell_type": "code",
   "execution_count": 7,
   "id": "32ec870d-ee30-4ba3-bde1-c25fa93bd5e4",
   "metadata": {},
   "outputs": [
    {
     "name": "stdout",
     "output_type": "stream",
     "text": [
      "This is function is in School Class\n",
      "This is function is in stucent-1 Class\n",
      "This is function is in student-2 Class\n",
      "This is function is in student-3 Class\n",
      "\n",
      "This is function is in School Class\n",
      "This is function is in stucent-1 Class\n",
      "\n",
      "This is function is in School Class\n",
      "This is function is in student-2 Class\n"
     ]
    }
   ],
   "source": [
    "# Hybrid Inheritance\n",
    "\n",
    "class school:\n",
    "    def text1(self):\n",
    "        print(\"This is function is in School Class\")\n",
    "    \n",
    "class student1(school):\n",
    "    def text2(self):\n",
    "        print(\"This is function is in stucent-1 Class\")        \n",
    "\n",
    "class student2(school):\n",
    "    def text3(self):\n",
    "        print(\"This is function is in student-2 Class\")        \n",
    "\n",
    "class student3(student1,student2):\n",
    "    def text4(self):\n",
    "        print(\"This is function is in student-3 Class\")\n",
    "        \n",
    "# Derive code\n",
    "obj=student3()\n",
    "obj.text1()\n",
    "obj.text2()\n",
    "obj.text3()\n",
    "obj.text4()\n",
    "print()\n",
    "obj1=student1()\n",
    "obj1.text1()\n",
    "obj1.text2()\n",
    "print()\n",
    "obj2=student2()\n",
    "obj2.text1()\n",
    "obj2.text3()"
   ]
  }
 ],
 "metadata": {
  "kernelspec": {
   "display_name": "Python 3 (ipykernel)",
   "language": "python",
   "name": "python3"
  },
  "language_info": {
   "codemirror_mode": {
    "name": "ipython",
    "version": 3
   },
   "file_extension": ".py",
   "mimetype": "text/x-python",
   "name": "python",
   "nbconvert_exporter": "python",
   "pygments_lexer": "ipython3",
   "version": "3.10.8"
  }
 },
 "nbformat": 4,
 "nbformat_minor": 5
}
