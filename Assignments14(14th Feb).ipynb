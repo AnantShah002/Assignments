{
 "cells": [
  {
   "cell_type": "markdown",
   "id": "6e38e42b-855c-4ae3-a2cc-0f4ea5c9f4a0",
   "metadata": {},
   "source": [
    "### Q1) What is multithreading in python? Why is it used? Name the module used to handle threads in python\n",
    "### Ans) Multithreading\n",
    "The basics of multithreading in Python programming language. Just like multiprocessing, multithreading is a way of achieving multitasking. In multithreading, the concept of threads is used.\n",
    "A thread is a unit of execution within a process. Multithreading refers to concurrently executing multiple threads by rapidly switching the control of the CPU between threads (called context switching)."
   ]
  },
  {
   "cell_type": "code",
   "execution_count": 1,
   "id": "7e98d0ae-5ac8-47e5-bc6a-3972e1a3d3e2",
   "metadata": {},
   "outputs": [],
   "source": [
    "import threading"
   ]
  },
  {
   "cell_type": "markdown",
   "id": "6cd6dd09-1e79-40d0-8f91-2e993b3ffbe1",
   "metadata": {},
   "source": [
    "### Q2) Why threading module used? Write the use of the following functions:\n",
    "1. activeCount()\n",
    "2. currentThread()\n",
    "3. enumerate()\n",
    "### Ans) This module constructs higher-level threading interfaces on top of the lower level \n",
    "* **activeCount():-** Return the number of Thread objects currently alive. The returned count is equal to the length of the list returned by enumerate().The function activeCount is a deprecated alias for this function.\n",
    "> threading.active_count()\n",
    "\n",
    "* **currentThread():-** Return the current Thread object, corresponding to the caller’s thread of control. If the caller’s thread of control was not created through the threading module, a dummy thread object with limited functionality is returned. The function currentThread is a deprecated alias for this function.\n",
    "> threading.current_thread()\n",
    "\n",
    "* **enumerate:-** Return a list of all Thread objects currently active. The list includes daemonic threads and dummy thread objects created by current_thread(). It excludes terminated threads and threads that have not yet been started. However, the main thread is always part of the result, even when terminated.\n",
    "> threading.enumerate()"
   ]
  },
  {
   "cell_type": "markdown",
   "id": "65cffe84-7b4a-47e9-83a5-ce9f6f97832b",
   "metadata": {},
   "source": [
    "### Q3) Explain the following functions\n",
    "1. run()\n",
    "2. start()\n",
    "3. join()\n",
    "4. isAlive()\n",
    "### Ans)\n",
    "* **run():-** You may override this method in a subclass. The standard run() method invokes the callable object passed to the object’s constructor as the target argument, if any, with positional and keyword arguments taken from the args and kwargs arguments, respectively.\n",
    "\n",
    "* **start():-** It must be called at most once per thread object. It arranges for the object’s run() method to be invoked in a separate thread of control. This method will raise a RuntimeError if called more than once on the same thread object.\n",
    "\n",
    "* **join():-** join() raises a RuntimeError if an attempt is made to join the current thread as that would cause a deadlock. It is also an error to join() a thread before it has been started and attempts to do so raise the same exception.\n",
    "\n",
    "* **isAlive():-** This method returns True just before the run() method starts until just after the run() method terminates. The module function enumerate() returns a list of all alive threads."
   ]
  },
  {
   "cell_type": "markdown",
   "id": "9f8b1aa3-485c-4c24-8026-bf8fe9547f62",
   "metadata": {},
   "source": [
    "### Q4) Write a python program to create two threads. Thread one must print the list of squares and thread two must print the list of cubes"
   ]
  },
  {
   "cell_type": "code",
   "execution_count": 2,
   "id": "289cf617-90f9-4862-afcc-2991434085b1",
   "metadata": {},
   "outputs": [],
   "source": [
    "import logging\n",
    "import threading"
   ]
  },
  {
   "cell_type": "code",
   "execution_count": 3,
   "id": "7e605897-e318-4f00-966e-06464f17084e",
   "metadata": {},
   "outputs": [],
   "source": [
    "logging.basicConfig(filename=\"text.log\",level=logging.INFO)"
   ]
  },
  {
   "cell_type": "code",
   "execution_count": 4,
   "id": "a895c60d-4648-44f5-90ea-f2d5ff56bea3",
   "metadata": {},
   "outputs": [
    {
     "name": "stdout",
     "output_type": "stream",
     "text": [
      "[1, 4, 9, 16, 25, 36, 49, 64, 81, 100]\n",
      "[1, 8, 27, 64, 125, 216, 343, 512, 729, 1000]\n"
     ]
    }
   ],
   "source": [
    "l=[1,2,3,4,5,6,7,8,9,10]\n",
    "squre_list=[]\n",
    "cube_list=[]\n",
    "\n",
    "# Create squre fun:-\n",
    "def Square(id):\n",
    "    logging.info(\"Inside Squares Function\")\n",
    "    squre_list.append(id**2)\n",
    "\n",
    "# Create Cube fun:-\n",
    "def Cube(id):\n",
    "    logging.info(\"Inside Cube Function\")\n",
    "    cube_list.append(id**3)\n",
    "    \n",
    "    \n",
    "# Create tow thread\n",
    "thread1=[threading.Thread(target=Square,args=(i,)) for i in l]\n",
    "thread2=[threading.Thread(target=Cube,args=(i,)) for i in l]\n",
    "\n",
    "\n",
    "try :\n",
    "    [ t1.start() for t1 in thread1]\n",
    "    [ t2.start() for t2 in thread2]   \n",
    "    logging.info(\"Squre_list :- \" + str(squre_list))\n",
    "    logging.info(\"cube_list :- \" + str(cube_list))\n",
    "except Exception as e:\n",
    "    logging.error(\"Exception Error :- \" + str(e))\n",
    "else :\n",
    "    logging.info(\"working successfully\")\n",
    "finally:\n",
    "    print(squre_list)\n",
    "    print(cube_list)\n",
    "    logging.shutdown()"
   ]
  },
  {
   "cell_type": "markdown",
   "id": "59f0a888-fcd6-4b74-84ff-b7155e556a37",
   "metadata": {},
   "source": [
    "### Q5) State advantages and disadvantages of multithreading.\n",
    "### Ans) Advantages & Disadvantages Of Multithreading\n",
    "> **Advantages of Mltithreading**\n",
    "* Enhanced performance by decreased development time\n",
    "* Simplified and streamlined program coding\n",
    "* Improvised GUI responsiveness\n",
    "* Simultaneous and parallelized occurrence of tasks\n",
    "* Better use of cache storage by utilization of resources\n",
    "* Decreased cost of maintenance\n",
    "* Better use of CPU resource\n",
    "> **Disadvantages of Multithreading**\n",
    "* Complex debugging and testing processes\n",
    "* Overhead switching of context\n",
    "* Increased potential for deadlock occurrence\n",
    "* Increased difficulty level in writing a program\n",
    "* Unpredictable results"
   ]
  },
  {
   "cell_type": "markdown",
   "id": "a7b5088b-46fd-4d89-9b52-cb12e888ba8a",
   "metadata": {},
   "source": [
    "### Q6) Explain deadlocks and race conditions.\n",
    "### Ans)\n",
    "* **Deadlock:-** A deadlock is a situation in which two or more threads are waiting for each other to release resources, resulting in a state where no thread can proceed. This can occur when two or more threads hold resources that the other thread needs to continue execution, resulting in a deadlock. Deadlocks can be difficult to detect and resolve, as they can involve complex interactions between threads and shared resources.\n",
    "\n",
    "* **Race Condition:-** A race condition is a situation in which the outcome of a program depends on the order and timing of thread execution. Race conditions can occur when two or more threads access shared resources or modify shared data in an uncoordinated manner. This can lead to incorrect behavior or crashes, as the threads may overwrite each other's changes or make incorrect assumptions about the state of shared resources."
   ]
  }
 ],
 "metadata": {
  "kernelspec": {
   "display_name": "Python 3 (ipykernel)",
   "language": "python",
   "name": "python3"
  },
  "language_info": {
   "codemirror_mode": {
    "name": "ipython",
    "version": 3
   },
   "file_extension": ".py",
   "mimetype": "text/x-python",
   "name": "python",
   "nbconvert_exporter": "python",
   "pygments_lexer": "ipython3",
   "version": "3.10.8"
  }
 },
 "nbformat": 4,
 "nbformat_minor": 5
}
