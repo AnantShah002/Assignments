{
 "cells": [
  {
   "cell_type": "markdown",
   "id": "4ca5f088-0b00-4b80-b5db-5d97b4d67df3",
   "metadata": {},
   "source": [
    "### Qus1) Which keyword is used to create a function? Create a function to return a list of odd numbers in the range of 1 to 25.\n",
    "\n",
    "Ans-1) **def** keyword is use to create a function."
   ]
  },
  {
   "cell_type": "code",
   "execution_count": 1,
   "id": "83daff6a-0a42-481a-858b-dd1d37002385",
   "metadata": {},
   "outputs": [
    {
     "data": {
      "text/plain": [
       "[1, 3, 5, 7, 9, 11, 13, 15, 17, 19, 21, 23, 25]"
      ]
     },
     "execution_count": 1,
     "metadata": {},
     "output_type": "execute_result"
    }
   ],
   "source": [
    "# Odd numbers filter function\n",
    "def odd_num():\n",
    "    return [i for i in range(1,26) if i%2==1]\n",
    "odd_num()"
   ]
  },
  {
   "cell_type": "markdown",
   "id": "094f5477-7c0f-43c4-b474-58f66116456e",
   "metadata": {},
   "source": [
    "### Qus-2) Why *args and **kwargs is used in some functions? Create a function each for *args and **kwargs to demonstrate their use.\n",
    "\n",
    "Ans-2) We use *args and **kwargs as an argument when we are unsure about the number of arguments to pass in the functions."
   ]
  },
  {
   "cell_type": "code",
   "execution_count": 2,
   "id": "979c9647-e60e-4f1e-9e78-dd5c4589bff4",
   "metadata": {},
   "outputs": [
    {
     "data": {
      "text/plain": [
       "(1, 2, 3, 4, 5, 6)"
      ]
     },
     "execution_count": 2,
     "metadata": {},
     "output_type": "execute_result"
    }
   ],
   "source": [
    "# *Args\n",
    "def arg(*ant):\n",
    "    return ant\n",
    "arg(1,2,3,4,5,6)"
   ]
  },
  {
   "cell_type": "code",
   "execution_count": 3,
   "id": "b38bcc1f-f5c2-48fa-9320-a6a526aab1d3",
   "metadata": {},
   "outputs": [
    {
     "data": {
      "text/plain": [
       "{'Name': 'Anant', 'day': 18}"
      ]
     },
     "execution_count": 3,
     "metadata": {},
     "output_type": "execute_result"
    }
   ],
   "source": [
    "# **kwargs\n",
    "def kwarg(**ant):\n",
    "    return ant\n",
    "kwarg(Name=\"Anant\",day=18)"
   ]
  },
  {
   "cell_type": "markdown",
   "id": "b0a66953-675f-436a-a7bb-79b9c079bf93",
   "metadata": {},
   "source": [
    "##### Qus-3) What is an iterator in python? Name the method used to initialise the iterator object and the method used for iteration. Use these methods to print the first five elements of the given list [2, 4, 6, 8, 10, 12, 14, 16, 18, 20].\n",
    "\n",
    "Ana-3) Iterator in Python is an object that is used to iterate over iterable objects like lists, tuples, dicts, and sets. The iterator object is initialized using the iter() method."
   ]
  },
  {
   "cell_type": "code",
   "execution_count": 4,
   "id": "6cd567ac-2e26-4267-8b5b-9b0105dc4695",
   "metadata": {},
   "outputs": [
    {
     "name": "stdout",
     "output_type": "stream",
     "text": [
      "2\n",
      "4\n",
      "6\n",
      "8\n",
      "10\n"
     ]
    }
   ],
   "source": [
    "l=[2, 4, 6, 8, 10, 12, 14,16, 18, 20]\n",
    "iters=iter(l)\n",
    "for i in range(5):\n",
    "    print(next(iters))"
   ]
  },
  {
   "cell_type": "markdown",
   "id": "9a4b49a3-6f84-44f3-b637-6bce6fca3861",
   "metadata": {},
   "source": [
    "#### Qus-4) What is a generator function in python? Why yield keyword is used? Give an example of a generator function.\n",
    "\n",
    "Ans-4) A generator-function is a special type of function , but whenever it needs to generate a value, it does so with the yield keyword rather than return. If the body of a def contains yield, the function automatically becomes a generator function"
   ]
  },
  {
   "cell_type": "code",
   "execution_count": 5,
   "id": "96567d2c-32cf-4a99-9101-7a5d43e578b2",
   "metadata": {},
   "outputs": [
    {
     "name": "stdout",
     "output_type": "stream",
     "text": [
      "1,4,9,16,25,36,49,64,81,100,"
     ]
    }
   ],
   "source": [
    "def yields_fun():\n",
    "    n=1\n",
    "    while True:\n",
    "        yield n**2\n",
    "        n+=1\n",
    "square_root=yields_fun()\n",
    "for i in range(10):\n",
    "    print(next(square_root),end=\",\")"
   ]
  },
  {
   "cell_type": "code",
   "execution_count": 6,
   "id": "ac8bd4d6-bc9b-4ad8-8136-8f49cf0588e5",
   "metadata": {},
   "outputs": [],
   "source": [
    "# Quirey in this pless\n",
    "# for i in range(10):\n",
    "#     print(next(yields_fun()),end=\",\")"
   ]
  },
  {
   "cell_type": "markdown",
   "id": "b2b08175-99de-41d6-9fd4-34773cf98ce5",
   "metadata": {},
   "source": [
    "#### Qus-5) Create a generator function for prime numbers less than 1000. Use the next() method to print the first 20 prime numbers."
   ]
  },
  {
   "cell_type": "code",
   "execution_count": 7,
   "id": "4a42ab32-515d-4d04-b3e0-399417e59494",
   "metadata": {},
   "outputs": [
    {
     "name": "stdout",
     "output_type": "stream",
     "text": [
      "2,3,5,7,11,13,17,19,23,29,31,37,41,43,47,53,59,61,67,71,"
     ]
    }
   ],
   "source": [
    "def yields_fun1(n):\n",
    "    for i in range(1,n):\n",
    "        count=0 \n",
    "        for j in range(1,n+1):\n",
    "            if i%j==0:\n",
    "                count+=1\n",
    "        if count==2:\n",
    "            yield i\n",
    "            # print(\"****\",i)\n",
    "\n",
    "fun1=yields_fun1(1000)\n",
    "for a in range(20):\n",
    "    print(next(fun1),end=\",\")"
   ]
  },
  {
   "cell_type": "markdown",
   "id": "809aa792-de22-49cd-8b93-7d645b4bbf6d",
   "metadata": {},
   "source": [
    "#### Qus-6) Write a python program to print the first 10 Fibonacci numbers using a while loop."
   ]
  },
  {
   "cell_type": "code",
   "execution_count": 8,
   "id": "ce9b9eff-c5cc-4332-95b6-6d16a1ccc8d3",
   "metadata": {},
   "outputs": [
    {
     "name": "stdout",
     "output_type": "stream",
     "text": [
      "0\n",
      "1\n",
      "1\n",
      "2\n",
      "3\n",
      "5\n",
      "8\n",
      "13\n",
      "21\n",
      "34\n"
     ]
    }
   ],
   "source": [
    "def fibonacci():\n",
    "    a,b=0,1\n",
    "    while True:\n",
    "        yield a\n",
    "        a,b=b,a+b\n",
    "fib=fibonacci()\n",
    "for i in range(10):\n",
    "    print(next(fib))"
   ]
  },
  {
   "cell_type": "markdown",
   "id": "47d49866-dd85-4b62-813b-80caf23a7a01",
   "metadata": {
    "tags": []
   },
   "source": [
    "### Qus-7) Write a List Comprehension to iterate through the given string: ‘pwskills’. Expected output: ['p', 'w', 's', 'k', 'i', 'l', 'l', 's']"
   ]
  },
  {
   "cell_type": "code",
   "execution_count": 9,
   "id": "47ce13c0-12db-4399-94d2-af9466361a40",
   "metadata": {},
   "outputs": [
    {
     "data": {
      "text/plain": [
       "['p', 'w', 's', 'k', 'i', 'l', 'l', 's']"
      ]
     },
     "execution_count": 9,
     "metadata": {},
     "output_type": "execute_result"
    }
   ],
   "source": [
    "string='pwskills'\n",
    "\n",
    "[i for i in string]"
   ]
  },
  {
   "cell_type": "markdown",
   "id": "ae0b5912-df82-482b-9453-678612d27bfc",
   "metadata": {},
   "source": [
    "#### Qus-8) Write a python program to check whether a given number is Palindrome or not using a while loop."
   ]
  },
  {
   "cell_type": "code",
   "execution_count": 10,
   "id": "dce8150a-9747-4d41-83a6-5d51c7945e89",
   "metadata": {},
   "outputs": [
    {
     "name": "stdin",
     "output_type": "stream",
     "text": [
      "Chack is Palindrome or not:-  12321\n"
     ]
    },
    {
     "name": "stdout",
     "output_type": "stream",
     "text": [
      "It is Palindrome\n"
     ]
    }
   ],
   "source": [
    "n=input(\"Chack is Palindrome or not:- \")\n",
    "f= lambda n : print(\"It is Palindrome\") if n.lower()==n[::-1].lower() else print(\"It is not Palindrome\")\n",
    "f(str(n))"
   ]
  },
  {
   "cell_type": "markdown",
   "id": "5896e866-8890-43ad-8983-5841f2a98c74",
   "metadata": {},
   "source": [
    "#### Qus-9) Write a code to print odd numbers from 1 to 100 using list comprehension.\n",
    "**Note:** Use a list comprehension to create a list from 1 to 100 and use another List comprehension to filter\n",
    "out odd numbers."
   ]
  },
  {
   "cell_type": "code",
   "execution_count": 11,
   "id": "b5a029cf-0c72-4f97-a196-2cbb36de7104",
   "metadata": {},
   "outputs": [
    {
     "name": "stdout",
     "output_type": "stream",
     "text": [
      "[1, 3, 5, 7, 9, 11, 13, 15, 17, 19, 21, 23, 25, 27, 29, 31, 33, 35, 37, 39, 41, 43, 45, 47, 49, 51, 53, 55, 57, 59, 61, 63, 65, 67, 69, 71, 73, 75, 77, 79, 81, 83, 85, 87, 89, 91, 93, 95, 97, 99]\n"
     ]
    }
   ],
   "source": [
    "l=[i for i in range(1,101) if i%2==1 ]\n",
    "print(l)"
   ]
  }
 ],
 "metadata": {
  "kernelspec": {
   "display_name": "Python 3 (ipykernel)",
   "language": "python",
   "name": "python3"
  },
  "language_info": {
   "codemirror_mode": {
    "name": "ipython",
    "version": 3
   },
   "file_extension": ".py",
   "mimetype": "text/x-python",
   "name": "python",
   "nbconvert_exporter": "python",
   "pygments_lexer": "ipython3",
   "version": "3.10.8"
  }
 },
 "nbformat": 4,
 "nbformat_minor": 5
}
